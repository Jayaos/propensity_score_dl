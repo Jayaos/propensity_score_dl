{
 "cells": [
  {
   "cell_type": "code",
   "execution_count": 1,
   "id": "8fb7984c",
   "metadata": {
    "scrolled": true
   },
   "outputs": [],
   "source": [
    "from src.OccurrenceCount import *\n",
    "from src.utils import *\n",
    "import matplotlib.pyplot as plt"
   ]
  },
  {
   "cell_type": "code",
   "execution_count": null,
   "id": "3684f87c",
   "metadata": {
    "scrolled": true
   },
   "outputs": [],
   "source": []
  },
  {
   "cell_type": "code",
   "execution_count": 2,
   "id": "b265dc79",
   "metadata": {
    "scrolled": true
   },
   "outputs": [],
   "source": [
    "params = {\"record_len_mean\" : 10, \"record_dim\" : 100, \"alpha_range\" : [5,10], \"beta_range\" : [240,250],\n",
    "          \"record_len_min\" : 3, \"confounding_var_num\" : 1, \"progression_var_num\" : 3, \n",
    "          \"p_range\" :[50,60], \"treatment_effect\" : -5, \"outcome_bias\" : 10, \"alpha\" : 10,\n",
    "         \"ps_noise_var\" : 0.01, \"outcome_noise_var\" : 0.1, \"num_token_reserve\" : 4}"
   ]
  },
  {
   "cell_type": "code",
   "execution_count": 3,
   "id": "b6c9856b",
   "metadata": {
    "scrolled": true
   },
   "outputs": [],
   "source": [
    "EHR_OC = EHRgeneratorOC(params)"
   ]
  },
  {
   "cell_type": "code",
   "execution_count": 4,
   "id": "c387d93c",
   "metadata": {
    "scrolled": true
   },
   "outputs": [
    {
     "name": "stdout",
     "output_type": "stream",
     "text": [
      "setting progression_var and confounding_var\n",
      "progression_var : [66 61 33]\n",
      "confounding_var : [33]\n"
     ]
    }
   ],
   "source": [
    "EHR_OC.set_variables()"
   ]
  },
  {
   "cell_type": "code",
   "execution_count": 5,
   "id": "b3645116",
   "metadata": {
    "scrolled": true
   },
   "outputs": [
    {
     "name": "stdout",
     "output_type": "stream",
     "text": [
      "generating 12000 records\n"
     ]
    },
    {
     "name": "stderr",
     "output_type": "stream",
     "text": [
      "  1%|▍                                                                             | 61/12000 [00:00<00:20, 568.54it/s]"
     ]
    },
    {
     "name": "stdout",
     "output_type": "stream",
     "text": [
      "valid check...\n",
      "valid check...\n",
      "valid check...\n",
      "valid check...\n",
      "valid check...\n",
      "valid check...\n",
      "valid check...\n",
      "valid check...\n",
      "valid check...\n",
      "valid check...\n",
      "valid check...\n",
      "valid check...\n",
      "valid check...\n",
      "valid check...\n",
      "valid check...\n",
      "valid check...\n",
      "valid check...\n",
      "valid check...\n",
      "valid check...\n",
      "valid check...\n",
      "valid check...\n",
      "valid check...\n",
      "valid check...\n",
      "valid check...\n",
      "valid check...\n",
      "valid check...\n",
      "valid check...\n",
      "valid check...\n",
      "valid check...\n",
      "valid check...\n",
      "valid check...\n",
      "valid check...\n",
      "valid check...\n",
      "valid check...\n",
      "valid check...\n",
      "valid check...\n"
     ]
    },
    {
     "name": "stderr",
     "output_type": "stream",
     "text": [
      "  2%|█▎                                                                           | 200/12000 [00:00<00:18, 644.59it/s]"
     ]
    },
    {
     "name": "stdout",
     "output_type": "stream",
     "text": [
      "valid check...\n",
      "valid check...\n",
      "valid check...\n",
      "valid check...\n",
      "valid check...\n",
      "valid check...\n",
      "valid check...\n",
      "valid check...\n",
      "valid check...\n",
      "valid check...\n",
      "valid check...\n",
      "valid check...\n",
      "valid check...\n",
      "valid check...\n",
      "valid check...\n",
      "valid check...\n",
      "valid check...\n",
      "valid check...\n",
      "valid check...\n",
      "valid check...\n",
      "valid check...\n",
      "valid check...\n",
      "valid check...\n",
      "valid check...\n",
      "valid check...\n",
      "valid check...\n",
      "valid check...\n",
      "valid check...\n",
      "valid check...\n",
      "valid check...\n",
      "valid check...\n",
      "valid check...\n",
      "valid check...\n",
      "valid check...\n",
      "valid check...\n",
      "valid check...\n",
      "valid check...\n",
      "valid check...\n",
      "valid check...\n",
      "valid check...\n",
      "valid check...\n",
      "valid check...\n",
      "valid check...\n"
     ]
    },
    {
     "name": "stderr",
     "output_type": "stream",
     "text": [
      "\r",
      "  2%|█▊                                                                           | 279/12000 [00:00<00:17, 687.07it/s]"
     ]
    },
    {
     "name": "stdout",
     "output_type": "stream",
     "text": [
      "valid check...\n",
      "valid check...\n",
      "valid check...\n",
      "valid check...\n"
     ]
    },
    {
     "name": "stderr",
     "output_type": "stream",
     "text": [
      "\r",
      "  3%|██▏                                                                          | 348/12000 [00:00<00:16, 687.27it/s]"
     ]
    },
    {
     "name": "stdout",
     "output_type": "stream",
     "text": [
      "valid check...\n",
      "valid check...\n",
      "valid check...\n",
      "valid check...\n",
      "valid check...\n",
      "valid check...\n",
      "valid check...\n",
      "valid check...\n",
      "valid check...\n",
      "valid check...\n",
      "valid check...\n",
      "valid check...\n",
      "valid check...\n",
      "valid check...\n",
      "valid check...\n",
      "valid check...\n",
      "valid check...\n",
      "valid check...\n",
      "valid check...\n",
      "valid check...\n",
      "valid check...\n",
      "valid check...\n",
      "valid check...\n",
      "valid check...\n",
      "valid check...\n",
      "valid check...\n",
      "valid check...\n",
      "valid check...\n",
      "valid check...\n",
      "valid check...\n",
      "valid check...\n",
      "valid check...\n",
      "valid check...\n",
      "valid check...\n",
      "valid check...\n",
      "valid check...\n",
      "valid check...\n"
     ]
    },
    {
     "name": "stderr",
     "output_type": "stream",
     "text": [
      "  4%|███▏                                                                         | 496/12000 [00:00<00:16, 699.01it/s]"
     ]
    },
    {
     "name": "stdout",
     "output_type": "stream",
     "text": [
      "valid check...\n",
      "valid check...\n",
      "valid check...\n",
      "valid check...\n",
      "valid check...\n",
      "valid check...\n",
      "valid check...\n",
      "valid check...\n",
      "valid check...\n",
      "valid check...\n",
      "valid check...\n",
      "valid check...\n",
      "valid check...\n",
      "valid check...\n",
      "valid check...\n",
      "valid check...\n",
      "valid check...\n",
      "valid check...\n",
      "valid check...\n",
      "valid check...\n",
      "valid check...\n",
      "valid check...\n",
      "valid check...\n",
      "valid check...\n",
      "valid check...\n",
      "valid check...\n",
      "valid check...\n",
      "valid check...\n",
      "valid check...\n",
      "valid check...\n",
      "valid check...\n",
      "valid check...\n",
      "valid check...\n",
      "valid check...\n",
      "valid check...\n",
      "valid check...\n",
      "valid check...\n",
      "valid check...\n",
      "valid check...\n",
      "valid check...\n",
      "valid check...\n",
      "valid check...\n",
      "valid check...\n",
      "valid check...\n"
     ]
    },
    {
     "name": "stderr",
     "output_type": "stream",
     "text": [
      "  5%|████▏                                                                        | 649/12000 [00:00<00:16, 697.77it/s]"
     ]
    },
    {
     "name": "stdout",
     "output_type": "stream",
     "text": [
      "valid check...\n",
      "valid check...\n",
      "valid check...\n",
      "valid check...\n",
      "valid check...\n",
      "valid check...\n",
      "valid check...\n",
      "valid check...\n",
      "valid check...\n",
      "valid check...\n",
      "valid check...\n",
      "valid check...\n",
      "valid check...\n",
      "valid check...\n",
      "valid check...\n",
      "valid check...\n",
      "valid check...\n",
      "valid check...\n",
      "valid check...\n",
      "valid check...\n",
      "valid check...\n",
      "valid check...\n",
      "valid check...\n",
      "valid check...\n",
      "valid check...\n",
      "valid check...\n",
      "valid check...\n",
      "valid check...\n",
      "valid check...\n",
      "valid check...\n",
      "valid check...\n",
      "valid check...\n",
      "valid check...\n",
      "valid check...\n",
      "valid check...\n",
      "valid check...\n",
      "valid check...\n",
      "valid check...\n",
      "valid check...\n",
      "valid check...\n",
      "valid check...\n",
      "valid check...\n",
      "valid check...\n",
      "valid check...\n",
      "valid check...\n",
      "valid check...\n",
      "valid check...\n",
      "valid check...\n",
      "valid check...\n"
     ]
    },
    {
     "name": "stderr",
     "output_type": "stream",
     "text": [
      "\r",
      "  6%|████▌                                                                        | 719/12000 [00:01<00:17, 647.07it/s]"
     ]
    },
    {
     "name": "stdout",
     "output_type": "stream",
     "text": [
      "valid check...\n",
      "valid check...\n",
      "valid check...\n",
      "valid check...\n",
      "valid check...\n",
      "valid check...\n",
      "valid check...\n",
      "valid check...\n",
      "valid check...\n",
      "valid check...\n",
      "valid check...\n",
      "valid check...\n",
      "valid check...\n",
      "valid check...\n",
      "valid check...\n",
      "valid check...\n"
     ]
    },
    {
     "name": "stderr",
     "output_type": "stream",
     "text": [
      "\r",
      "  7%|█████                                                                        | 785/12000 [00:01<00:22, 509.15it/s]"
     ]
    },
    {
     "name": "stdout",
     "output_type": "stream",
     "text": [
      "valid check...\n",
      "valid check...\n",
      "valid check...\n",
      "valid check...\n",
      "valid check...\n",
      "valid check...\n",
      "valid check...\n",
      "valid check...\n",
      "valid check...\n",
      "valid check...\n",
      "valid check...\n",
      "valid check...\n",
      "valid check...\n",
      "valid check...\n",
      "valid check...\n",
      "valid check...\n",
      "valid check...\n"
     ]
    },
    {
     "name": "stderr",
     "output_type": "stream",
     "text": [
      "  7%|█████▋                                                                       | 890/12000 [00:01<00:27, 409.90it/s]"
     ]
    },
    {
     "name": "stdout",
     "output_type": "stream",
     "text": [
      "valid check...\n",
      "valid check...\n",
      "valid check...\n",
      "valid check...\n",
      "valid check...\n",
      "valid check...\n",
      "valid check...\n",
      "valid check...\n",
      "valid check...\n",
      "valid check...\n",
      "valid check...\n",
      "valid check...\n",
      "valid check...\n",
      "valid check...\n",
      "valid check...\n",
      "valid check...\n",
      "valid check...\n",
      "valid check...\n",
      "valid check...\n",
      "valid check...\n",
      "valid check...\n",
      "valid check...\n",
      "valid check...\n",
      "valid check...\n",
      "valid check...\n"
     ]
    },
    {
     "name": "stderr",
     "output_type": "stream",
     "text": [
      "\r",
      "  8%|█████▉                                                                       | 934/12000 [00:01<00:29, 372.72it/s]"
     ]
    },
    {
     "name": "stdout",
     "output_type": "stream",
     "text": [
      "valid check...\n",
      "valid check...\n",
      "valid check...\n",
      "valid check...\n",
      "valid check...\n",
      "valid check...\n",
      "valid check...\n",
      "valid check...\n",
      "valid check...\n",
      "valid check...\n",
      "valid check...\n",
      "valid check...\n",
      "valid check...\n"
     ]
    },
    {
     "name": "stderr",
     "output_type": "stream",
     "text": [
      "\r",
      "  8%|██████▏                                                                      | 974/12000 [00:01<00:32, 341.78it/s]"
     ]
    },
    {
     "name": "stdout",
     "output_type": "stream",
     "text": [
      "valid check...\n",
      "valid check...\n",
      "valid check...\n",
      "valid check...\n",
      "valid check...\n",
      "valid check...\n",
      "valid check...\n",
      "valid check...\n",
      "valid check...\n",
      "valid check...\n",
      "valid check...\n",
      "valid check...\n",
      "valid check...\n"
     ]
    },
    {
     "name": "stderr",
     "output_type": "stream",
     "text": [
      "  9%|██████▌                                                                     | 1042/12000 [00:02<00:37, 293.30it/s]"
     ]
    },
    {
     "name": "stdout",
     "output_type": "stream",
     "text": [
      "valid check...\n",
      "valid check...\n",
      "valid check...\n",
      "valid check...\n",
      "valid check...\n",
      "valid check...\n",
      "valid check...\n",
      "valid check...\n",
      "valid check...\n",
      "valid check...\n",
      "valid check...\n",
      "valid check...\n",
      "valid check...\n",
      "valid check...\n"
     ]
    },
    {
     "name": "stderr",
     "output_type": "stream",
     "text": [
      "  9%|███████                                                                     | 1109/12000 [00:02<00:36, 300.24it/s]"
     ]
    },
    {
     "name": "stdout",
     "output_type": "stream",
     "text": [
      "valid check...\n",
      "valid check...\n",
      "valid check...\n",
      "valid check...\n",
      "valid check...\n",
      "valid check...\n",
      "valid check...\n",
      "valid check...\n",
      "valid check...\n",
      "valid check...\n",
      "valid check...\n",
      "valid check...\n",
      "valid check...\n",
      "valid check...\n",
      "valid check...\n",
      "valid check...\n",
      "valid check...\n",
      "valid check...\n",
      "valid check...\n",
      "valid check...\n",
      "valid check...\n",
      "valid check...\n",
      "valid check...\n",
      "valid check...\n",
      "valid check...\n"
     ]
    },
    {
     "name": "stderr",
     "output_type": "stream",
     "text": [
      " 10%|███████▍                                                                    | 1175/12000 [00:02<00:35, 303.30it/s]"
     ]
    },
    {
     "name": "stdout",
     "output_type": "stream",
     "text": [
      "valid check...\n",
      "valid check...\n",
      "valid check...\n",
      "valid check...\n",
      "valid check...\n",
      "valid check...\n",
      "valid check...\n",
      "valid check...\n",
      "valid check...\n",
      "valid check...\n",
      "valid check...\n",
      "valid check...\n",
      "valid check...\n",
      "valid check...\n",
      "valid check...\n",
      "valid check...\n",
      "valid check...\n",
      "valid check...\n",
      "valid check...\n",
      "valid check...\n",
      "valid check...\n",
      "valid check...\n",
      "valid check...\n",
      "valid check...\n",
      "valid check...\n"
     ]
    },
    {
     "name": "stderr",
     "output_type": "stream",
     "text": [
      " 10%|███████▉                                                                    | 1244/12000 [00:02<00:34, 311.38it/s]"
     ]
    },
    {
     "name": "stdout",
     "output_type": "stream",
     "text": [
      "valid check...\n",
      "valid check...\n",
      "valid check...\n",
      "valid check...\n",
      "valid check...\n",
      "valid check...\n",
      "valid check...\n",
      "valid check...\n",
      "valid check...\n",
      "valid check...\n",
      "valid check...\n",
      "valid check...\n",
      "valid check...\n",
      "valid check...\n",
      "valid check...\n",
      "valid check...\n"
     ]
    },
    {
     "name": "stderr",
     "output_type": "stream",
     "text": [
      " 11%|████████▎                                                                   | 1311/12000 [00:03<00:34, 311.61it/s]"
     ]
    },
    {
     "name": "stdout",
     "output_type": "stream",
     "text": [
      "valid check...\n",
      "valid check...\n",
      "valid check...\n",
      "valid check...\n",
      "valid check...\n",
      "valid check...\n",
      "valid check...\n",
      "valid check...\n",
      "valid check...\n",
      "valid check...\n",
      "valid check...\n",
      "valid check...\n",
      "valid check...\n",
      "valid check...\n",
      "valid check...\n",
      "valid check...\n",
      "valid check...\n",
      "valid check...\n",
      "valid check...\n",
      "valid check...\n",
      "valid check...\n",
      "valid check...\n",
      "valid check...\n",
      "valid check...\n"
     ]
    },
    {
     "name": "stderr",
     "output_type": "stream",
     "text": [
      " 12%|████████▊                                                                   | 1383/12000 [00:03<00:32, 321.91it/s]"
     ]
    },
    {
     "name": "stdout",
     "output_type": "stream",
     "text": [
      "valid check...\n",
      "valid check...\n",
      "valid check...\n",
      "valid check...\n",
      "valid check...\n",
      "valid check...\n",
      "valid check...\n",
      "valid check...\n",
      "valid check...\n",
      "valid check...\n",
      "valid check...\n",
      "valid check...\n",
      "valid check...\n",
      "valid check...\n",
      "valid check...\n",
      "valid check...\n",
      "valid check...\n",
      "valid check...\n",
      "valid check...\n"
     ]
    },
    {
     "name": "stderr",
     "output_type": "stream",
     "text": [
      " 12%|█████████▏                                                                  | 1451/12000 [00:03<00:33, 317.79it/s]"
     ]
    },
    {
     "name": "stdout",
     "output_type": "stream",
     "text": [
      "valid check...\n",
      "valid check...\n",
      "valid check...\n",
      "valid check...\n",
      "valid check...\n",
      "valid check...\n",
      "valid check...\n",
      "valid check...\n",
      "valid check...\n",
      "valid check...\n",
      "valid check...\n",
      "valid check...\n",
      "valid check...\n",
      "valid check...\n",
      "valid check...\n",
      "valid check...\n",
      "valid check...\n",
      "valid check...\n",
      "valid check...\n",
      "valid check...\n"
     ]
    },
    {
     "name": "stderr",
     "output_type": "stream",
     "text": [
      " 13%|█████████▌                                                                  | 1517/12000 [00:03<00:33, 311.50it/s]"
     ]
    },
    {
     "name": "stdout",
     "output_type": "stream",
     "text": [
      "valid check...\n",
      "valid check...\n",
      "valid check...\n",
      "valid check...\n",
      "valid check...\n",
      "valid check...\n",
      "valid check...\n",
      "valid check...\n",
      "valid check...\n",
      "valid check...\n",
      "valid check...\n",
      "valid check...\n",
      "valid check...\n",
      "valid check...\n",
      "valid check...\n",
      "valid check...\n",
      "valid check...\n",
      "valid check...\n",
      "valid check...\n",
      "valid check...\n",
      "valid check...\n",
      "valid check...\n"
     ]
    },
    {
     "name": "stderr",
     "output_type": "stream",
     "text": [
      " 13%|██████████                                                                  | 1585/12000 [00:03<00:33, 313.05it/s]"
     ]
    },
    {
     "name": "stdout",
     "output_type": "stream",
     "text": [
      "valid check...\n",
      "valid check...\n",
      "valid check...\n",
      "valid check...\n",
      "valid check...\n",
      "valid check...\n",
      "valid check...\n",
      "valid check...\n",
      "valid check...\n",
      "valid check...\n",
      "valid check...\n",
      "valid check...\n",
      "valid check...\n",
      "valid check...\n",
      "valid check...\n",
      "valid check...\n",
      "valid check...\n",
      "valid check...\n",
      "valid check...\n",
      "valid check...\n",
      "valid check...\n"
     ]
    },
    {
     "name": "stderr",
     "output_type": "stream",
     "text": [
      " 14%|██████████▍                                                                 | 1650/12000 [00:04<00:33, 308.64it/s]"
     ]
    },
    {
     "name": "stdout",
     "output_type": "stream",
     "text": [
      "valid check...\n",
      "valid check...\n",
      "valid check...\n",
      "valid check...\n",
      "valid check...\n",
      "valid check...\n",
      "valid check...\n",
      "valid check...\n",
      "valid check...\n",
      "valid check...\n",
      "valid check...\n",
      "valid check...\n",
      "valid check...\n",
      "valid check...\n",
      "valid check...\n",
      "valid check...\n",
      "valid check...\n",
      "valid check...\n",
      "valid check...\n",
      "valid check...\n",
      "valid check...\n",
      "valid check...\n"
     ]
    },
    {
     "name": "stderr",
     "output_type": "stream",
     "text": [
      " 14%|██████████▊                                                                 | 1716/12000 [00:04<00:33, 304.40it/s]"
     ]
    },
    {
     "name": "stdout",
     "output_type": "stream",
     "text": [
      "valid check...\n",
      "valid check...\n",
      "valid check...\n",
      "valid check...\n",
      "valid check...\n",
      "valid check...\n",
      "valid check...\n",
      "valid check...\n",
      "valid check...\n",
      "valid check...\n",
      "valid check...\n",
      "valid check...\n",
      "valid check...\n",
      "valid check...\n",
      "valid check...\n",
      "valid check...\n",
      "valid check...\n",
      "valid check...\n"
     ]
    },
    {
     "name": "stderr",
     "output_type": "stream",
     "text": [
      " 15%|███████████▎                                                                | 1782/12000 [00:04<00:33, 305.16it/s]"
     ]
    },
    {
     "name": "stdout",
     "output_type": "stream",
     "text": [
      "valid check...\n",
      "valid check...\n",
      "valid check...\n",
      "valid check...\n",
      "valid check...\n",
      "valid check...\n",
      "valid check...\n",
      "valid check...\n",
      "valid check...\n",
      "valid check...\n",
      "valid check...\n",
      "valid check...\n",
      "valid check...\n",
      "valid check...\n",
      "valid check...\n",
      "valid check...\n",
      "valid check...\n",
      "valid check...\n",
      "valid check...\n",
      "valid check...\n",
      "valid check...\n",
      "valid check...\n",
      "valid check...\n",
      "valid check...\n",
      "valid check...\n",
      "valid check...\n",
      "valid check...\n",
      "valid check...\n",
      "valid check...\n",
      "valid check...\n"
     ]
    },
    {
     "name": "stderr",
     "output_type": "stream",
     "text": [
      " 15%|███████████▋                                                                | 1853/12000 [00:04<00:32, 311.81it/s]"
     ]
    },
    {
     "name": "stdout",
     "output_type": "stream",
     "text": [
      "valid check...\n",
      "valid check...\n",
      "valid check...\n",
      "valid check...\n",
      "valid check...\n",
      "valid check...\n",
      "valid check...\n",
      "valid check...\n",
      "valid check...\n",
      "valid check...\n",
      "valid check...\n",
      "valid check...\n",
      "valid check...\n",
      "valid check...\n",
      "valid check...\n",
      "valid check...\n",
      "valid check...\n",
      "valid check...\n",
      "valid check...\n",
      "valid check...\n",
      "valid check...\n",
      "valid check...\n",
      "valid check...\n"
     ]
    },
    {
     "name": "stderr",
     "output_type": "stream",
     "text": [
      " 16%|████████████▏                                                               | 1921/12000 [00:05<00:31, 319.49it/s]"
     ]
    },
    {
     "name": "stdout",
     "output_type": "stream",
     "text": [
      "valid check...\n",
      "valid check...\n",
      "valid check...\n",
      "valid check...\n",
      "valid check...\n",
      "valid check...\n",
      "valid check...\n",
      "valid check...\n",
      "valid check...\n",
      "valid check...\n",
      "valid check...\n",
      "valid check...\n",
      "valid check...\n",
      "valid check...\n",
      "valid check...\n",
      "valid check...\n",
      "valid check...\n"
     ]
    },
    {
     "name": "stderr",
     "output_type": "stream",
     "text": [
      " 17%|████████████▌                                                               | 1990/12000 [00:05<00:31, 319.67it/s]"
     ]
    },
    {
     "name": "stdout",
     "output_type": "stream",
     "text": [
      "valid check...\n",
      "valid check...\n",
      "valid check...\n",
      "valid check...\n",
      "valid check...\n",
      "valid check...\n",
      "valid check...\n",
      "valid check...\n",
      "valid check...\n",
      "valid check...\n",
      "valid check...\n",
      "valid check...\n",
      "valid check...\n",
      "valid check...\n",
      "valid check...\n",
      "valid check...\n"
     ]
    },
    {
     "name": "stderr",
     "output_type": "stream",
     "text": [
      " 17%|█████████████                                                               | 2054/12000 [00:05<00:32, 307.95it/s]"
     ]
    },
    {
     "name": "stdout",
     "output_type": "stream",
     "text": [
      "valid check...\n",
      "valid check...\n",
      "valid check...\n",
      "valid check...\n",
      "valid check...\n",
      "valid check...\n",
      "valid check...\n",
      "valid check...\n",
      "valid check...\n",
      "valid check...\n",
      "valid check...\n",
      "valid check...\n"
     ]
    },
    {
     "name": "stderr",
     "output_type": "stream",
     "text": [
      "\r",
      " 17%|█████████████▏                                                              | 2088/12000 [00:05<00:32, 309.39it/s]"
     ]
    },
    {
     "name": "stdout",
     "output_type": "stream",
     "text": [
      "valid check...\n",
      "valid check...\n",
      "valid check...\n",
      "valid check...\n",
      "valid check...\n",
      "valid check...\n",
      "valid check...\n",
      "valid check...\n",
      "valid check...\n",
      "valid check...\n",
      "valid check...\n"
     ]
    },
    {
     "name": "stderr",
     "output_type": "stream",
     "text": [
      " 18%|█████████████▌                                                              | 2150/12000 [00:05<00:40, 243.94it/s]"
     ]
    },
    {
     "name": "stdout",
     "output_type": "stream",
     "text": [
      "valid check...\n",
      "valid check...\n",
      "valid check...\n",
      "valid check...\n",
      "valid check...\n",
      "valid check...\n",
      "valid check...\n",
      "valid check...\n",
      "valid check...\n",
      "valid check...\n",
      "valid check...\n",
      "valid check...\n",
      "valid check...\n",
      "valid check...\n",
      "valid check...\n",
      "valid check...\n",
      "valid check...\n"
     ]
    },
    {
     "name": "stderr",
     "output_type": "stream",
     "text": [
      " 18%|██████████████                                                              | 2215/12000 [00:06<00:36, 270.01it/s]"
     ]
    },
    {
     "name": "stdout",
     "output_type": "stream",
     "text": [
      "valid check...\n",
      "valid check...\n",
      "valid check...\n",
      "valid check...\n",
      "valid check...\n",
      "valid check...\n",
      "valid check...\n",
      "valid check...\n",
      "valid check...\n",
      "valid check...\n",
      "valid check...\n",
      "valid check...\n",
      "valid check...\n",
      "valid check...\n",
      "valid check...\n"
     ]
    },
    {
     "name": "stderr",
     "output_type": "stream",
     "text": [
      " 19%|██████████████▍                                                             | 2281/12000 [00:06<00:34, 284.67it/s]"
     ]
    },
    {
     "name": "stdout",
     "output_type": "stream",
     "text": [
      "valid check...\n",
      "valid check...\n",
      "valid check...\n",
      "valid check...\n",
      "valid check...\n",
      "valid check...\n",
      "valid check...\n",
      "valid check...\n",
      "valid check...\n",
      "valid check...\n",
      "valid check...\n",
      "valid check...\n",
      "valid check...\n"
     ]
    },
    {
     "name": "stderr",
     "output_type": "stream",
     "text": [
      " 20%|██████████████▊                                                             | 2347/12000 [00:06<00:32, 299.07it/s]"
     ]
    },
    {
     "name": "stdout",
     "output_type": "stream",
     "text": [
      "valid check...\n",
      "valid check...\n",
      "valid check...\n",
      "valid check...\n",
      "valid check...\n",
      "valid check...\n",
      "valid check...\n",
      "valid check...\n",
      "valid check...\n",
      "valid check...\n",
      "valid check...\n",
      "valid check...\n",
      "valid check...\n",
      "valid check...\n",
      "valid check...\n",
      "valid check...\n"
     ]
    },
    {
     "name": "stderr",
     "output_type": "stream",
     "text": [
      " 20%|███████████████▎                                                            | 2414/12000 [00:06<00:31, 305.55it/s]"
     ]
    },
    {
     "name": "stdout",
     "output_type": "stream",
     "text": [
      "valid check...\n",
      "valid check...\n",
      "valid check...\n",
      "valid check...\n",
      "valid check...\n",
      "valid check...\n",
      "valid check...\n",
      "valid check...\n",
      "valid check...\n",
      "valid check...\n",
      "valid check...\n",
      "valid check...\n",
      "valid check...\n",
      "valid check...\n",
      "valid check...\n",
      "valid check...\n",
      "valid check...\n",
      "valid check...\n"
     ]
    },
    {
     "name": "stderr",
     "output_type": "stream",
     "text": [
      " 21%|███████████████▋                                                            | 2477/12000 [00:06<00:31, 300.98it/s]"
     ]
    },
    {
     "name": "stdout",
     "output_type": "stream",
     "text": [
      "valid check...\n",
      "valid check...\n",
      "valid check...\n",
      "valid check...\n",
      "valid check...\n",
      "valid check...\n",
      "valid check...\n",
      "valid check...\n",
      "valid check...\n",
      "valid check...\n",
      "valid check...\n",
      "valid check...\n",
      "valid check...\n",
      "valid check...\n",
      "valid check...\n",
      "valid check...\n",
      "valid check...\n",
      "valid check...\n",
      "valid check...\n",
      "valid check...\n",
      "valid check...\n",
      "valid check...\n",
      "valid check...\n",
      "valid check...\n",
      "valid check...\n",
      "valid check...\n",
      "valid check...\n",
      "valid check...\n",
      "valid check...\n"
     ]
    },
    {
     "name": "stderr",
     "output_type": "stream",
     "text": [
      " 21%|████████████████                                                            | 2539/12000 [00:07<00:31, 304.94it/s]"
     ]
    },
    {
     "name": "stdout",
     "output_type": "stream",
     "text": [
      "valid check...\n",
      "valid check...\n",
      "valid check...\n",
      "valid check...\n",
      "valid check...\n",
      "valid check...\n",
      "valid check...\n",
      "valid check...\n",
      "valid check...\n",
      "valid check...\n",
      "valid check...\n",
      "valid check...\n",
      "valid check...\n",
      "valid check...\n",
      "valid check...\n",
      "valid check...\n",
      "valid check...\n",
      "valid check...\n",
      "valid check...\n",
      "valid check...\n",
      "valid check...\n",
      "valid check...\n",
      "valid check...\n",
      "valid check...\n",
      "valid check...\n",
      "valid check...\n",
      "valid check...\n"
     ]
    },
    {
     "name": "stderr",
     "output_type": "stream",
     "text": [
      " 22%|████████████████▍                                                           | 2603/12000 [00:07<00:30, 307.85it/s]"
     ]
    },
    {
     "name": "stdout",
     "output_type": "stream",
     "text": [
      "valid check...\n",
      "valid check...\n",
      "valid check...\n",
      "valid check...\n",
      "valid check...\n",
      "valid check...\n",
      "valid check...\n",
      "valid check...\n",
      "valid check...\n",
      "valid check...\n",
      "valid check...\n",
      "valid check...\n",
      "valid check...\n",
      "valid check...\n",
      "valid check...\n",
      "valid check...\n",
      "valid check...\n",
      "valid check...\n",
      "valid check...\n"
     ]
    },
    {
     "name": "stderr",
     "output_type": "stream",
     "text": [
      " 22%|████████████████▉                                                           | 2669/12000 [00:07<00:30, 307.69it/s]"
     ]
    },
    {
     "name": "stdout",
     "output_type": "stream",
     "text": [
      "valid check...\n",
      "valid check...\n",
      "valid check...\n",
      "valid check...\n",
      "valid check...\n",
      "valid check...\n",
      "valid check...\n",
      "valid check...\n",
      "valid check...\n",
      "valid check...\n",
      "valid check...\n",
      "valid check...\n",
      "valid check...\n",
      "valid check...\n",
      "valid check...\n",
      "valid check...\n",
      "valid check...\n",
      "valid check...\n",
      "valid check...\n",
      "valid check...\n",
      "valid check...\n",
      "valid check...\n",
      "valid check...\n",
      "valid check...\n"
     ]
    },
    {
     "name": "stderr",
     "output_type": "stream",
     "text": [
      " 23%|█████████████████▎                                                          | 2738/12000 [00:07<00:29, 312.92it/s]"
     ]
    },
    {
     "name": "stdout",
     "output_type": "stream",
     "text": [
      "valid check...\n",
      "valid check...\n",
      "valid check...\n",
      "valid check...\n",
      "valid check...\n",
      "valid check...\n",
      "valid check...\n",
      "valid check...\n",
      "valid check...\n",
      "valid check...\n",
      "valid check...\n",
      "valid check...\n",
      "valid check...\n",
      "valid check...\n",
      "valid check...\n",
      "valid check...\n",
      "valid check...\n",
      "valid check...\n",
      "valid check...\n",
      "valid check...\n",
      "valid check...\n",
      "valid check...\n"
     ]
    },
    {
     "name": "stderr",
     "output_type": "stream",
     "text": [
      " 23%|█████████████████▊                                                          | 2804/12000 [00:08<00:29, 309.53it/s]"
     ]
    },
    {
     "name": "stdout",
     "output_type": "stream",
     "text": [
      "valid check...\n",
      "valid check...\n",
      "valid check...\n",
      "valid check...\n",
      "valid check...\n",
      "valid check...\n",
      "valid check...\n",
      "valid check...\n",
      "valid check...\n",
      "valid check...\n",
      "valid check...\n",
      "valid check...\n",
      "valid check...\n",
      "valid check...\n",
      "valid check...\n",
      "valid check...\n",
      "valid check...\n",
      "valid check...\n"
     ]
    },
    {
     "name": "stderr",
     "output_type": "stream",
     "text": [
      " 24%|██████████████████▏                                                         | 2869/12000 [00:08<00:30, 304.09it/s]"
     ]
    },
    {
     "name": "stdout",
     "output_type": "stream",
     "text": [
      "valid check...\n",
      "valid check...\n",
      "valid check...\n",
      "valid check...\n",
      "valid check...\n",
      "valid check...\n",
      "valid check...\n",
      "valid check...\n",
      "valid check...\n",
      "valid check...\n",
      "valid check...\n"
     ]
    },
    {
     "name": "stderr",
     "output_type": "stream",
     "text": [
      " 24%|██████████████████▌                                                         | 2937/12000 [00:08<00:29, 307.94it/s]"
     ]
    },
    {
     "name": "stdout",
     "output_type": "stream",
     "text": [
      "valid check...\n",
      "valid check...\n",
      "valid check...\n",
      "valid check...\n",
      "valid check...\n",
      "valid check...\n",
      "valid check...\n",
      "valid check...\n",
      "valid check...\n",
      "valid check...\n",
      "valid check...\n",
      "valid check...\n",
      "valid check...\n",
      "valid check...\n",
      "valid check...\n",
      "valid check...\n",
      "valid check...\n",
      "valid check...\n",
      "valid check...\n",
      "valid check...\n",
      "valid check...\n",
      "valid check...\n",
      "valid check...\n",
      "valid check...\n"
     ]
    },
    {
     "name": "stderr",
     "output_type": "stream",
     "text": [
      " 25%|███████████████████                                                         | 3002/12000 [00:08<00:29, 308.29it/s]"
     ]
    },
    {
     "name": "stdout",
     "output_type": "stream",
     "text": [
      "valid check...\n",
      "valid check...\n",
      "valid check...\n",
      "valid check...\n",
      "valid check...\n",
      "valid check...\n",
      "valid check...\n",
      "valid check...\n",
      "valid check...\n",
      "valid check...\n",
      "valid check...\n",
      "valid check...\n",
      "valid check...\n",
      "valid check...\n",
      "valid check...\n",
      "valid check...\n",
      "valid check...\n",
      "valid check...\n",
      "valid check...\n",
      "valid check...\n",
      "valid check...\n",
      "valid check...\n"
     ]
    },
    {
     "name": "stderr",
     "output_type": "stream",
     "text": [
      " 26%|███████████████████▍                                                        | 3070/12000 [00:08<00:28, 308.53it/s]"
     ]
    },
    {
     "name": "stdout",
     "output_type": "stream",
     "text": [
      "valid check...\n",
      "valid check...\n",
      "valid check...\n",
      "valid check...\n",
      "valid check...\n",
      "valid check...\n",
      "valid check...\n",
      "valid check...\n",
      "valid check...\n",
      "valid check...\n",
      "valid check...\n",
      "valid check...\n",
      "valid check...\n",
      "valid check...\n",
      "valid check...\n",
      "valid check...\n",
      "valid check...\n",
      "valid check...\n",
      "valid check...\n",
      "valid check...\n",
      "valid check...\n",
      "valid check...\n",
      "valid check...\n",
      "valid check...\n",
      "valid check...\n",
      "valid check...\n",
      "valid check...\n"
     ]
    },
    {
     "name": "stderr",
     "output_type": "stream",
     "text": [
      " 26%|███████████████████▉                                                        | 3139/12000 [00:09<00:28, 314.84it/s]"
     ]
    },
    {
     "name": "stdout",
     "output_type": "stream",
     "text": [
      "valid check...\n",
      "valid check...\n",
      "valid check...\n",
      "valid check...\n",
      "valid check...\n",
      "valid check...\n",
      "valid check...\n",
      "valid check...\n",
      "valid check...\n",
      "valid check...\n",
      "valid check...\n",
      "valid check...\n",
      "valid check...\n",
      "valid check...\n",
      "valid check...\n",
      "valid check...\n",
      "valid check...\n",
      "valid check...\n"
     ]
    },
    {
     "name": "stderr",
     "output_type": "stream",
     "text": [
      " 27%|████████████████████▎                                                       | 3202/12000 [00:09<00:29, 297.10it/s]"
     ]
    },
    {
     "name": "stdout",
     "output_type": "stream",
     "text": [
      "valid check...\n",
      "valid check...\n",
      "valid check...\n",
      "valid check...\n",
      "valid check...\n",
      "valid check...\n",
      "valid check...\n",
      "valid check...\n",
      "valid check...\n",
      "valid check...\n",
      "valid check...\n",
      "valid check...\n",
      "valid check...\n",
      "valid check...\n",
      "valid check...\n",
      "valid check...\n",
      "valid check...\n",
      "valid check...\n",
      "valid check...\n",
      "valid check...\n",
      "valid check...\n"
     ]
    },
    {
     "name": "stderr",
     "output_type": "stream",
     "text": [
      " 27%|████████████████████▋                                                       | 3270/12000 [00:09<00:28, 304.54it/s]"
     ]
    },
    {
     "name": "stdout",
     "output_type": "stream",
     "text": [
      "valid check...\n",
      "valid check...\n",
      "valid check...\n",
      "valid check...\n",
      "valid check...\n",
      "valid check...\n",
      "valid check...\n",
      "valid check...\n",
      "valid check...\n",
      "valid check...\n",
      "valid check...\n",
      "valid check...\n",
      "valid check...\n",
      "valid check...\n",
      "valid check...\n",
      "valid check...\n",
      "valid check...\n",
      "valid check...\n",
      "valid check...\n",
      "valid check...\n",
      "valid check...\n",
      "valid check...\n"
     ]
    },
    {
     "name": "stderr",
     "output_type": "stream",
     "text": [
      " 28%|█████████████████████                                                       | 3334/12000 [00:09<00:32, 265.06it/s]"
     ]
    },
    {
     "name": "stdout",
     "output_type": "stream",
     "text": [
      "valid check...\n",
      "valid check...\n",
      "valid check...\n",
      "valid check...\n",
      "valid check...\n",
      "valid check...\n",
      "valid check...\n",
      "valid check...\n",
      "valid check...\n",
      "valid check...\n",
      "valid check...\n",
      "valid check...\n",
      "valid check...\n",
      "valid check...\n",
      "valid check...\n"
     ]
    },
    {
     "name": "stderr",
     "output_type": "stream",
     "text": [
      " 28%|█████████████████████▌                                                      | 3399/12000 [00:10<00:30, 282.81it/s]"
     ]
    },
    {
     "name": "stdout",
     "output_type": "stream",
     "text": [
      "valid check...\n",
      "valid check...\n",
      "valid check...\n",
      "valid check...\n",
      "valid check...\n",
      "valid check...\n",
      "valid check...\n",
      "valid check...\n",
      "valid check...\n",
      "valid check...\n",
      "valid check...\n",
      "valid check...\n",
      "valid check...\n",
      "valid check...\n",
      "valid check...\n",
      "valid check...\n",
      "valid check...\n",
      "valid check...\n"
     ]
    },
    {
     "name": "stderr",
     "output_type": "stream",
     "text": [
      " 29%|█████████████████████▉                                                      | 3462/12000 [00:10<00:29, 285.41it/s]"
     ]
    },
    {
     "name": "stdout",
     "output_type": "stream",
     "text": [
      "valid check...\n",
      "valid check...\n",
      "valid check...\n",
      "valid check...\n",
      "valid check...\n",
      "valid check...\n",
      "valid check...\n",
      "valid check...\n",
      "valid check...\n",
      "valid check...\n",
      "valid check...\n",
      "valid check...\n",
      "valid check...\n"
     ]
    },
    {
     "name": "stderr",
     "output_type": "stream",
     "text": [
      " 29%|██████████████████████▎                                                     | 3526/12000 [00:10<00:28, 294.09it/s]"
     ]
    },
    {
     "name": "stdout",
     "output_type": "stream",
     "text": [
      "valid check...\n",
      "valid check...\n",
      "valid check...\n",
      "valid check...\n",
      "valid check...\n",
      "valid check...\n",
      "valid check...\n",
      "valid check...\n",
      "valid check...\n",
      "valid check...\n",
      "valid check...\n",
      "valid check...\n",
      "valid check...\n",
      "valid check...\n",
      "valid check...\n",
      "valid check...\n",
      "valid check...\n",
      "valid check...\n",
      "valid check...\n",
      "valid check...\n",
      "valid check...\n",
      "valid check...\n"
     ]
    },
    {
     "name": "stderr",
     "output_type": "stream",
     "text": [
      " 30%|██████████████████████▋                                                     | 3585/12000 [00:10<00:29, 288.83it/s]"
     ]
    },
    {
     "name": "stdout",
     "output_type": "stream",
     "text": [
      "valid check...\n",
      "valid check...\n",
      "valid check...\n",
      "valid check...\n",
      "valid check...\n",
      "valid check...\n",
      "valid check...\n",
      "valid check...\n",
      "valid check...\n",
      "valid check...\n",
      "valid check...\n",
      "valid check...\n",
      "valid check...\n",
      "valid check...\n",
      "valid check...\n",
      "valid check...\n",
      "valid check...\n",
      "valid check...\n",
      "valid check...\n",
      "valid check...\n",
      "valid check...\n",
      "valid check...\n",
      "valid check...\n",
      "valid check...\n",
      "valid check...\n"
     ]
    },
    {
     "name": "stderr",
     "output_type": "stream",
     "text": [
      " 30%|███████████████████████                                                     | 3647/12000 [00:10<00:28, 293.36it/s]"
     ]
    },
    {
     "name": "stdout",
     "output_type": "stream",
     "text": [
      "valid check...\n",
      "valid check...\n",
      "valid check...\n",
      "valid check...\n",
      "valid check...\n",
      "valid check...\n",
      "valid check...\n",
      "valid check...\n",
      "valid check...\n",
      "valid check...\n",
      "valid check...\n",
      "valid check...\n",
      "valid check...\n",
      "valid check...\n",
      "valid check...\n"
     ]
    },
    {
     "name": "stderr",
     "output_type": "stream",
     "text": [
      " 31%|███████████████████████▍                                                    | 3707/12000 [00:11<00:29, 283.57it/s]"
     ]
    },
    {
     "name": "stdout",
     "output_type": "stream",
     "text": [
      "valid check...\n",
      "valid check...\n",
      "valid check...\n",
      "valid check...\n",
      "valid check...\n",
      "valid check...\n",
      "valid check...\n",
      "valid check...\n",
      "valid check...\n",
      "valid check...\n",
      "valid check...\n",
      "valid check...\n",
      "valid check...\n",
      "valid check...\n",
      "valid check...\n",
      "valid check...\n",
      "valid check...\n"
     ]
    },
    {
     "name": "stderr",
     "output_type": "stream",
     "text": [
      "\r",
      " 31%|███████████████████████▋                                                    | 3742/12000 [00:11<00:28, 292.00it/s]"
     ]
    },
    {
     "name": "stdout",
     "output_type": "stream",
     "text": [
      "valid check...\n",
      "valid check...\n",
      "valid check...\n",
      "valid check...\n",
      "valid check...\n",
      "valid check...\n",
      "valid check...\n",
      "valid check...\n",
      "valid check...\n",
      "valid check...\n",
      "valid check...\n",
      "valid check...\n",
      "valid check...\n",
      "valid check...\n",
      "valid check...\n",
      "valid check...\n",
      "valid check...\n"
     ]
    },
    {
     "name": "stderr",
     "output_type": "stream",
     "text": [
      " 32%|████████████████████████                                                    | 3805/12000 [00:11<00:28, 291.14it/s]"
     ]
    },
    {
     "name": "stdout",
     "output_type": "stream",
     "text": [
      "valid check...\n",
      "valid check...\n",
      "valid check...\n",
      "valid check...\n",
      "valid check...\n",
      "valid check...\n",
      "valid check...\n",
      "valid check...\n",
      "valid check...\n",
      "valid check...\n",
      "valid check...\n",
      "valid check...\n",
      "valid check...\n",
      "valid check...\n",
      "valid check...\n"
     ]
    },
    {
     "name": "stderr",
     "output_type": "stream",
     "text": [
      " 32%|████████████████████████▍                                                   | 3864/12000 [00:11<00:28, 284.56it/s]"
     ]
    },
    {
     "name": "stdout",
     "output_type": "stream",
     "text": [
      "valid check...\n",
      "valid check...\n",
      "valid check...\n",
      "valid check...\n",
      "valid check...\n",
      "valid check...\n",
      "valid check...\n",
      "valid check...\n",
      "valid check...\n",
      "valid check...\n",
      "valid check...\n",
      "valid check...\n",
      "valid check...\n"
     ]
    },
    {
     "name": "stderr",
     "output_type": "stream",
     "text": [
      " 33%|████████████████████████▊                                                   | 3921/12000 [00:11<00:31, 255.45it/s]"
     ]
    },
    {
     "name": "stdout",
     "output_type": "stream",
     "text": [
      "valid check...\n",
      "valid check...\n",
      "valid check...\n",
      "valid check...\n",
      "valid check...\n",
      "valid check...\n",
      "valid check...\n",
      "valid check...\n",
      "valid check...\n",
      "valid check...\n",
      "valid check...\n"
     ]
    },
    {
     "name": "stderr",
     "output_type": "stream",
     "text": [
      " 33%|█████████████████████████▎                                                  | 3990/12000 [00:12<00:27, 291.56it/s]"
     ]
    },
    {
     "name": "stdout",
     "output_type": "stream",
     "text": [
      "valid check...\n",
      "valid check...\n",
      "valid check...\n",
      "valid check...\n",
      "valid check...\n",
      "valid check...\n",
      "valid check...\n",
      "valid check...\n",
      "valid check...\n",
      "valid check...\n",
      "valid check...\n",
      "valid check...\n",
      "valid check...\n",
      "valid check...\n",
      "valid check...\n",
      "valid check...\n",
      "valid check...\n",
      "valid check...\n",
      "valid check...\n",
      "valid check...\n"
     ]
    },
    {
     "name": "stderr",
     "output_type": "stream",
     "text": [
      " 34%|█████████████████████████▋                                                  | 4052/12000 [00:12<00:29, 274.07it/s]"
     ]
    },
    {
     "name": "stdout",
     "output_type": "stream",
     "text": [
      "valid check...\n",
      "valid check...\n",
      "valid check...\n",
      "valid check...\n",
      "valid check...\n",
      "valid check...\n",
      "valid check...\n",
      "valid check...\n",
      "valid check...\n",
      "valid check...\n",
      "valid check...\n",
      "valid check...\n",
      "valid check...\n"
     ]
    },
    {
     "name": "stderr",
     "output_type": "stream",
     "text": [
      "\r",
      " 34%|█████████████████████████▉                                                  | 4088/12000 [00:12<00:27, 288.09it/s]"
     ]
    },
    {
     "name": "stdout",
     "output_type": "stream",
     "text": [
      "valid check...\n",
      "valid check...\n",
      "valid check...\n",
      "valid check...\n",
      "valid check...\n",
      "valid check...\n",
      "valid check...\n",
      "valid check...\n",
      "valid check...\n",
      "valid check...\n",
      "valid check...\n",
      "valid check...\n",
      "valid check...\n",
      "valid check...\n",
      "valid check...\n",
      "valid check...\n"
     ]
    },
    {
     "name": "stderr",
     "output_type": "stream",
     "text": [
      " 35%|██████████████████████████▎                                                 | 4153/12000 [00:12<00:28, 272.47it/s]"
     ]
    },
    {
     "name": "stdout",
     "output_type": "stream",
     "text": [
      "valid check...\n",
      "valid check...\n",
      "valid check...\n",
      "valid check...\n",
      "valid check...\n",
      "valid check...\n",
      "valid check...\n",
      "valid check...\n",
      "valid check...\n",
      "valid check...\n"
     ]
    },
    {
     "name": "stderr",
     "output_type": "stream",
     "text": [
      " 35%|██████████████████████████▋                                                 | 4212/12000 [00:12<00:28, 268.69it/s]"
     ]
    },
    {
     "name": "stdout",
     "output_type": "stream",
     "text": [
      "valid check...\n",
      "valid check...\n",
      "valid check...\n",
      "valid check...\n",
      "valid check...\n",
      "valid check...\n",
      "valid check...\n",
      "valid check...\n",
      "valid check...\n",
      "valid check...\n",
      "valid check...\n",
      "valid check...\n",
      "valid check...\n",
      "valid check...\n",
      "valid check...\n",
      "valid check...\n",
      "valid check...\n",
      "valid check...\n",
      "valid check...\n",
      "valid check...\n",
      "valid check...\n",
      "valid check...\n",
      "valid check...\n",
      "valid check...\n",
      "valid check...\n",
      "valid check...\n"
     ]
    },
    {
     "name": "stderr",
     "output_type": "stream",
     "text": [
      " 36%|███████████████████████████                                                 | 4276/12000 [00:13<00:26, 287.62it/s]"
     ]
    },
    {
     "name": "stdout",
     "output_type": "stream",
     "text": [
      "valid check...\n",
      "valid check...\n",
      "valid check...\n",
      "valid check...\n",
      "valid check...\n",
      "valid check...\n",
      "valid check...\n",
      "valid check...\n",
      "valid check...\n",
      "valid check...\n",
      "valid check...\n",
      "valid check...\n",
      "valid check...\n",
      "valid check...\n",
      "valid check...\n",
      "valid check...\n",
      "valid check...\n",
      "valid check...\n",
      "valid check...\n",
      "valid check...\n"
     ]
    },
    {
     "name": "stderr",
     "output_type": "stream",
     "text": [
      " 36%|███████████████████████████▍                                                | 4339/12000 [00:13<00:25, 295.67it/s]"
     ]
    },
    {
     "name": "stdout",
     "output_type": "stream",
     "text": [
      "valid check...\n",
      "valid check...\n",
      "valid check...\n",
      "valid check...\n",
      "valid check...\n",
      "valid check...\n",
      "valid check...\n",
      "valid check...\n",
      "valid check...\n",
      "valid check...\n",
      "valid check...\n",
      "valid check...\n",
      "valid check...\n",
      "valid check...\n",
      "valid check...\n",
      "valid check...\n",
      "valid check...\n"
     ]
    },
    {
     "name": "stderr",
     "output_type": "stream",
     "text": [
      " 37%|███████████████████████████▉                                                | 4402/12000 [00:13<00:26, 291.26it/s]"
     ]
    },
    {
     "name": "stdout",
     "output_type": "stream",
     "text": [
      "valid check...\n",
      "valid check...\n",
      "valid check...\n",
      "valid check...\n",
      "valid check...\n",
      "valid check...\n",
      "valid check...\n",
      "valid check...\n",
      "valid check...\n",
      "valid check...\n",
      "valid check...\n",
      "valid check...\n",
      "valid check...\n",
      "valid check...\n",
      "valid check...\n",
      "valid check...\n",
      "valid check...\n",
      "valid check...\n",
      "valid check...\n",
      "valid check...\n",
      "valid check...\n"
     ]
    },
    {
     "name": "stderr",
     "output_type": "stream",
     "text": [
      " 37%|████████████████████████████▎                                               | 4465/12000 [00:13<00:26, 287.17it/s]"
     ]
    },
    {
     "name": "stdout",
     "output_type": "stream",
     "text": [
      "valid check...\n",
      "valid check...\n",
      "valid check...\n",
      "valid check...\n",
      "valid check...\n",
      "valid check...\n",
      "valid check...\n",
      "valid check...\n",
      "valid check...\n",
      "valid check...\n",
      "valid check...\n",
      "valid check...\n",
      "valid check...\n",
      "valid check...\n",
      "valid check...\n"
     ]
    },
    {
     "name": "stderr",
     "output_type": "stream",
     "text": [
      " 38%|████████████████████████████▋                                               | 4531/12000 [00:13<00:24, 301.32it/s]"
     ]
    },
    {
     "name": "stdout",
     "output_type": "stream",
     "text": [
      "valid check...\n",
      "valid check...\n",
      "valid check...\n",
      "valid check...\n",
      "valid check...\n",
      "valid check...\n",
      "valid check...\n",
      "valid check...\n",
      "valid check...\n",
      "valid check...\n",
      "valid check...\n",
      "valid check...\n",
      "valid check...\n",
      "valid check...\n",
      "valid check...\n",
      "valid check...\n",
      "valid check...\n",
      "valid check...\n",
      "valid check...\n",
      "valid check...\n",
      "valid check...\n",
      "valid check...\n"
     ]
    },
    {
     "name": "stderr",
     "output_type": "stream",
     "text": [
      " 38%|█████████████████████████████                                               | 4594/12000 [00:14<00:25, 291.06it/s]"
     ]
    },
    {
     "name": "stdout",
     "output_type": "stream",
     "text": [
      "valid check...\n",
      "valid check...\n",
      "valid check...\n",
      "valid check...\n",
      "valid check...\n",
      "valid check...\n",
      "valid check...\n",
      "valid check...\n",
      "valid check...\n",
      "valid check...\n",
      "valid check...\n",
      "valid check...\n",
      "valid check...\n"
     ]
    },
    {
     "name": "stderr",
     "output_type": "stream",
     "text": [
      " 39%|█████████████████████████████▍                                              | 4653/12000 [00:14<00:26, 279.73it/s]"
     ]
    },
    {
     "name": "stdout",
     "output_type": "stream",
     "text": [
      "valid check...\n",
      "valid check...\n",
      "valid check...\n",
      "valid check...\n",
      "valid check...\n",
      "valid check...\n",
      "valid check...\n",
      "valid check...\n",
      "valid check...\n",
      "valid check...\n",
      "valid check...\n",
      "valid check...\n",
      "valid check...\n",
      "valid check...\n",
      "valid check...\n",
      "valid check...\n",
      "valid check...\n",
      "valid check...\n"
     ]
    },
    {
     "name": "stderr",
     "output_type": "stream",
     "text": [
      " 39%|█████████████████████████████▉                                              | 4719/12000 [00:14<00:24, 300.48it/s]"
     ]
    },
    {
     "name": "stdout",
     "output_type": "stream",
     "text": [
      "valid check...\n",
      "valid check...\n",
      "valid check...\n",
      "valid check...\n",
      "valid check...\n",
      "valid check...\n",
      "valid check...\n",
      "valid check...\n",
      "valid check...\n",
      "valid check...\n",
      "valid check...\n",
      "valid check...\n",
      "valid check...\n",
      "valid check...\n",
      "valid check...\n",
      "valid check...\n",
      "valid check...\n",
      "valid check...\n",
      "valid check...\n"
     ]
    },
    {
     "name": "stderr",
     "output_type": "stream",
     "text": [
      " 40%|██████████████████████████████▎                                             | 4783/12000 [00:14<00:24, 296.43it/s]"
     ]
    },
    {
     "name": "stdout",
     "output_type": "stream",
     "text": [
      "valid check...\n",
      "valid check...\n",
      "valid check...\n",
      "valid check...\n",
      "valid check...\n",
      "valid check...\n",
      "valid check...\n",
      "valid check...\n",
      "valid check...\n",
      "valid check...\n",
      "valid check...\n",
      "valid check...\n",
      "valid check...\n",
      "valid check...\n",
      "valid check...\n",
      "valid check...\n",
      "valid check...\n"
     ]
    },
    {
     "name": "stderr",
     "output_type": "stream",
     "text": [
      " 40%|██████████████████████████████▋                                             | 4848/12000 [00:15<00:23, 310.67it/s]"
     ]
    },
    {
     "name": "stdout",
     "output_type": "stream",
     "text": [
      "valid check...\n",
      "valid check...\n",
      "valid check...\n",
      "valid check...\n",
      "valid check...\n",
      "valid check...\n",
      "valid check...\n",
      "valid check...\n",
      "valid check...\n",
      "valid check...\n",
      "valid check...\n",
      "valid check...\n",
      "valid check...\n",
      "valid check...\n",
      "valid check...\n",
      "valid check...\n"
     ]
    },
    {
     "name": "stderr",
     "output_type": "stream",
     "text": [
      " 41%|███████████████████████████████                                             | 4912/12000 [00:15<00:23, 306.67it/s]"
     ]
    },
    {
     "name": "stdout",
     "output_type": "stream",
     "text": [
      "valid check...\n",
      "valid check...\n",
      "valid check...\n",
      "valid check...\n",
      "valid check...\n",
      "valid check...\n",
      "valid check...\n",
      "valid check...\n",
      "valid check...\n",
      "valid check...\n",
      "valid check...\n",
      "valid check...\n",
      "valid check...\n",
      "valid check...\n",
      "valid check...\n",
      "valid check...\n",
      "valid check...\n"
     ]
    },
    {
     "name": "stderr",
     "output_type": "stream",
     "text": [
      " 41%|███████████████████████████████▌                                            | 4978/12000 [00:15<00:22, 307.92it/s]"
     ]
    },
    {
     "name": "stdout",
     "output_type": "stream",
     "text": [
      "valid check...\n",
      "valid check...\n",
      "valid check...\n",
      "valid check...\n",
      "valid check...\n",
      "valid check...\n",
      "valid check...\n",
      "valid check...\n",
      "valid check...\n",
      "valid check...\n",
      "valid check...\n",
      "valid check...\n",
      "valid check...\n",
      "valid check...\n",
      "valid check...\n"
     ]
    },
    {
     "name": "stderr",
     "output_type": "stream",
     "text": [
      " 42%|███████████████████████████████▉                                            | 5043/12000 [00:15<00:23, 297.66it/s]"
     ]
    },
    {
     "name": "stdout",
     "output_type": "stream",
     "text": [
      "valid check...\n",
      "valid check...\n",
      "valid check...\n",
      "valid check...\n",
      "valid check...\n",
      "valid check...\n",
      "valid check...\n",
      "valid check...\n",
      "valid check...\n",
      "valid check...\n",
      "valid check...\n",
      "valid check...\n",
      "valid check...\n",
      "valid check...\n",
      "valid check...\n",
      "valid check...\n",
      "valid check...\n",
      "valid check...\n",
      "valid check...\n",
      "valid check...\n",
      "valid check...\n",
      "valid check...\n",
      "valid check...\n",
      "valid check...\n"
     ]
    },
    {
     "name": "stderr",
     "output_type": "stream",
     "text": [
      " 43%|████████████████████████████████▎                                           | 5107/12000 [00:15<00:22, 300.94it/s]"
     ]
    },
    {
     "name": "stdout",
     "output_type": "stream",
     "text": [
      "valid check...\n",
      "valid check...\n",
      "valid check...\n",
      "valid check...\n",
      "valid check...\n",
      "valid check...\n",
      "valid check...\n",
      "valid check...\n",
      "valid check...\n",
      "valid check...\n",
      "valid check...\n",
      "valid check...\n",
      "valid check...\n",
      "valid check...\n",
      "valid check...\n",
      "valid check...\n",
      "valid check...\n",
      "valid check...\n",
      "valid check...\n",
      "valid check...\n"
     ]
    },
    {
     "name": "stderr",
     "output_type": "stream",
     "text": [
      "\r",
      " 43%|████████████████████████████████▌                                           | 5144/12000 [00:16<00:21, 311.95it/s]"
     ]
    },
    {
     "name": "stdout",
     "output_type": "stream",
     "text": [
      "valid check...\n",
      "valid check...\n",
      "valid check...\n",
      "valid check...\n",
      "valid check...\n",
      "valid check...\n",
      "valid check...\n",
      "valid check...\n",
      "valid check...\n",
      "valid check...\n",
      "valid check...\n",
      "valid check...\n",
      "valid check...\n",
      "valid check...\n",
      "valid check...\n",
      "valid check...\n"
     ]
    },
    {
     "name": "stderr",
     "output_type": "stream",
     "text": [
      " 43%|█████████████████████████████████                                           | 5215/12000 [00:16<00:21, 317.21it/s]"
     ]
    },
    {
     "name": "stdout",
     "output_type": "stream",
     "text": [
      "valid check...\n",
      "valid check...\n",
      "valid check...\n",
      "valid check...\n",
      "valid check...\n",
      "valid check...\n",
      "valid check...\n",
      "valid check...\n",
      "valid check...\n",
      "valid check...\n",
      "valid check...\n",
      "valid check...\n",
      "valid check...\n",
      "valid check...\n",
      "valid check...\n",
      "valid check...\n",
      "valid check...\n",
      "valid check...\n",
      "valid check...\n",
      "valid check...\n",
      "valid check...\n",
      "valid check...\n",
      "valid check...\n",
      "valid check...\n",
      "valid check...\n",
      "valid check...\n",
      "valid check...\n"
     ]
    },
    {
     "name": "stderr",
     "output_type": "stream",
     "text": [
      " 44%|█████████████████████████████████▍                                          | 5287/12000 [00:16<00:20, 321.40it/s]"
     ]
    },
    {
     "name": "stdout",
     "output_type": "stream",
     "text": [
      "valid check...\n",
      "valid check...\n",
      "valid check...\n",
      "valid check...\n",
      "valid check...\n",
      "valid check...\n",
      "valid check...\n",
      "valid check...\n",
      "valid check...\n",
      "valid check...\n",
      "valid check...\n",
      "valid check...\n",
      "valid check...\n",
      "valid check...\n",
      "valid check...\n",
      "valid check...\n",
      "valid check...\n",
      "valid check...\n",
      "valid check...\n",
      "valid check...\n",
      "valid check...\n",
      "valid check...\n",
      "valid check...\n"
     ]
    },
    {
     "name": "stderr",
     "output_type": "stream",
     "text": [
      " 45%|█████████████████████████████████▉                                          | 5356/12000 [00:16<00:20, 318.01it/s]"
     ]
    },
    {
     "name": "stdout",
     "output_type": "stream",
     "text": [
      "valid check...\n",
      "valid check...\n",
      "valid check...\n",
      "valid check...\n",
      "valid check...\n",
      "valid check...\n",
      "valid check...\n",
      "valid check...\n",
      "valid check...\n",
      "valid check...\n",
      "valid check...\n",
      "valid check...\n",
      "valid check...\n",
      "valid check...\n",
      "valid check...\n",
      "valid check...\n",
      "valid check...\n"
     ]
    },
    {
     "name": "stderr",
     "output_type": "stream",
     "text": [
      " 45%|██████████████████████████████████▍                                         | 5430/12000 [00:16<00:19, 328.84it/s]"
     ]
    },
    {
     "name": "stdout",
     "output_type": "stream",
     "text": [
      "valid check...\n",
      "valid check...\n",
      "valid check...\n",
      "valid check...\n",
      "valid check...\n",
      "valid check...\n",
      "valid check...\n",
      "valid check...\n",
      "valid check...\n",
      "valid check...\n",
      "valid check...\n",
      "valid check...\n",
      "valid check...\n",
      "valid check...\n",
      "valid check...\n",
      "valid check...\n",
      "valid check...\n",
      "valid check...\n",
      "valid check...\n",
      "valid check...\n",
      "valid check...\n",
      "valid check...\n",
      "valid check...\n",
      "valid check...\n",
      "valid check...\n"
     ]
    },
    {
     "name": "stderr",
     "output_type": "stream",
     "text": [
      " 46%|██████████████████████████████████▊                                         | 5503/12000 [00:17<00:19, 330.90it/s]"
     ]
    },
    {
     "name": "stdout",
     "output_type": "stream",
     "text": [
      "valid check...\n",
      "valid check...\n",
      "valid check...\n",
      "valid check...\n",
      "valid check...\n",
      "valid check...\n",
      "valid check...\n",
      "valid check...\n",
      "valid check...\n",
      "valid check...\n",
      "valid check...\n",
      "valid check...\n",
      "valid check...\n",
      "valid check...\n",
      "valid check...\n",
      "valid check...\n",
      "valid check...\n"
     ]
    },
    {
     "name": "stderr",
     "output_type": "stream",
     "text": [
      "\r",
      " 46%|███████████████████████████████████                                         | 5539/12000 [00:17<00:19, 330.14it/s]"
     ]
    },
    {
     "name": "stdout",
     "output_type": "stream",
     "text": [
      "valid check...\n",
      "valid check...\n",
      "valid check...\n",
      "valid check...\n",
      "valid check...\n",
      "valid check...\n",
      "valid check...\n",
      "valid check...\n",
      "valid check...\n",
      "valid check...\n",
      "valid check...\n",
      "valid check...\n",
      "valid check...\n",
      "valid check...\n",
      "valid check...\n",
      "valid check...\n",
      "valid check...\n"
     ]
    },
    {
     "name": "stderr",
     "output_type": "stream",
     "text": [
      " 47%|███████████████████████████████████▌                                        | 5610/12000 [00:17<00:19, 326.61it/s]"
     ]
    },
    {
     "name": "stdout",
     "output_type": "stream",
     "text": [
      "valid check...\n",
      "valid check...\n",
      "valid check...\n",
      "valid check...\n",
      "valid check...\n",
      "valid check...\n",
      "valid check...\n",
      "valid check...\n",
      "valid check...\n",
      "valid check...\n",
      "valid check...\n",
      "valid check...\n",
      "valid check...\n",
      "valid check...\n",
      "valid check...\n",
      "valid check...\n"
     ]
    },
    {
     "name": "stderr",
     "output_type": "stream",
     "text": [
      " 47%|███████████████████████████████████▉                                        | 5682/12000 [00:17<00:19, 331.16it/s]"
     ]
    },
    {
     "name": "stdout",
     "output_type": "stream",
     "text": [
      "valid check...\n",
      "valid check...\n",
      "valid check...\n",
      "valid check...\n",
      "valid check...\n",
      "valid check...\n",
      "valid check...\n",
      "valid check...\n",
      "valid check...\n",
      "valid check...\n",
      "valid check...\n",
      "valid check...\n",
      "valid check...\n",
      "valid check...\n",
      "valid check...\n",
      "valid check...\n",
      "valid check...\n",
      "valid check...\n"
     ]
    },
    {
     "name": "stderr",
     "output_type": "stream",
     "text": [
      " 48%|████████████████████████████████████▍                                       | 5751/12000 [00:17<00:19, 320.11it/s]"
     ]
    },
    {
     "name": "stdout",
     "output_type": "stream",
     "text": [
      "valid check...\n",
      "valid check...\n",
      "valid check...\n",
      "valid check...\n",
      "valid check...\n",
      "valid check...\n",
      "valid check...\n",
      "valid check...\n",
      "valid check...\n",
      "valid check...\n",
      "valid check...\n",
      "valid check...\n",
      "valid check...\n",
      "valid check...\n",
      "valid check...\n",
      "valid check...\n",
      "valid check...\n",
      "valid check...\n",
      "valid check...\n",
      "valid check...\n",
      "valid check...\n",
      "valid check...\n"
     ]
    },
    {
     "name": "stderr",
     "output_type": "stream",
     "text": [
      " 49%|████████████████████████████████████▉                                       | 5824/12000 [00:18<00:18, 326.34it/s]"
     ]
    },
    {
     "name": "stdout",
     "output_type": "stream",
     "text": [
      "valid check...\n",
      "valid check...\n",
      "valid check...\n",
      "valid check...\n",
      "valid check...\n",
      "valid check...\n",
      "valid check...\n",
      "valid check...\n",
      "valid check...\n",
      "valid check...\n",
      "valid check...\n",
      "valid check...\n",
      "valid check...\n",
      "valid check...\n",
      "valid check...\n",
      "valid check...\n",
      "valid check...\n",
      "valid check...\n",
      "valid check...\n",
      "valid check...\n",
      "valid check...\n",
      "valid check...\n",
      "valid check...\n"
     ]
    },
    {
     "name": "stderr",
     "output_type": "stream",
     "text": [
      " 49%|█████████████████████████████████████▎                                      | 5895/12000 [00:18<00:18, 324.04it/s]"
     ]
    },
    {
     "name": "stdout",
     "output_type": "stream",
     "text": [
      "valid check...\n",
      "valid check...\n",
      "valid check...\n",
      "valid check...\n",
      "valid check...\n",
      "valid check...\n",
      "valid check...\n",
      "valid check...\n",
      "valid check...\n",
      "valid check...\n",
      "valid check...\n",
      "valid check...\n",
      "valid check...\n",
      "valid check...\n",
      "valid check...\n",
      "valid check...\n",
      "valid check...\n",
      "valid check...\n",
      "valid check...\n",
      "valid check...\n",
      "valid check...\n",
      "valid check...\n"
     ]
    },
    {
     "name": "stderr",
     "output_type": "stream",
     "text": [
      " 50%|█████████████████████████████████████▊                                      | 5969/12000 [00:18<00:18, 330.97it/s]"
     ]
    },
    {
     "name": "stdout",
     "output_type": "stream",
     "text": [
      "valid check...\n",
      "valid check...\n",
      "valid check...\n",
      "valid check...\n",
      "valid check...\n",
      "valid check...\n",
      "valid check...\n",
      "valid check...\n",
      "valid check...\n",
      "valid check...\n",
      "valid check...\n",
      "valid check...\n",
      "valid check...\n",
      "valid check...\n",
      "valid check...\n",
      "valid check...\n",
      "valid check...\n"
     ]
    },
    {
     "name": "stderr",
     "output_type": "stream",
     "text": [
      " 50%|██████████████████████████████████████▏                                     | 6039/12000 [00:18<00:18, 323.76it/s]"
     ]
    },
    {
     "name": "stdout",
     "output_type": "stream",
     "text": [
      "valid check...\n",
      "valid check...\n",
      "valid check...\n",
      "valid check...\n",
      "valid check...\n",
      "valid check...\n",
      "valid check...\n",
      "valid check...\n",
      "valid check...\n",
      "valid check...\n",
      "valid check...\n",
      "valid check...\n",
      "valid check...\n",
      "valid check...\n",
      "valid check...\n",
      "valid check...\n",
      "valid check...\n",
      "valid check...\n",
      "valid check...\n",
      "valid check...\n",
      "valid check...\n",
      "valid check...\n"
     ]
    },
    {
     "name": "stderr",
     "output_type": "stream",
     "text": [
      "\r",
      " 51%|██████████████████████████████████████▍                                     | 6074/12000 [00:18<00:18, 321.99it/s]"
     ]
    },
    {
     "name": "stdout",
     "output_type": "stream",
     "text": [
      "valid check...\n",
      "valid check...\n",
      "valid check...\n",
      "valid check...\n",
      "valid check...\n",
      "valid check...\n",
      "valid check...\n",
      "valid check...\n",
      "valid check...\n",
      "valid check...\n",
      "valid check...\n",
      "valid check...\n",
      "valid check...\n",
      "valid check...\n",
      "valid check...\n",
      "valid check...\n",
      "valid check...\n",
      "valid check...\n",
      "valid check...\n",
      "valid check...\n",
      "valid check...\n",
      "valid check...\n",
      "valid check...\n",
      "valid check...\n",
      "valid check...\n",
      "valid check...\n",
      "valid check...\n",
      "valid check...\n"
     ]
    },
    {
     "name": "stderr",
     "output_type": "stream",
     "text": [
      " 51%|██████████████████████████████████████▉                                     | 6146/12000 [00:19<00:18, 323.61it/s]"
     ]
    },
    {
     "name": "stdout",
     "output_type": "stream",
     "text": [
      "valid check...\n",
      "valid check...\n",
      "valid check...\n",
      "valid check...\n",
      "valid check...\n",
      "valid check...\n",
      "valid check...\n",
      "valid check...\n",
      "valid check...\n",
      "valid check...\n",
      "valid check...\n",
      "valid check...\n",
      "valid check...\n",
      "valid check...\n",
      "valid check...\n",
      "valid check...\n"
     ]
    },
    {
     "name": "stderr",
     "output_type": "stream",
     "text": [
      " 52%|███████████████████████████████████████▎                                    | 6217/12000 [00:19<00:17, 324.15it/s]"
     ]
    },
    {
     "name": "stdout",
     "output_type": "stream",
     "text": [
      "valid check...\n",
      "valid check...\n",
      "valid check...\n",
      "valid check...\n",
      "valid check...\n",
      "valid check...\n",
      "valid check...\n",
      "valid check...\n",
      "valid check...\n",
      "valid check...\n",
      "valid check...\n",
      "valid check...\n",
      "valid check...\n",
      "valid check...\n",
      "valid check...\n",
      "valid check...\n",
      "valid check...\n",
      "valid check...\n",
      "valid check...\n",
      "valid check...\n"
     ]
    },
    {
     "name": "stderr",
     "output_type": "stream",
     "text": [
      " 52%|███████████████████████████████████████▊                                    | 6290/12000 [00:19<00:17, 329.13it/s]"
     ]
    },
    {
     "name": "stdout",
     "output_type": "stream",
     "text": [
      "valid check...\n",
      "valid check...\n",
      "valid check...\n",
      "valid check...\n",
      "valid check...\n",
      "valid check...\n",
      "valid check...\n",
      "valid check...\n",
      "valid check...\n",
      "valid check...\n",
      "valid check...\n",
      "valid check...\n",
      "valid check...\n",
      "valid check...\n",
      "valid check...\n",
      "valid check...\n",
      "valid check...\n",
      "valid check...\n",
      "valid check...\n",
      "valid check...\n"
     ]
    },
    {
     "name": "stderr",
     "output_type": "stream",
     "text": [
      " 53%|████████████████████████████████████████▎                                   | 6358/12000 [00:19<00:17, 319.59it/s]"
     ]
    },
    {
     "name": "stdout",
     "output_type": "stream",
     "text": [
      "valid check...\n",
      "valid check...\n",
      "valid check...\n",
      "valid check...\n",
      "valid check...\n",
      "valid check...\n",
      "valid check...\n",
      "valid check...\n",
      "valid check...\n",
      "valid check...\n",
      "valid check...\n",
      "valid check...\n",
      "valid check...\n",
      "valid check...\n",
      "valid check...\n",
      "valid check...\n",
      "valid check...\n",
      "valid check...\n",
      "valid check...\n",
      "valid check...\n",
      "valid check...\n",
      "valid check...\n"
     ]
    },
    {
     "name": "stderr",
     "output_type": "stream",
     "text": [
      " 54%|████████████████████████████████████████▋                                   | 6424/12000 [00:20<00:19, 284.14it/s]"
     ]
    },
    {
     "name": "stdout",
     "output_type": "stream",
     "text": [
      "valid check...\n",
      "valid check...\n",
      "valid check...\n",
      "valid check...\n",
      "valid check...\n",
      "valid check...\n",
      "valid check...\n",
      "valid check...\n",
      "valid check...\n",
      "valid check...\n",
      "valid check...\n",
      "valid check...\n",
      "valid check...\n"
     ]
    },
    {
     "name": "stderr",
     "output_type": "stream",
     "text": [
      "\r",
      " 54%|████████████████████████████████████████▉                                   | 6456/12000 [00:20<00:19, 286.35it/s]"
     ]
    },
    {
     "name": "stdout",
     "output_type": "stream",
     "text": [
      "valid check...\n",
      "valid check...\n",
      "valid check...\n",
      "valid check...\n",
      "valid check...\n",
      "valid check...\n",
      "valid check...\n",
      "valid check...\n",
      "valid check...\n",
      "valid check...\n",
      "valid check...\n",
      "valid check...\n",
      "valid check...\n",
      "valid check...\n",
      "valid check...\n",
      "valid check...\n",
      "valid check...\n",
      "valid check...\n",
      "valid check...\n",
      "valid check...\n",
      "valid check...\n",
      "valid check...\n",
      "valid check...\n",
      "valid check...\n"
     ]
    },
    {
     "name": "stderr",
     "output_type": "stream",
     "text": [
      " 54%|█████████████████████████████████████████▎                                  | 6523/12000 [00:20<00:18, 295.39it/s]"
     ]
    },
    {
     "name": "stdout",
     "output_type": "stream",
     "text": [
      "valid check...\n",
      "valid check...\n",
      "valid check...\n",
      "valid check...\n",
      "valid check...\n",
      "valid check...\n",
      "valid check...\n",
      "valid check...\n",
      "valid check...\n",
      "valid check...\n",
      "valid check...\n",
      "valid check...\n",
      "valid check...\n",
      "valid check...\n",
      "valid check...\n",
      "valid check...\n",
      "valid check...\n"
     ]
    },
    {
     "name": "stderr",
     "output_type": "stream",
     "text": [
      " 55%|█████████████████████████████████████████▋                                  | 6586/12000 [00:20<00:19, 282.60it/s]"
     ]
    },
    {
     "name": "stdout",
     "output_type": "stream",
     "text": [
      "valid check...\n",
      "valid check...\n",
      "valid check...\n",
      "valid check...\n",
      "valid check...\n",
      "valid check...\n",
      "valid check...\n",
      "valid check...\n",
      "valid check...\n",
      "valid check...\n",
      "valid check...\n",
      "valid check...\n"
     ]
    },
    {
     "name": "stderr",
     "output_type": "stream",
     "text": [
      " 55%|██████████████████████████████████████████                                  | 6642/12000 [00:20<00:20, 260.36it/s]"
     ]
    },
    {
     "name": "stdout",
     "output_type": "stream",
     "text": [
      "valid check...\n",
      "valid check...\n",
      "valid check...\n",
      "valid check...\n",
      "valid check...\n",
      "valid check...\n",
      "valid check...\n",
      "valid check...\n",
      "valid check...\n",
      "valid check...\n",
      "valid check...\n",
      "valid check...\n",
      "valid check...\n",
      "valid check...\n",
      "valid check...\n",
      "valid check...\n"
     ]
    },
    {
     "name": "stderr",
     "output_type": "stream",
     "text": [
      " 56%|██████████████████████████████████████████▌                                 | 6716/12000 [00:21<00:16, 313.68it/s]"
     ]
    },
    {
     "name": "stdout",
     "output_type": "stream",
     "text": [
      "valid check...\n",
      "valid check...\n",
      "valid check...\n",
      "valid check...\n",
      "valid check...\n",
      "valid check...\n",
      "valid check...\n",
      "valid check...\n",
      "valid check...\n",
      "valid check...\n",
      "valid check...\n",
      "valid check...\n",
      "valid check...\n",
      "valid check...\n",
      "valid check...\n",
      "valid check...\n",
      "valid check...\n",
      "valid check...\n",
      "valid check...\n",
      "valid check...\n",
      "valid check...\n"
     ]
    },
    {
     "name": "stderr",
     "output_type": "stream",
     "text": [
      " 57%|███████████████████████████████████████████                                 | 6807/12000 [00:21<00:14, 369.39it/s]"
     ]
    },
    {
     "name": "stdout",
     "output_type": "stream",
     "text": [
      "valid check...\n",
      "valid check...\n",
      "valid check...\n",
      "valid check...\n",
      "valid check...\n",
      "valid check...\n",
      "valid check...\n",
      "valid check...\n",
      "valid check...\n",
      "valid check...\n",
      "valid check...\n",
      "valid check...\n",
      "valid check...\n",
      "valid check...\n",
      "valid check...\n",
      "valid check...\n",
      "valid check...\n",
      "valid check...\n",
      "valid check...\n",
      "valid check...\n",
      "valid check...\n",
      "valid check...\n"
     ]
    },
    {
     "name": "stderr",
     "output_type": "stream",
     "text": [
      " 57%|███████████████████████████████████████████▋                                | 6894/12000 [00:21<00:12, 393.01it/s]"
     ]
    },
    {
     "name": "stdout",
     "output_type": "stream",
     "text": [
      "valid check...\n",
      "valid check...\n",
      "valid check...\n",
      "valid check...\n",
      "valid check...\n",
      "valid check...\n",
      "valid check...\n",
      "valid check...\n",
      "valid check...\n",
      "valid check...\n",
      "valid check...\n",
      "valid check...\n",
      "valid check...\n",
      "valid check...\n",
      "valid check...\n",
      "valid check...\n",
      "valid check...\n",
      "valid check...\n",
      "valid check...\n",
      "valid check...\n",
      "valid check...\n",
      "valid check...\n",
      "valid check...\n",
      "valid check...\n",
      "valid check...\n",
      "valid check...\n",
      "valid check...\n",
      "valid check...\n",
      "valid check...\n",
      "valid check...\n",
      "valid check...\n",
      "valid check...\n",
      "valid check...\n",
      "valid check...\n",
      "valid check...\n"
     ]
    },
    {
     "name": "stderr",
     "output_type": "stream",
     "text": [
      " 58%|████████████████████████████████████████████▎                               | 6990/12000 [00:21<00:11, 429.19it/s]"
     ]
    },
    {
     "name": "stdout",
     "output_type": "stream",
     "text": [
      "valid check...\n",
      "valid check...\n",
      "valid check...\n",
      "valid check...\n",
      "valid check...\n",
      "valid check...\n",
      "valid check...\n",
      "valid check...\n",
      "valid check...\n",
      "valid check...\n",
      "valid check...\n",
      "valid check...\n",
      "valid check...\n",
      "valid check...\n",
      "valid check...\n",
      "valid check...\n",
      "valid check...\n",
      "valid check...\n",
      "valid check...\n",
      "valid check...\n",
      "valid check...\n",
      "valid check...\n",
      "valid check...\n",
      "valid check...\n",
      "valid check...\n",
      "valid check...\n"
     ]
    },
    {
     "name": "stderr",
     "output_type": "stream",
     "text": [
      " 59%|████████████████████████████████████████████▉                               | 7091/12000 [00:21<00:10, 457.34it/s]"
     ]
    },
    {
     "name": "stdout",
     "output_type": "stream",
     "text": [
      "valid check...\n",
      "valid check...\n",
      "valid check...\n",
      "valid check...\n",
      "valid check...\n",
      "valid check...\n",
      "valid check...\n",
      "valid check...\n",
      "valid check...\n",
      "valid check...\n",
      "valid check...\n",
      "valid check...\n",
      "valid check...\n",
      "valid check...\n",
      "valid check...\n",
      "valid check...\n",
      "valid check...\n",
      "valid check...\n",
      "valid check...\n",
      "valid check...\n"
     ]
    },
    {
     "name": "stderr",
     "output_type": "stream",
     "text": [
      "\r",
      " 60%|█████████████████████████████████████████████▏                              | 7140/12000 [00:21<00:10, 459.08it/s]"
     ]
    },
    {
     "name": "stdout",
     "output_type": "stream",
     "text": [
      "valid check...\n",
      "valid check...\n",
      "valid check...\n",
      "valid check...\n",
      "valid check...\n",
      "valid check...\n",
      "valid check...\n",
      "valid check...\n",
      "valid check...\n",
      "valid check...\n",
      "valid check...\n",
      "valid check...\n",
      "valid check...\n",
      "valid check...\n",
      "valid check...\n",
      "valid check...\n",
      "valid check...\n",
      "valid check...\n",
      "valid check...\n",
      "valid check...\n",
      "valid check...\n",
      "valid check...\n",
      "valid check...\n",
      "valid check...\n",
      "valid check...\n",
      "valid check...\n",
      "valid check...\n",
      "valid check...\n",
      "valid check...\n",
      "valid check...\n",
      "valid check...\n",
      "valid check...\n",
      "valid check...\n",
      "valid check...\n",
      "valid check...\n",
      "valid check...\n"
     ]
    },
    {
     "name": "stderr",
     "output_type": "stream",
     "text": [
      " 60%|█████████████████████████████████████████████▊                              | 7229/12000 [00:22<00:12, 393.49it/s]"
     ]
    },
    {
     "name": "stdout",
     "output_type": "stream",
     "text": [
      "valid check...\n",
      "valid check...\n",
      "valid check...\n",
      "valid check...\n",
      "valid check...\n",
      "valid check...\n",
      "valid check...\n",
      "valid check...\n",
      "valid check...\n",
      "valid check...\n",
      "valid check...\n",
      "valid check...\n",
      "valid check...\n",
      "valid check...\n",
      "valid check...\n",
      "valid check...\n",
      "valid check...\n",
      "valid check...\n",
      "valid check...\n",
      "valid check...\n",
      "valid check...\n",
      "valid check...\n",
      "valid check...\n",
      "valid check...\n"
     ]
    },
    {
     "name": "stderr",
     "output_type": "stream",
     "text": [
      "\r",
      " 61%|██████████████████████████████████████████████                              | 7269/12000 [00:22<00:14, 328.11it/s]"
     ]
    },
    {
     "name": "stdout",
     "output_type": "stream",
     "text": [
      "valid check...\n",
      "valid check...\n",
      "valid check...\n",
      "valid check...\n",
      "valid check...\n",
      "valid check...\n",
      "valid check...\n",
      "valid check...\n",
      "valid check...\n",
      "valid check...\n",
      "valid check...\n",
      "valid check...\n",
      "valid check...\n",
      "valid check...\n",
      "valid check...\n"
     ]
    },
    {
     "name": "stderr",
     "output_type": "stream",
     "text": [
      " 61%|██████████████████████████████████████████████▍                             | 7337/12000 [00:22<00:14, 312.12it/s]"
     ]
    },
    {
     "name": "stdout",
     "output_type": "stream",
     "text": [
      "valid check...\n",
      "valid check...\n",
      "valid check...\n",
      "valid check...\n",
      "valid check...\n",
      "valid check...\n",
      "valid check...\n",
      "valid check...\n",
      "valid check...\n",
      "valid check...\n",
      "valid check...\n",
      "valid check...\n",
      "valid check...\n",
      "valid check...\n",
      "valid check...\n"
     ]
    },
    {
     "name": "stderr",
     "output_type": "stream",
     "text": [
      " 62%|██████████████████████████████████████████████▉                             | 7402/12000 [00:22<00:15, 295.21it/s]"
     ]
    },
    {
     "name": "stdout",
     "output_type": "stream",
     "text": [
      "valid check...\n",
      "valid check...\n",
      "valid check...\n",
      "valid check...\n",
      "valid check...\n",
      "valid check...\n",
      "valid check...\n",
      "valid check...\n",
      "valid check...\n",
      "valid check...\n",
      "valid check...\n",
      "valid check...\n",
      "valid check...\n",
      "valid check...\n",
      "valid check...\n",
      "valid check...\n",
      "valid check...\n",
      "valid check...\n",
      "valid check...\n",
      "valid check...\n",
      "valid check...\n",
      "valid check...\n",
      "valid check...\n",
      "valid check...\n",
      "valid check...\n"
     ]
    },
    {
     "name": "stderr",
     "output_type": "stream",
     "text": [
      " 62%|███████████████████████████████████████████████▎                            | 7470/12000 [00:23<00:14, 304.50it/s]"
     ]
    },
    {
     "name": "stdout",
     "output_type": "stream",
     "text": [
      "valid check...\n",
      "valid check...\n",
      "valid check...\n",
      "valid check...\n",
      "valid check...\n",
      "valid check...\n",
      "valid check...\n",
      "valid check...\n",
      "valid check...\n",
      "valid check...\n",
      "valid check...\n",
      "valid check...\n",
      "valid check...\n",
      "valid check...\n",
      "valid check...\n",
      "valid check...\n",
      "valid check...\n",
      "valid check...\n",
      "valid check...\n"
     ]
    },
    {
     "name": "stderr",
     "output_type": "stream",
     "text": [
      " 63%|███████████████████████████████████████████████▋                            | 7531/12000 [00:23<00:15, 281.62it/s]"
     ]
    },
    {
     "name": "stdout",
     "output_type": "stream",
     "text": [
      "valid check...\n",
      "valid check...\n",
      "valid check...\n",
      "valid check...\n",
      "valid check...\n",
      "valid check...\n",
      "valid check...\n",
      "valid check...\n",
      "valid check...\n",
      "valid check...\n",
      "valid check...\n",
      "valid check...\n",
      "valid check...\n",
      "valid check...\n",
      "valid check...\n",
      "valid check...\n",
      "valid check...\n",
      "valid check...\n",
      "valid check...\n",
      "valid check...\n"
     ]
    },
    {
     "name": "stderr",
     "output_type": "stream",
     "text": [
      " 63%|████████████████████████████████████████████████                            | 7593/12000 [00:23<00:15, 289.82it/s]"
     ]
    },
    {
     "name": "stdout",
     "output_type": "stream",
     "text": [
      "valid check...\n",
      "valid check...\n",
      "valid check...\n",
      "valid check...\n",
      "valid check...\n",
      "valid check...\n",
      "valid check...\n",
      "valid check...\n",
      "valid check...\n",
      "valid check...\n",
      "valid check...\n",
      "valid check...\n",
      "valid check...\n",
      "valid check...\n",
      "valid check...\n",
      "valid check...\n",
      "valid check...\n",
      "valid check...\n",
      "valid check...\n",
      "valid check...\n",
      "valid check...\n",
      "valid check...\n",
      "valid check...\n"
     ]
    },
    {
     "name": "stderr",
     "output_type": "stream",
     "text": [
      " 64%|████████████████████████████████████████████████▍                           | 7656/12000 [00:23<00:15, 289.39it/s]"
     ]
    },
    {
     "name": "stdout",
     "output_type": "stream",
     "text": [
      "valid check...\n",
      "valid check...\n",
      "valid check...\n",
      "valid check...\n",
      "valid check...\n",
      "valid check...\n",
      "valid check...\n",
      "valid check...\n",
      "valid check...\n",
      "valid check...\n",
      "valid check...\n",
      "valid check...\n",
      "valid check...\n",
      "valid check...\n",
      "valid check...\n",
      "valid check...\n",
      "valid check...\n",
      "valid check...\n",
      "valid check...\n",
      "valid check...\n",
      "valid check...\n",
      "valid check...\n",
      "valid check...\n"
     ]
    },
    {
     "name": "stderr",
     "output_type": "stream",
     "text": [
      " 64%|████████████████████████████████████████████████▊                           | 7716/12000 [00:23<00:15, 271.31it/s]"
     ]
    },
    {
     "name": "stdout",
     "output_type": "stream",
     "text": [
      "valid check...\n",
      "valid check...\n",
      "valid check...\n",
      "valid check...\n",
      "valid check...\n",
      "valid check...\n",
      "valid check...\n",
      "valid check...\n",
      "valid check...\n",
      "valid check...\n",
      "valid check...\n",
      "valid check...\n",
      "valid check...\n",
      "valid check...\n",
      "valid check...\n",
      "valid check...\n",
      "valid check...\n",
      "valid check...\n"
     ]
    },
    {
     "name": "stderr",
     "output_type": "stream",
     "text": [
      " 65%|█████████████████████████████████████████████████▏                          | 7775/12000 [00:24<00:19, 217.22it/s]"
     ]
    },
    {
     "name": "stdout",
     "output_type": "stream",
     "text": [
      "valid check...\n",
      "valid check...\n",
      "valid check...\n",
      "valid check...\n",
      "valid check...\n",
      "valid check...\n",
      "valid check...\n",
      "valid check...\n",
      "valid check...\n",
      "valid check...\n",
      "valid check...\n",
      "valid check...\n",
      "valid check...\n",
      "valid check...\n",
      "valid check...\n",
      "valid check...\n",
      "valid check...\n",
      "valid check...\n"
     ]
    },
    {
     "name": "stderr",
     "output_type": "stream",
     "text": [
      " 65%|█████████████████████████████████████████████████▋                          | 7846/12000 [00:24<00:15, 271.95it/s]"
     ]
    },
    {
     "name": "stdout",
     "output_type": "stream",
     "text": [
      "valid check...\n",
      "valid check...\n",
      "valid check...\n",
      "valid check...\n",
      "valid check...\n",
      "valid check...\n",
      "valid check...\n",
      "valid check...\n",
      "valid check...\n",
      "valid check...\n",
      "valid check...\n",
      "valid check...\n",
      "valid check...\n",
      "valid check...\n",
      "valid check...\n",
      "valid check...\n",
      "valid check...\n",
      "valid check...\n",
      "valid check...\n",
      "valid check...\n",
      "valid check...\n",
      "valid check...\n",
      "valid check...\n",
      "valid check...\n",
      "valid check...\n",
      "valid check...\n",
      "valid check...\n",
      "valid check...\n",
      "valid check...\n"
     ]
    },
    {
     "name": "stderr",
     "output_type": "stream",
     "text": [
      " 66%|██████████████████████████████████████████████████▏                         | 7916/12000 [00:24<00:13, 300.88it/s]"
     ]
    },
    {
     "name": "stdout",
     "output_type": "stream",
     "text": [
      "valid check...\n",
      "valid check...\n",
      "valid check...\n",
      "valid check...\n",
      "valid check...\n",
      "valid check...\n",
      "valid check...\n",
      "valid check...\n",
      "valid check...\n",
      "valid check...\n",
      "valid check...\n",
      "valid check...\n",
      "valid check...\n",
      "valid check...\n",
      "valid check...\n",
      "valid check...\n",
      "valid check...\n",
      "valid check...\n",
      "valid check...\n"
     ]
    },
    {
     "name": "stderr",
     "output_type": "stream",
     "text": [
      " 67%|██████████████████████████████████████████████████▌                         | 7981/12000 [00:24<00:13, 302.99it/s]"
     ]
    },
    {
     "name": "stdout",
     "output_type": "stream",
     "text": [
      "valid check...\n",
      "valid check...\n",
      "valid check...\n",
      "valid check...\n",
      "valid check...\n",
      "valid check...\n",
      "valid check...\n",
      "valid check...\n",
      "valid check...\n",
      "valid check...\n",
      "valid check...\n",
      "valid check...\n",
      "valid check...\n",
      "valid check...\n",
      "valid check...\n",
      "valid check...\n",
      "valid check...\n",
      "valid check...\n",
      "valid check...\n",
      "valid check...\n",
      "valid check...\n",
      "valid check...\n",
      "valid check...\n",
      "valid check...\n",
      "valid check...\n",
      "valid check...\n"
     ]
    },
    {
     "name": "stderr",
     "output_type": "stream",
     "text": [
      " 67%|██████████████████████████████████████████████████▉                         | 8045/12000 [00:25<00:13, 291.98it/s]"
     ]
    },
    {
     "name": "stdout",
     "output_type": "stream",
     "text": [
      "valid check...\n",
      "valid check...\n",
      "valid check...\n",
      "valid check...\n",
      "valid check...\n",
      "valid check...\n",
      "valid check...\n",
      "valid check...\n",
      "valid check...\n",
      "valid check...\n",
      "valid check...\n",
      "valid check...\n",
      "valid check...\n",
      "valid check...\n",
      "valid check...\n",
      "valid check...\n",
      "valid check...\n"
     ]
    },
    {
     "name": "stderr",
     "output_type": "stream",
     "text": [
      " 68%|███████████████████████████████████████████████████▎                        | 8105/12000 [00:25<00:13, 287.26it/s]"
     ]
    },
    {
     "name": "stdout",
     "output_type": "stream",
     "text": [
      "valid check...\n",
      "valid check...\n",
      "valid check...\n",
      "valid check...\n",
      "valid check...\n",
      "valid check...\n",
      "valid check...\n",
      "valid check...\n",
      "valid check...\n",
      "valid check...\n",
      "valid check...\n",
      "valid check...\n",
      "valid check...\n",
      "valid check...\n",
      "valid check...\n",
      "valid check...\n",
      "valid check...\n",
      "valid check...\n",
      "valid check...\n",
      "valid check...\n"
     ]
    },
    {
     "name": "stderr",
     "output_type": "stream",
     "text": [
      " 68%|███████████████████████████████████████████████████▋                        | 8166/12000 [00:25<00:13, 288.80it/s]"
     ]
    },
    {
     "name": "stdout",
     "output_type": "stream",
     "text": [
      "valid check...\n",
      "valid check...\n",
      "valid check...\n",
      "valid check...\n",
      "valid check...\n",
      "valid check...\n",
      "valid check...\n",
      "valid check...\n",
      "valid check...\n",
      "valid check...\n",
      "valid check...\n",
      "valid check...\n",
      "valid check...\n",
      "valid check...\n",
      "valid check...\n"
     ]
    },
    {
     "name": "stderr",
     "output_type": "stream",
     "text": [
      " 69%|████████████████████████████████████████████████████                        | 8229/12000 [00:25<00:12, 298.97it/s]"
     ]
    },
    {
     "name": "stdout",
     "output_type": "stream",
     "text": [
      "valid check...\n",
      "valid check...\n",
      "valid check...\n",
      "valid check...\n",
      "valid check...\n",
      "valid check...\n",
      "valid check...\n",
      "valid check...\n",
      "valid check...\n",
      "valid check...\n",
      "valid check...\n",
      "valid check...\n",
      "valid check...\n",
      "valid check...\n",
      "valid check...\n",
      "valid check...\n",
      "valid check...\n",
      "valid check...\n",
      "valid check...\n"
     ]
    },
    {
     "name": "stderr",
     "output_type": "stream",
     "text": [
      " 69%|████████████████████████████████████████████████████▌                       | 8296/12000 [00:26<00:11, 308.67it/s]"
     ]
    },
    {
     "name": "stdout",
     "output_type": "stream",
     "text": [
      "valid check...\n",
      "valid check...\n",
      "valid check...\n",
      "valid check...\n",
      "valid check...\n",
      "valid check...\n",
      "valid check...\n",
      "valid check...\n",
      "valid check...\n",
      "valid check...\n",
      "valid check...\n",
      "valid check...\n",
      "valid check...\n",
      "valid check...\n",
      "valid check...\n",
      "valid check...\n"
     ]
    },
    {
     "name": "stderr",
     "output_type": "stream",
     "text": [
      " 70%|████████████████████████████████████████████████████▉                       | 8359/12000 [00:26<00:12, 295.18it/s]"
     ]
    },
    {
     "name": "stdout",
     "output_type": "stream",
     "text": [
      "valid check...\n",
      "valid check...\n",
      "valid check...\n",
      "valid check...\n",
      "valid check...\n",
      "valid check...\n",
      "valid check...\n",
      "valid check...\n",
      "valid check...\n",
      "valid check...\n"
     ]
    },
    {
     "name": "stderr",
     "output_type": "stream",
     "text": [
      " 70%|█████████████████████████████████████████████████████▎                      | 8422/12000 [00:26<00:11, 304.36it/s]"
     ]
    },
    {
     "name": "stdout",
     "output_type": "stream",
     "text": [
      "valid check...\n",
      "valid check...\n",
      "valid check...\n",
      "valid check...\n",
      "valid check...\n",
      "valid check...\n",
      "valid check...\n",
      "valid check...\n",
      "valid check...\n",
      "valid check...\n",
      "valid check...\n",
      "valid check...\n",
      "valid check...\n",
      "valid check...\n",
      "valid check...\n",
      "valid check...\n"
     ]
    },
    {
     "name": "stderr",
     "output_type": "stream",
     "text": [
      "\r",
      " 70%|█████████████████████████████████████████████████████▌                      | 8454/12000 [00:26<00:11, 308.64it/s]"
     ]
    },
    {
     "name": "stdout",
     "output_type": "stream",
     "text": [
      "valid check...\n",
      "valid check...\n",
      "valid check...\n",
      "valid check...\n",
      "valid check...\n",
      "valid check...\n",
      "valid check...\n",
      "valid check...\n",
      "valid check...\n",
      "valid check...\n",
      "valid check...\n",
      "valid check...\n",
      "valid check...\n",
      "valid check...\n",
      "valid check...\n",
      "valid check...\n",
      "valid check...\n",
      "valid check...\n",
      "valid check...\n",
      "valid check...\n"
     ]
    },
    {
     "name": "stderr",
     "output_type": "stream",
     "text": [
      " 71%|█████████████████████████████████████████████████████▉                      | 8522/12000 [00:26<00:11, 315.56it/s]"
     ]
    },
    {
     "name": "stdout",
     "output_type": "stream",
     "text": [
      "valid check...\n",
      "valid check...\n",
      "valid check...\n",
      "valid check...\n",
      "valid check...\n",
      "valid check...\n",
      "valid check...\n",
      "valid check...\n",
      "valid check...\n",
      "valid check...\n",
      "valid check...\n",
      "valid check...\n",
      "valid check...\n",
      "valid check...\n",
      "valid check...\n"
     ]
    },
    {
     "name": "stderr",
     "output_type": "stream",
     "text": [
      " 72%|██████████████████████████████████████████████████████▍                     | 8591/12000 [00:27<00:10, 314.28it/s]"
     ]
    },
    {
     "name": "stdout",
     "output_type": "stream",
     "text": [
      "valid check...\n",
      "valid check...\n",
      "valid check...\n",
      "valid check...\n",
      "valid check...\n",
      "valid check...\n",
      "valid check...\n",
      "valid check...\n",
      "valid check...\n",
      "valid check...\n",
      "valid check...\n",
      "valid check...\n",
      "valid check...\n",
      "valid check...\n",
      "valid check...\n",
      "valid check...\n",
      "valid check...\n",
      "valid check...\n",
      "valid check...\n",
      "valid check...\n"
     ]
    },
    {
     "name": "stderr",
     "output_type": "stream",
     "text": [
      " 72%|██████████████████████████████████████████████████████▊                     | 8661/12000 [00:27<00:10, 315.23it/s]"
     ]
    },
    {
     "name": "stdout",
     "output_type": "stream",
     "text": [
      "valid check...\n",
      "valid check...\n",
      "valid check...\n",
      "valid check...\n",
      "valid check...\n",
      "valid check...\n",
      "valid check...\n",
      "valid check...\n",
      "valid check...\n",
      "valid check...\n",
      "valid check...\n",
      "valid check...\n",
      "valid check...\n",
      "valid check...\n",
      "valid check...\n",
      "valid check...\n",
      "valid check...\n",
      "valid check...\n",
      "valid check...\n",
      "valid check...\n",
      "valid check...\n",
      "valid check...\n"
     ]
    },
    {
     "name": "stderr",
     "output_type": "stream",
     "text": [
      " 73%|███████████████████████████████████████████████████████▎                    | 8733/12000 [00:27<00:10, 322.01it/s]"
     ]
    },
    {
     "name": "stdout",
     "output_type": "stream",
     "text": [
      "valid check...\n",
      "valid check...\n",
      "valid check...\n",
      "valid check...\n",
      "valid check...\n",
      "valid check...\n",
      "valid check...\n",
      "valid check...\n",
      "valid check...\n",
      "valid check...\n",
      "valid check...\n",
      "valid check...\n",
      "valid check...\n",
      "valid check...\n",
      "valid check...\n",
      "valid check...\n",
      "valid check...\n",
      "valid check...\n",
      "valid check...\n",
      "valid check...\n",
      "valid check...\n",
      "valid check...\n",
      "valid check...\n",
      "valid check...\n"
     ]
    },
    {
     "name": "stderr",
     "output_type": "stream",
     "text": [
      " 73%|███████████████████████████████████████████████████████▋                    | 8799/12000 [00:27<00:09, 320.58it/s]"
     ]
    },
    {
     "name": "stdout",
     "output_type": "stream",
     "text": [
      "valid check...\n",
      "valid check...\n",
      "valid check...\n",
      "valid check...\n",
      "valid check...\n",
      "valid check...\n",
      "valid check...\n",
      "valid check...\n",
      "valid check...\n",
      "valid check...\n",
      "valid check...\n",
      "valid check...\n",
      "valid check...\n",
      "valid check...\n",
      "valid check...\n",
      "valid check...\n",
      "valid check...\n",
      "valid check...\n",
      "valid check...\n",
      "valid check...\n",
      "valid check...\n"
     ]
    },
    {
     "name": "stderr",
     "output_type": "stream",
     "text": [
      " 74%|████████████████████████████████████████████████████████▏                   | 8867/12000 [00:27<00:09, 320.60it/s]"
     ]
    },
    {
     "name": "stdout",
     "output_type": "stream",
     "text": [
      "valid check...\n",
      "valid check...\n",
      "valid check...\n",
      "valid check...\n",
      "valid check...\n",
      "valid check...\n",
      "valid check...\n",
      "valid check...\n",
      "valid check...\n",
      "valid check...\n",
      "valid check...\n",
      "valid check...\n",
      "valid check...\n"
     ]
    },
    {
     "name": "stderr",
     "output_type": "stream",
     "text": [
      " 74%|████████████████████████████████████████████████████████▌                   | 8932/12000 [00:28<00:09, 309.78it/s]"
     ]
    },
    {
     "name": "stdout",
     "output_type": "stream",
     "text": [
      "valid check...\n",
      "valid check...\n",
      "valid check...\n",
      "valid check...\n",
      "valid check...\n",
      "valid check...\n",
      "valid check...\n",
      "valid check...\n",
      "valid check...\n",
      "valid check...\n",
      "valid check...\n",
      "valid check...\n",
      "valid check...\n",
      "valid check...\n",
      "valid check...\n",
      "valid check...\n",
      "valid check...\n",
      "valid check...\n",
      "valid check...\n",
      "valid check...\n",
      "valid check...\n",
      "valid check...\n"
     ]
    },
    {
     "name": "stderr",
     "output_type": "stream",
     "text": [
      " 75%|█████████████████████████████████████████████████████████                   | 9000/12000 [00:28<00:09, 318.98it/s]"
     ]
    },
    {
     "name": "stdout",
     "output_type": "stream",
     "text": [
      "valid check...\n",
      "valid check...\n",
      "valid check...\n",
      "valid check...\n",
      "valid check...\n",
      "valid check...\n",
      "valid check...\n",
      "valid check...\n",
      "valid check...\n",
      "valid check...\n",
      "valid check...\n",
      "valid check...\n",
      "valid check...\n",
      "valid check...\n",
      "valid check...\n",
      "valid check...\n",
      "valid check...\n",
      "valid check...\n",
      "valid check...\n",
      "valid check...\n",
      "valid check...\n",
      "valid check...\n",
      "valid check...\n"
     ]
    },
    {
     "name": "stderr",
     "output_type": "stream",
     "text": [
      "\r",
      " 75%|█████████████████████████████████████████████████████████▏                  | 9032/12000 [00:28<00:09, 304.46it/s]"
     ]
    },
    {
     "name": "stdout",
     "output_type": "stream",
     "text": [
      "valid check...\n",
      "valid check...\n",
      "valid check...\n",
      "valid check...\n",
      "valid check...\n",
      "valid check...\n",
      "valid check...\n",
      "valid check...\n",
      "valid check...\n",
      "valid check...\n",
      "valid check...\n",
      "valid check...\n",
      "valid check...\n",
      "valid check...\n"
     ]
    },
    {
     "name": "stderr",
     "output_type": "stream",
     "text": [
      " 76%|█████████████████████████████████████████████████████████▊                  | 9128/12000 [00:28<00:09, 308.78it/s]"
     ]
    },
    {
     "name": "stdout",
     "output_type": "stream",
     "text": [
      "valid check...\n",
      "valid check...\n",
      "valid check...\n",
      "valid check...\n",
      "valid check...\n",
      "valid check...\n",
      "valid check...\n",
      "valid check...\n",
      "valid check...\n",
      "valid check...\n",
      "valid check...\n",
      "valid check...\n",
      "valid check...\n",
      "valid check...\n",
      "valid check...\n",
      "valid check...\n",
      "valid check...\n",
      "valid check...\n",
      "valid check...\n",
      "valid check...\n",
      "valid check...\n",
      "valid check...\n",
      "valid check...\n",
      "valid check...\n",
      "valid check...\n"
     ]
    },
    {
     "name": "stderr",
     "output_type": "stream",
     "text": [
      "\r",
      " 76%|██████████████████████████████████████████████████████████                  | 9159/12000 [00:28<00:09, 307.58it/s]"
     ]
    },
    {
     "name": "stdout",
     "output_type": "stream",
     "text": [
      "valid check...\n",
      "valid check...\n",
      "valid check...\n",
      "valid check...\n",
      "valid check...\n",
      "valid check...\n",
      "valid check...\n",
      "valid check...\n",
      "valid check...\n",
      "valid check...\n",
      "valid check...\n",
      "valid check...\n",
      "valid check...\n",
      "valid check...\n",
      "valid check...\n",
      "valid check...\n"
     ]
    },
    {
     "name": "stderr",
     "output_type": "stream",
     "text": [
      " 77%|██████████████████████████████████████████████████████████▍                 | 9219/12000 [00:29<00:10, 275.82it/s]"
     ]
    },
    {
     "name": "stdout",
     "output_type": "stream",
     "text": [
      "valid check...\n",
      "valid check...\n",
      "valid check...\n",
      "valid check...\n",
      "valid check...\n",
      "valid check...\n",
      "valid check...\n",
      "valid check...\n",
      "valid check...\n",
      "valid check...\n",
      "valid check...\n",
      "valid check...\n"
     ]
    },
    {
     "name": "stderr",
     "output_type": "stream",
     "text": [
      " 77%|██████████████████████████████████████████████████████████▊                 | 9282/12000 [00:29<00:09, 286.16it/s]"
     ]
    },
    {
     "name": "stdout",
     "output_type": "stream",
     "text": [
      "valid check...\n",
      "valid check...\n",
      "valid check...\n",
      "valid check...\n",
      "valid check...\n",
      "valid check...\n",
      "valid check...\n",
      "valid check...\n",
      "valid check...\n",
      "valid check...\n",
      "valid check...\n",
      "valid check...\n",
      "valid check...\n",
      "valid check...\n",
      "valid check...\n",
      "valid check...\n",
      "valid check...\n"
     ]
    },
    {
     "name": "stderr",
     "output_type": "stream",
     "text": [
      " 78%|███████████████████████████████████████████████████████████▏                | 9351/12000 [00:29<00:08, 306.96it/s]"
     ]
    },
    {
     "name": "stdout",
     "output_type": "stream",
     "text": [
      "valid check...\n",
      "valid check...\n",
      "valid check...\n",
      "valid check...\n",
      "valid check...\n",
      "valid check...\n",
      "valid check...\n",
      "valid check...\n",
      "valid check...\n",
      "valid check...\n",
      "valid check...\n",
      "valid check...\n",
      "valid check...\n",
      "valid check...\n",
      "valid check...\n",
      "valid check...\n",
      "valid check...\n",
      "valid check...\n",
      "valid check...\n",
      "valid check...\n",
      "valid check...\n",
      "valid check...\n",
      "valid check...\n"
     ]
    },
    {
     "name": "stderr",
     "output_type": "stream",
     "text": [
      " 79%|███████████████████████████████████████████████████████████▋                | 9427/12000 [00:29<00:07, 327.78it/s]"
     ]
    },
    {
     "name": "stdout",
     "output_type": "stream",
     "text": [
      "valid check...\n",
      "valid check...\n",
      "valid check...\n",
      "valid check...\n",
      "valid check...\n",
      "valid check...\n",
      "valid check...\n",
      "valid check...\n",
      "valid check...\n",
      "valid check...\n",
      "valid check...\n",
      "valid check...\n",
      "valid check...\n",
      "valid check...\n",
      "valid check...\n",
      "valid check...\n",
      "valid check...\n",
      "valid check...\n",
      "valid check...\n",
      "valid check...\n",
      "valid check...\n",
      "valid check...\n"
     ]
    },
    {
     "name": "stderr",
     "output_type": "stream",
     "text": [
      " 79%|████████████████████████████████████████████████████████████                | 9493/12000 [00:29<00:07, 320.62it/s]"
     ]
    },
    {
     "name": "stdout",
     "output_type": "stream",
     "text": [
      "valid check...\n",
      "valid check...\n",
      "valid check...\n",
      "valid check...\n",
      "valid check...\n",
      "valid check...\n",
      "valid check...\n",
      "valid check...\n",
      "valid check...\n",
      "valid check...\n",
      "valid check...\n",
      "valid check...\n",
      "valid check...\n",
      "valid check...\n",
      "valid check...\n",
      "valid check...\n",
      "valid check...\n",
      "valid check...\n",
      "valid check...\n",
      "valid check...\n",
      "valid check...\n",
      "valid check...\n",
      "valid check...\n"
     ]
    },
    {
     "name": "stderr",
     "output_type": "stream",
     "text": [
      "\r",
      " 79%|████████████████████████████████████████████████████████████▎               | 9527/12000 [00:30<00:07, 320.53it/s]"
     ]
    },
    {
     "name": "stdout",
     "output_type": "stream",
     "text": [
      "valid check...\n",
      "valid check...\n",
      "valid check...\n",
      "valid check...\n",
      "valid check...\n",
      "valid check...\n",
      "valid check...\n",
      "valid check...\n",
      "valid check...\n",
      "valid check...\n",
      "valid check...\n",
      "valid check...\n",
      "valid check...\n",
      "valid check...\n",
      "valid check...\n",
      "valid check...\n"
     ]
    },
    {
     "name": "stderr",
     "output_type": "stream",
     "text": [
      " 80%|████████████████████████████████████████████████████████████▋               | 9588/12000 [00:30<00:10, 232.15it/s]"
     ]
    },
    {
     "name": "stdout",
     "output_type": "stream",
     "text": [
      "valid check...\n",
      "valid check...\n",
      "valid check...\n",
      "valid check...\n",
      "valid check...\n",
      "valid check...\n",
      "valid check...\n",
      "valid check...\n",
      "valid check...\n",
      "valid check...\n",
      "valid check...\n"
     ]
    },
    {
     "name": "stderr",
     "output_type": "stream",
     "text": [
      "\r",
      " 80%|████████████████████████████████████████████████████████████▉               | 9620/12000 [00:30<00:09, 252.36it/s]"
     ]
    },
    {
     "name": "stdout",
     "output_type": "stream",
     "text": [
      "valid check...\n",
      "valid check...\n",
      "valid check...\n",
      "valid check...\n",
      "valid check...\n",
      "valid check...\n",
      "valid check...\n",
      "valid check...\n",
      "valid check...\n",
      "valid check...\n",
      "valid check...\n",
      "valid check...\n",
      "valid check...\n",
      "valid check...\n",
      "valid check...\n",
      "valid check...\n",
      "valid check...\n",
      "valid check...\n",
      "valid check...\n"
     ]
    },
    {
     "name": "stderr",
     "output_type": "stream",
     "text": [
      " 81%|█████████████████████████████████████████████████████████████▍              | 9691/12000 [00:30<00:07, 291.94it/s]"
     ]
    },
    {
     "name": "stdout",
     "output_type": "stream",
     "text": [
      "valid check...\n",
      "valid check...\n",
      "valid check...\n",
      "valid check...\n",
      "valid check...\n",
      "valid check...\n",
      "valid check...\n",
      "valid check...\n",
      "valid check...\n",
      "valid check...\n",
      "valid check...\n",
      "valid check...\n",
      "valid check...\n",
      "valid check...\n",
      "valid check...\n",
      "valid check...\n",
      "valid check...\n",
      "valid check...\n",
      "valid check...\n",
      "valid check...\n",
      "valid check...\n"
     ]
    },
    {
     "name": "stderr",
     "output_type": "stream",
     "text": [
      " 81%|█████████████████████████████████████████████████████████████▊              | 9765/12000 [00:30<00:06, 320.47it/s]"
     ]
    },
    {
     "name": "stdout",
     "output_type": "stream",
     "text": [
      "valid check...\n",
      "valid check...\n",
      "valid check...\n",
      "valid check...\n",
      "valid check...\n",
      "valid check...\n",
      "valid check...\n",
      "valid check...\n",
      "valid check...\n",
      "valid check...\n",
      "valid check...\n",
      "valid check...\n",
      "valid check...\n",
      "valid check...\n",
      "valid check...\n",
      "valid check...\n",
      "valid check...\n",
      "valid check...\n",
      "valid check...\n",
      "valid check...\n",
      "valid check...\n",
      "valid check...\n",
      "valid check...\n",
      "valid check...\n",
      "valid check...\n",
      "valid check...\n"
     ]
    },
    {
     "name": "stderr",
     "output_type": "stream",
     "text": [
      " 82%|██████████████████████████████████████████████████████████████▌             | 9870/12000 [00:31<00:06, 321.50it/s]"
     ]
    },
    {
     "name": "stdout",
     "output_type": "stream",
     "text": [
      "valid check...\n",
      "valid check...\n",
      "valid check...\n",
      "valid check...\n",
      "valid check...\n",
      "valid check...\n",
      "valid check...\n",
      "valid check...\n",
      "valid check...\n",
      "valid check...\n",
      "valid check...\n",
      "valid check...\n",
      "valid check...\n",
      "valid check...\n",
      "valid check...\n",
      "valid check...\n",
      "valid check...\n",
      "valid check...\n",
      "valid check...\n",
      "valid check...\n",
      "valid check...\n",
      "valid check...\n",
      "valid check...\n",
      "valid check...\n"
     ]
    },
    {
     "name": "stderr",
     "output_type": "stream",
     "text": [
      " 83%|██████████████████████████████████████████████████████████████▉             | 9937/12000 [00:31<00:06, 328.03it/s]"
     ]
    },
    {
     "name": "stdout",
     "output_type": "stream",
     "text": [
      "valid check...\n",
      "valid check...\n",
      "valid check...\n",
      "valid check...\n",
      "valid check...\n",
      "valid check...\n",
      "valid check...\n",
      "valid check...\n",
      "valid check...\n",
      "valid check...\n",
      "valid check...\n",
      "valid check...\n",
      "valid check...\n",
      "valid check...\n",
      "valid check...\n",
      "valid check...\n",
      "valid check...\n",
      "valid check...\n",
      "valid check...\n",
      "valid check...\n",
      "valid check...\n",
      "valid check...\n"
     ]
    },
    {
     "name": "stderr",
     "output_type": "stream",
     "text": [
      "\r",
      " 83%|███████████████████████████████████████████████████████████████▏            | 9970/12000 [00:31<00:06, 324.71it/s]"
     ]
    },
    {
     "name": "stdout",
     "output_type": "stream",
     "text": [
      "valid check...\n",
      "valid check...\n",
      "valid check...\n",
      "valid check...\n",
      "valid check...\n",
      "valid check...\n",
      "valid check...\n",
      "valid check...\n",
      "valid check...\n",
      "valid check...\n",
      "valid check...\n",
      "valid check...\n",
      "valid check...\n",
      "valid check...\n",
      "valid check...\n",
      "valid check...\n",
      "valid check...\n",
      "valid check...\n",
      "valid check...\n",
      "valid check...\n",
      "valid check...\n",
      "valid check...\n",
      "valid check...\n",
      "valid check...\n",
      "valid check...\n"
     ]
    },
    {
     "name": "stderr",
     "output_type": "stream",
     "text": [
      " 84%|██████████████████████████████████████████████████████████████▊            | 10041/12000 [00:31<00:06, 324.64it/s]"
     ]
    },
    {
     "name": "stdout",
     "output_type": "stream",
     "text": [
      "valid check...\n",
      "valid check...\n",
      "valid check...\n",
      "valid check...\n",
      "valid check...\n",
      "valid check...\n",
      "valid check...\n",
      "valid check...\n",
      "valid check...\n",
      "valid check...\n",
      "valid check...\n",
      "valid check...\n",
      "valid check...\n",
      "valid check...\n",
      "valid check...\n",
      "valid check...\n",
      "valid check...\n",
      "valid check...\n",
      "valid check...\n",
      "valid check...\n"
     ]
    },
    {
     "name": "stderr",
     "output_type": "stream",
     "text": [
      " 84%|███████████████████████████████████████████████████████████████▏           | 10114/12000 [00:31<00:05, 328.60it/s]"
     ]
    },
    {
     "name": "stdout",
     "output_type": "stream",
     "text": [
      "valid check...\n",
      "valid check...\n",
      "valid check...\n",
      "valid check...\n",
      "valid check...\n",
      "valid check...\n",
      "valid check...\n",
      "valid check...\n",
      "valid check...\n",
      "valid check...\n",
      "valid check...\n",
      "valid check...\n",
      "valid check...\n",
      "valid check...\n",
      "valid check...\n",
      "valid check...\n",
      "valid check...\n",
      "valid check...\n"
     ]
    },
    {
     "name": "stderr",
     "output_type": "stream",
     "text": [
      " 85%|███████████████████████████████████████████████████████████████▋           | 10184/12000 [00:32<00:05, 322.27it/s]"
     ]
    },
    {
     "name": "stdout",
     "output_type": "stream",
     "text": [
      "valid check...\n",
      "valid check...\n",
      "valid check...\n",
      "valid check...\n",
      "valid check...\n",
      "valid check...\n",
      "valid check...\n",
      "valid check...\n",
      "valid check...\n",
      "valid check...\n",
      "valid check...\n",
      "valid check...\n",
      "valid check...\n",
      "valid check...\n",
      "valid check...\n",
      "valid check...\n",
      "valid check...\n",
      "valid check...\n",
      "valid check...\n",
      "valid check...\n",
      "valid check...\n"
     ]
    },
    {
     "name": "stderr",
     "output_type": "stream",
     "text": [
      " 85%|████████████████████████████████████████████████████████████████           | 10252/12000 [00:32<00:05, 316.21it/s]"
     ]
    },
    {
     "name": "stdout",
     "output_type": "stream",
     "text": [
      "valid check...\n",
      "valid check...\n",
      "valid check...\n",
      "valid check...\n",
      "valid check...\n",
      "valid check...\n",
      "valid check...\n",
      "valid check...\n",
      "valid check...\n",
      "valid check...\n",
      "valid check...\n",
      "valid check...\n",
      "valid check...\n",
      "valid check...\n",
      "valid check...\n",
      "valid check...\n",
      "valid check...\n",
      "valid check...\n"
     ]
    },
    {
     "name": "stderr",
     "output_type": "stream",
     "text": [
      " 86%|████████████████████████████████████████████████████████████████▍          | 10318/12000 [00:32<00:05, 293.84it/s]"
     ]
    },
    {
     "name": "stdout",
     "output_type": "stream",
     "text": [
      "valid check...\n",
      "valid check...\n",
      "valid check...\n",
      "valid check...\n",
      "valid check...\n",
      "valid check...\n",
      "valid check...\n",
      "valid check...\n",
      "valid check...\n",
      "valid check...\n",
      "valid check...\n",
      "valid check...\n",
      "valid check...\n",
      "valid check...\n"
     ]
    },
    {
     "name": "stderr",
     "output_type": "stream",
     "text": [
      "\r",
      " 86%|████████████████████████████████████████████████████████████████▋          | 10349/12000 [00:32<00:05, 290.26it/s]"
     ]
    },
    {
     "name": "stdout",
     "output_type": "stream",
     "text": [
      "valid check...\n",
      "valid check...\n",
      "valid check...\n",
      "valid check...\n",
      "valid check...\n",
      "valid check...\n",
      "valid check...\n",
      "valid check...\n",
      "valid check...\n",
      "valid check...\n",
      "valid check...\n",
      "valid check...\n",
      "valid check...\n",
      "valid check...\n",
      "valid check...\n",
      "valid check...\n",
      "valid check...\n",
      "valid check...\n",
      "valid check...\n",
      "valid check...\n",
      "valid check...\n",
      "valid check...\n",
      "valid check...\n",
      "valid check...\n",
      "valid check...\n"
     ]
    },
    {
     "name": "stderr",
     "output_type": "stream",
     "text": [
      " 87%|█████████████████████████████████████████████████████████████████▏         | 10421/12000 [00:32<00:05, 313.92it/s]"
     ]
    },
    {
     "name": "stdout",
     "output_type": "stream",
     "text": [
      "valid check...\n",
      "valid check...\n",
      "valid check...\n",
      "valid check...\n",
      "valid check...\n",
      "valid check...\n",
      "valid check...\n",
      "valid check...\n",
      "valid check...\n",
      "valid check...\n",
      "valid check...\n",
      "valid check...\n",
      "valid check...\n"
     ]
    },
    {
     "name": "stderr",
     "output_type": "stream",
     "text": [
      " 87%|█████████████████████████████████████████████████████████████████▌         | 10494/12000 [00:33<00:04, 322.40it/s]"
     ]
    },
    {
     "name": "stdout",
     "output_type": "stream",
     "text": [
      "valid check...\n",
      "valid check...\n",
      "valid check...\n",
      "valid check...\n",
      "valid check...\n",
      "valid check...\n",
      "valid check...\n",
      "valid check...\n",
      "valid check...\n",
      "valid check...\n",
      "valid check...\n",
      "valid check...\n",
      "valid check...\n",
      "valid check...\n",
      "valid check...\n",
      "valid check...\n"
     ]
    },
    {
     "name": "stderr",
     "output_type": "stream",
     "text": [
      " 88%|██████████████████████████████████████████████████████████████████         | 10560/12000 [00:33<00:04, 311.25it/s]"
     ]
    },
    {
     "name": "stdout",
     "output_type": "stream",
     "text": [
      "valid check...\n",
      "valid check...\n",
      "valid check...\n",
      "valid check...\n",
      "valid check...\n",
      "valid check...\n",
      "valid check...\n",
      "valid check...\n",
      "valid check...\n",
      "valid check...\n",
      "valid check...\n",
      "valid check...\n",
      "valid check...\n",
      "valid check...\n",
      "valid check...\n",
      "valid check...\n",
      "valid check...\n",
      "valid check...\n",
      "valid check...\n",
      "valid check...\n",
      "valid check...\n",
      "valid check...\n",
      "valid check...\n",
      "valid check...\n"
     ]
    },
    {
     "name": "stderr",
     "output_type": "stream",
     "text": [
      " 89%|██████████████████████████████████████████████████████████████████▍        | 10632/12000 [00:33<00:04, 320.07it/s]"
     ]
    },
    {
     "name": "stdout",
     "output_type": "stream",
     "text": [
      "valid check...\n",
      "valid check...\n",
      "valid check...\n",
      "valid check...\n",
      "valid check...\n",
      "valid check...\n",
      "valid check...\n",
      "valid check...\n",
      "valid check...\n",
      "valid check...\n",
      "valid check...\n",
      "valid check...\n",
      "valid check...\n",
      "valid check...\n",
      "valid check...\n",
      "valid check...\n",
      "valid check...\n",
      "valid check...\n",
      "valid check...\n"
     ]
    },
    {
     "name": "stderr",
     "output_type": "stream",
     "text": [
      " 89%|██████████████████████████████████████████████████████████████████▉        | 10700/12000 [00:33<00:03, 329.82it/s]"
     ]
    },
    {
     "name": "stdout",
     "output_type": "stream",
     "text": [
      "valid check...\n",
      "valid check...\n",
      "valid check...\n",
      "valid check...\n",
      "valid check...\n",
      "valid check...\n",
      "valid check...\n",
      "valid check...\n",
      "valid check...\n",
      "valid check...\n",
      "valid check...\n",
      "valid check...\n",
      "valid check...\n",
      "valid check...\n",
      "valid check...\n",
      "valid check...\n",
      "valid check...\n",
      "valid check...\n",
      "valid check...\n",
      "valid check...\n",
      "valid check...\n",
      "valid check...\n"
     ]
    },
    {
     "name": "stderr",
     "output_type": "stream",
     "text": [
      " 90%|███████████████████████████████████████████████████████████████████▎       | 10768/12000 [00:34<00:03, 327.05it/s]"
     ]
    },
    {
     "name": "stdout",
     "output_type": "stream",
     "text": [
      "valid check...\n",
      "valid check...\n",
      "valid check...\n",
      "valid check...\n",
      "valid check...\n",
      "valid check...\n",
      "valid check...\n",
      "valid check...\n",
      "valid check...\n",
      "valid check...\n",
      "valid check...\n",
      "valid check...\n",
      "valid check...\n",
      "valid check...\n",
      "valid check...\n",
      "valid check...\n",
      "valid check...\n",
      "valid check...\n",
      "valid check...\n"
     ]
    },
    {
     "name": "stderr",
     "output_type": "stream",
     "text": [
      " 90%|███████████████████████████████████████████████████████████████████▋       | 10838/12000 [00:34<00:03, 322.18it/s]"
     ]
    },
    {
     "name": "stdout",
     "output_type": "stream",
     "text": [
      "valid check...\n",
      "valid check...\n",
      "valid check...\n",
      "valid check...\n",
      "valid check...\n",
      "valid check...\n",
      "valid check...\n",
      "valid check...\n",
      "valid check...\n",
      "valid check...\n",
      "valid check...\n",
      "valid check...\n",
      "valid check...\n",
      "valid check...\n"
     ]
    },
    {
     "name": "stderr",
     "output_type": "stream",
     "text": [
      " 91%|████████████████████████████████████████████████████████████████████▏      | 10904/12000 [00:34<00:03, 310.68it/s]"
     ]
    },
    {
     "name": "stdout",
     "output_type": "stream",
     "text": [
      "valid check...\n",
      "valid check...\n",
      "valid check...\n",
      "valid check...\n",
      "valid check...\n",
      "valid check...\n",
      "valid check...\n",
      "valid check...\n",
      "valid check...\n",
      "valid check...\n",
      "valid check...\n",
      "valid check...\n",
      "valid check...\n",
      "valid check...\n",
      "valid check...\n",
      "valid check...\n"
     ]
    },
    {
     "name": "stderr",
     "output_type": "stream",
     "text": [
      " 91%|████████████████████████████████████████████████████████████████████▌      | 10977/12000 [00:34<00:03, 320.94it/s]"
     ]
    },
    {
     "name": "stdout",
     "output_type": "stream",
     "text": [
      "valid check...\n",
      "valid check...\n",
      "valid check...\n",
      "valid check...\n",
      "valid check...\n",
      "valid check...\n",
      "valid check...\n",
      "valid check...\n",
      "valid check...\n",
      "valid check...\n",
      "valid check...\n",
      "valid check...\n",
      "valid check...\n",
      "valid check...\n",
      "valid check...\n",
      "valid check...\n",
      "valid check...\n",
      "valid check...\n"
     ]
    },
    {
     "name": "stderr",
     "output_type": "stream",
     "text": [
      " 92%|█████████████████████████████████████████████████████████████████████      | 11051/12000 [00:34<00:02, 328.65it/s]"
     ]
    },
    {
     "name": "stdout",
     "output_type": "stream",
     "text": [
      "valid check...\n",
      "valid check...\n",
      "valid check...\n",
      "valid check...\n",
      "valid check...\n",
      "valid check...\n",
      "valid check...\n",
      "valid check...\n",
      "valid check...\n",
      "valid check...\n",
      "valid check...\n",
      "valid check...\n",
      "valid check...\n",
      "valid check...\n",
      "valid check...\n",
      "valid check...\n",
      "valid check...\n",
      "valid check...\n",
      "valid check...\n",
      "valid check...\n"
     ]
    },
    {
     "name": "stderr",
     "output_type": "stream",
     "text": [
      " 93%|█████████████████████████████████████████████████████████████████████▌     | 11121/12000 [00:35<00:02, 326.62it/s]"
     ]
    },
    {
     "name": "stdout",
     "output_type": "stream",
     "text": [
      "valid check...\n",
      "valid check...\n",
      "valid check...\n",
      "valid check...\n",
      "valid check...\n",
      "valid check...\n",
      "valid check...\n",
      "valid check...\n",
      "valid check...\n",
      "valid check...\n",
      "valid check...\n",
      "valid check...\n",
      "valid check...\n",
      "valid check...\n",
      "valid check...\n",
      "valid check...\n"
     ]
    },
    {
     "name": "stderr",
     "output_type": "stream",
     "text": [
      " 93%|█████████████████████████████████████████████████████████████████████▉     | 11187/12000 [00:35<00:02, 320.27it/s]"
     ]
    },
    {
     "name": "stdout",
     "output_type": "stream",
     "text": [
      "valid check...\n",
      "valid check...\n",
      "valid check...\n",
      "valid check...\n",
      "valid check...\n",
      "valid check...\n",
      "valid check...\n",
      "valid check...\n",
      "valid check...\n",
      "valid check...\n",
      "valid check...\n",
      "valid check...\n",
      "valid check...\n",
      "valid check...\n",
      "valid check...\n",
      "valid check...\n"
     ]
    },
    {
     "name": "stderr",
     "output_type": "stream",
     "text": [
      " 94%|██████████████████████████████████████████████████████████████████████▎    | 11255/12000 [00:35<00:02, 315.50it/s]"
     ]
    },
    {
     "name": "stdout",
     "output_type": "stream",
     "text": [
      "valid check...\n",
      "valid check...\n",
      "valid check...\n",
      "valid check...\n",
      "valid check...\n",
      "valid check...\n",
      "valid check...\n",
      "valid check...\n",
      "valid check...\n",
      "valid check...\n",
      "valid check...\n",
      "valid check...\n",
      "valid check...\n",
      "valid check...\n",
      "valid check...\n",
      "valid check...\n",
      "valid check...\n",
      "valid check...\n",
      "valid check...\n"
     ]
    },
    {
     "name": "stderr",
     "output_type": "stream",
     "text": [
      " 94%|██████████████████████████████████████████████████████████████████████▊    | 11327/12000 [00:35<00:02, 322.21it/s]"
     ]
    },
    {
     "name": "stdout",
     "output_type": "stream",
     "text": [
      "valid check...\n",
      "valid check...\n",
      "valid check...\n",
      "valid check...\n",
      "valid check...\n",
      "valid check...\n",
      "valid check...\n",
      "valid check...\n",
      "valid check...\n",
      "valid check...\n",
      "valid check...\n",
      "valid check...\n",
      "valid check...\n",
      "valid check...\n",
      "valid check...\n",
      "valid check...\n",
      "valid check...\n",
      "valid check...\n",
      "valid check...\n",
      "valid check...\n",
      "valid check...\n",
      "valid check...\n",
      "valid check...\n",
      "valid check...\n",
      "valid check...\n",
      "valid check...\n"
     ]
    },
    {
     "name": "stderr",
     "output_type": "stream",
     "text": [
      " 95%|███████████████████████████████████████████████████████████████████████▏   | 11399/12000 [00:35<00:01, 324.23it/s]"
     ]
    },
    {
     "name": "stdout",
     "output_type": "stream",
     "text": [
      "valid check...\n",
      "valid check...\n",
      "valid check...\n",
      "valid check...\n",
      "valid check...\n",
      "valid check...\n",
      "valid check...\n",
      "valid check...\n",
      "valid check...\n",
      "valid check...\n",
      "valid check...\n",
      "valid check...\n",
      "valid check...\n",
      "valid check...\n",
      "valid check...\n",
      "valid check...\n",
      "valid check...\n",
      "valid check...\n",
      "valid check...\n",
      "valid check...\n",
      "valid check...\n",
      "valid check...\n",
      "valid check...\n",
      "valid check...\n",
      "valid check...\n"
     ]
    },
    {
     "name": "stderr",
     "output_type": "stream",
     "text": [
      "\r",
      " 95%|███████████████████████████████████████████████████████████████████████▍   | 11435/12000 [00:36<00:01, 325.05it/s]"
     ]
    },
    {
     "name": "stdout",
     "output_type": "stream",
     "text": [
      "valid check...\n",
      "valid check...\n",
      "valid check...\n",
      "valid check...\n",
      "valid check...\n",
      "valid check...\n",
      "valid check...\n",
      "valid check...\n",
      "valid check...\n",
      "valid check...\n",
      "valid check...\n",
      "valid check...\n",
      "valid check...\n",
      "valid check...\n",
      "valid check...\n",
      "valid check...\n",
      "valid check...\n",
      "valid check...\n",
      "valid check...\n"
     ]
    },
    {
     "name": "stderr",
     "output_type": "stream",
     "text": [
      " 96%|███████████████████████████████████████████████████████████████████████▉   | 11507/12000 [00:36<00:01, 326.03it/s]"
     ]
    },
    {
     "name": "stdout",
     "output_type": "stream",
     "text": [
      "valid check...\n",
      "valid check...\n",
      "valid check...\n",
      "valid check...\n",
      "valid check...\n",
      "valid check...\n",
      "valid check...\n",
      "valid check...\n",
      "valid check...\n",
      "valid check...\n",
      "valid check...\n",
      "valid check...\n",
      "valid check...\n",
      "valid check...\n",
      "valid check...\n",
      "valid check...\n",
      "valid check...\n",
      "valid check...\n",
      "valid check...\n",
      "valid check...\n",
      "valid check...\n",
      "valid check...\n",
      "valid check...\n",
      "valid check...\n",
      "valid check...\n",
      "valid check...\n"
     ]
    },
    {
     "name": "stderr",
     "output_type": "stream",
     "text": [
      " 96%|████████████████████████████████████████████████████████████████████████▎  | 11578/12000 [00:36<00:01, 326.29it/s]"
     ]
    },
    {
     "name": "stdout",
     "output_type": "stream",
     "text": [
      "valid check...\n",
      "valid check...\n",
      "valid check...\n",
      "valid check...\n",
      "valid check...\n",
      "valid check...\n",
      "valid check...\n",
      "valid check...\n",
      "valid check...\n",
      "valid check...\n",
      "valid check...\n",
      "valid check...\n",
      "valid check...\n",
      "valid check...\n",
      "valid check...\n",
      "valid check...\n",
      "valid check...\n",
      "valid check...\n",
      "valid check...\n",
      "valid check...\n",
      "valid check...\n",
      "valid check...\n",
      "valid check...\n"
     ]
    },
    {
     "name": "stderr",
     "output_type": "stream",
     "text": [
      " 97%|████████████████████████████████████████████████████████████████████████▊  | 11650/12000 [00:36<00:01, 322.24it/s]"
     ]
    },
    {
     "name": "stdout",
     "output_type": "stream",
     "text": [
      "valid check...\n",
      "valid check...\n",
      "valid check...\n",
      "valid check...\n",
      "valid check...\n",
      "valid check...\n",
      "valid check...\n",
      "valid check...\n",
      "valid check...\n",
      "valid check...\n",
      "valid check...\n",
      "valid check...\n",
      "valid check...\n",
      "valid check...\n",
      "valid check...\n",
      "valid check...\n",
      "valid check...\n",
      "valid check...\n",
      "valid check...\n",
      "valid check...\n",
      "valid check...\n",
      "valid check...\n"
     ]
    },
    {
     "name": "stderr",
     "output_type": "stream",
     "text": [
      " 98%|█████████████████████████████████████████████████████████████████████████▏ | 11719/12000 [00:36<00:00, 329.60it/s]"
     ]
    },
    {
     "name": "stdout",
     "output_type": "stream",
     "text": [
      "valid check...\n",
      "valid check...\n",
      "valid check...\n",
      "valid check...\n",
      "valid check...\n",
      "valid check...\n",
      "valid check...\n",
      "valid check...\n",
      "valid check...\n",
      "valid check...\n",
      "valid check...\n",
      "valid check...\n",
      "valid check...\n"
     ]
    },
    {
     "name": "stderr",
     "output_type": "stream",
     "text": [
      " 98%|█████████████████████████████████████████████████████████████████████████▋ | 11785/12000 [00:37<00:00, 324.46it/s]"
     ]
    },
    {
     "name": "stdout",
     "output_type": "stream",
     "text": [
      "valid check...\n",
      "valid check...\n",
      "valid check...\n",
      "valid check...\n",
      "valid check...\n",
      "valid check...\n",
      "valid check...\n",
      "valid check...\n",
      "valid check...\n",
      "valid check...\n",
      "valid check...\n",
      "valid check...\n",
      "valid check...\n",
      "valid check...\n",
      "valid check...\n",
      "valid check...\n",
      "valid check...\n",
      "valid check...\n",
      "valid check...\n",
      "valid check...\n",
      "valid check...\n",
      "valid check...\n"
     ]
    },
    {
     "name": "stderr",
     "output_type": "stream",
     "text": [
      " 99%|██████████████████████████████████████████████████████████████████████████ | 11852/12000 [00:37<00:00, 309.36it/s]"
     ]
    },
    {
     "name": "stdout",
     "output_type": "stream",
     "text": [
      "valid check...\n",
      "valid check...\n",
      "valid check...\n",
      "valid check...\n",
      "valid check...\n",
      "valid check...\n",
      "valid check...\n",
      "valid check...\n",
      "valid check...\n",
      "valid check...\n",
      "valid check...\n",
      "valid check...\n",
      "valid check...\n",
      "valid check...\n",
      "valid check...\n",
      "valid check...\n",
      "valid check...\n",
      "valid check...\n"
     ]
    },
    {
     "name": "stderr",
     "output_type": "stream",
     "text": [
      " 99%|██████████████████████████████████████████████████████████████████████████▍| 11917/12000 [00:37<00:00, 306.97it/s]"
     ]
    },
    {
     "name": "stdout",
     "output_type": "stream",
     "text": [
      "valid check...\n",
      "valid check...\n",
      "valid check...\n",
      "valid check...\n",
      "valid check...\n",
      "valid check...\n",
      "valid check...\n",
      "valid check...\n",
      "valid check...\n",
      "valid check...\n",
      "valid check...\n",
      "valid check...\n",
      "valid check...\n",
      "valid check...\n",
      "valid check...\n",
      "valid check...\n",
      "valid check...\n",
      "valid check...\n"
     ]
    },
    {
     "name": "stderr",
     "output_type": "stream",
     "text": [
      "100%|███████████████████████████████████████████████████████████████████████████| 12000/12000 [00:37<00:00, 316.50it/s]"
     ]
    },
    {
     "name": "stdout",
     "output_type": "stream",
     "text": [
      "valid check...\n",
      "valid check...\n",
      "valid check...\n",
      "valid check...\n",
      "valid check...\n",
      "valid check...\n",
      "valid check...\n",
      "valid check...\n",
      "valid check...\n",
      "valid check...\n",
      "valid check...\n",
      "valid check...\n",
      "valid check...\n",
      "valid check...\n",
      "valid check...\n",
      "valid check...\n",
      "valid check...\n",
      "valid check...\n",
      "valid check...\n"
     ]
    },
    {
     "name": "stderr",
     "output_type": "stream",
     "text": [
      "\n"
     ]
    }
   ],
   "source": [
    "EHR_OC.generate_record(12000)"
   ]
  },
  {
   "cell_type": "code",
   "execution_count": 9,
   "id": "5fed1ad7",
   "metadata": {
    "scrolled": true
   },
   "outputs": [],
   "source": [
    "def count_occurrence(patient_record):\n",
    "    \n",
    "    occurrence_count_list = []\n",
    "    \n",
    "    for pid, item in patient_record.items():\n",
    "        \n",
    "        occurrence_count_list.append(item[\"occurrence_count\"])\n",
    "        \n",
    "    return occurrence_count_list"
   ]
  },
  {
   "cell_type": "code",
   "execution_count": 10,
   "id": "55b36e2b",
   "metadata": {
    "scrolled": true
   },
   "outputs": [],
   "source": [
    "occurrence_count_list = count_occurrence(EHR_OC.patient_record)"
   ]
  },
  {
   "cell_type": "code",
   "execution_count": 11,
   "id": "68e2f9ff",
   "metadata": {
    "scrolled": true
   },
   "outputs": [
    {
     "data": {
      "text/plain": [
       "(array([0, 1, 2, 3, 4, 5, 6, 7]),\n",
       " array([3737, 4231, 2566, 1009,  337,   92,   22,    6], dtype=int64))"
      ]
     },
     "execution_count": 11,
     "metadata": {},
     "output_type": "execute_result"
    }
   ],
   "source": [
    "np.unique(occurrence_count_list, return_counts=True)"
   ]
  },
  {
   "cell_type": "code",
   "execution_count": null,
   "id": "2d32035d",
   "metadata": {},
   "outputs": [],
   "source": []
  },
  {
   "cell_type": "code",
   "execution_count": null,
   "id": "d5d0b691",
   "metadata": {},
   "outputs": [],
   "source": []
  },
  {
   "cell_type": "code",
   "execution_count": 12,
   "id": "08efc94d",
   "metadata": {
    "scrolled": true
   },
   "outputs": [
    {
     "name": "stdout",
     "output_type": "stream",
     "text": [
      "splitting 1-fold\n",
      "fold size: 1200\n",
      "splitting 2-fold\n",
      "fold size: 1200\n",
      "splitting 3-fold\n",
      "fold size: 1200\n",
      "splitting 4-fold\n",
      "fold size: 1200\n",
      "splitting 5-fold\n",
      "fold size: 1200\n",
      "splitting 6-fold\n",
      "fold size: 1200\n",
      "splitting 7-fold\n",
      "fold size: 1200\n",
      "splitting 8-fold\n",
      "fold size: 1200\n",
      "splitting 9-fold\n",
      "fold size: 1200\n",
      "splitting 10-fold\n",
      "fold size: 1200\n"
     ]
    }
   ],
   "source": [
    "EHR_OC.split_record_nfold(10)"
   ]
  },
  {
   "cell_type": "code",
   "execution_count": 13,
   "id": "116ddccb",
   "metadata": {
    "scrolled": true
   },
   "outputs": [],
   "source": [
    "EHR_OC.save_record_nfold(\"C:/Users/jayao/Desktop/python_projects/transformer_propensity/data/OC_10/\")"
   ]
  },
  {
   "cell_type": "code",
   "execution_count": 14,
   "id": "42220dfd",
   "metadata": {
    "scrolled": true
   },
   "outputs": [],
   "source": [
    "EHR_OC.save_record(\"C:/Users/jayao/Desktop/python_projects/transformer_propensity/data/OC_10/\")"
   ]
  },
  {
   "cell_type": "code",
   "execution_count": 15,
   "id": "aab2eed3",
   "metadata": {
    "scrolled": true
   },
   "outputs": [],
   "source": [
    "EHR_OC.save_params(\"C:/Users/jayao/Desktop/python_projects/transformer_propensity/data/OC_10/\")"
   ]
  },
  {
   "cell_type": "code",
   "execution_count": null,
   "id": "9f8e2a91",
   "metadata": {},
   "outputs": [],
   "source": []
  },
  {
   "cell_type": "code",
   "execution_count": 16,
   "id": "60bc489a",
   "metadata": {
    "scrolled": true
   },
   "outputs": [],
   "source": [
    "def count_oc(data_dict):\n",
    "    \n",
    "    oc_list = []\n",
    "    \n",
    "    for pid, item in data_dict.items():\n",
    "        \n",
    "        occurrence_count = item[\"occurrence_count\"]\n",
    "        oc_list.append(occurrence_count)\n",
    "\n",
    "    return oc_list"
   ]
  },
  {
   "cell_type": "code",
   "execution_count": 17,
   "id": "a78c6f7e",
   "metadata": {
    "scrolled": true
   },
   "outputs": [],
   "source": [
    "oc_list = count_oc(EHR_OC.occurrence_count_record)"
   ]
  },
  {
   "cell_type": "code",
   "execution_count": 18,
   "id": "79ddc3c6",
   "metadata": {
    "scrolled": true
   },
   "outputs": [
    {
     "data": {
      "text/plain": [
       "(array([0, 1, 2, 3]), array([3000, 3000, 3000, 3000], dtype=int64))"
      ]
     },
     "execution_count": 18,
     "metadata": {},
     "output_type": "execute_result"
    }
   ],
   "source": [
    "np.unique(oc_list, return_counts=True)"
   ]
  },
  {
   "cell_type": "code",
   "execution_count": null,
   "id": "819d1364",
   "metadata": {
    "scrolled": true
   },
   "outputs": [],
   "source": []
  },
  {
   "cell_type": "code",
   "execution_count": 19,
   "id": "c7324d01",
   "metadata": {
    "scrolled": true
   },
   "outputs": [],
   "source": [
    "def get_ps_distribution(patient_record):\n",
    "    \n",
    "    treated_ps = []\n",
    "    control_ps = []\n",
    "    \n",
    "    for pid, item in tqdm(patient_record.items()):\n",
    "                \n",
    "        if item[\"treatment_assignment\"] == 1:\n",
    "            treated_ps.append(item[\"treatment_prob\"])\n",
    "        else:\n",
    "            control_ps.append(item[\"treatment_prob\"])\n",
    "            \n",
    "    return treated_ps, control_ps"
   ]
  },
  {
   "cell_type": "code",
   "execution_count": 20,
   "id": "50530fd7",
   "metadata": {
    "scrolled": true
   },
   "outputs": [
    {
     "name": "stderr",
     "output_type": "stream",
     "text": [
      "100%|███████████████████████████████████████████████████████████████████████| 12000/12000 [00:00<00:00, 6969211.85it/s]\n"
     ]
    }
   ],
   "source": [
    "treated_ps, control_ps = get_ps_distribution(EHR_OC.occurrence_count_record)"
   ]
  },
  {
   "cell_type": "code",
   "execution_count": 22,
   "id": "9185660c",
   "metadata": {
    "scrolled": true
   },
   "outputs": [
    {
     "data": {
      "text/plain": [
       "(array([4.400e+01, 5.490e+02, 1.326e+03, 6.830e+02, 8.600e+01, 1.000e+00,\n",
       "        0.000e+00, 0.000e+00, 0.000e+00, 0.000e+00, 0.000e+00, 0.000e+00,\n",
       "        0.000e+00, 0.000e+00, 0.000e+00, 2.900e+01, 4.740e+02, 1.051e+03,\n",
       "        4.980e+02, 6.300e+01, 0.000e+00, 0.000e+00, 0.000e+00, 0.000e+00,\n",
       "        0.000e+00, 0.000e+00, 0.000e+00, 0.000e+00, 0.000e+00, 1.000e+00,\n",
       "        4.000e+01, 4.080e+02, 7.210e+02, 3.050e+02, 3.800e+01, 1.000e+00,\n",
       "        0.000e+00, 0.000e+00, 0.000e+00, 0.000e+00, 0.000e+00, 0.000e+00,\n",
       "        0.000e+00, 0.000e+00, 0.000e+00, 1.900e+01, 2.350e+02, 4.750e+02,\n",
       "        1.860e+02, 1.300e+01]),\n",
       " array([0.06521225, 0.07858382, 0.0919554 , 0.10532697, 0.11869854,\n",
       "        0.13207011, 0.14544169, 0.15881326, 0.17218483, 0.18555641,\n",
       "        0.19892798, 0.21229955, 0.22567113, 0.2390427 , 0.25241427,\n",
       "        0.26578585, 0.27915742, 0.29252899, 0.30590056, 0.31927214,\n",
       "        0.33264371, 0.34601528, 0.35938686, 0.37275843, 0.38613   ,\n",
       "        0.39950158, 0.41287315, 0.42624472, 0.4396163 , 0.45298787,\n",
       "        0.46635944, 0.47973102, 0.49310259, 0.50647416, 0.51984573,\n",
       "        0.53321731, 0.54658888, 0.55996045, 0.57333203, 0.5867036 ,\n",
       "        0.60007517, 0.61344675, 0.62681832, 0.64018989, 0.65356147,\n",
       "        0.66693304, 0.68030461, 0.69367618, 0.70704776, 0.72041933,\n",
       "        0.7337909 ]),\n",
       " <BarContainer object of 50 artists>)"
      ]
     },
     "execution_count": 22,
     "metadata": {},
     "output_type": "execute_result"
    },
    {
     "data": {
      "image/png": "[encoded data removed]",
      "text/plain": [
       "<Figure size 640x480 with 1 Axes>"
      ]
     },
     "metadata": {},
     "output_type": "display_data"
    }
   ],
   "source": [
    "plt.hist(treated_ps, density=False, bins=50, alpha=0.3)\n",
    "plt.hist(control_ps, density=False, bins=50, alpha=0.3)"
   ]
  },
  {
   "cell_type": "code",
   "execution_count": null,
   "id": "ccf76637",
   "metadata": {
    "scrolled": true
   },
   "outputs": [],
   "source": []
  },
  {
   "cell_type": "code",
   "execution_count": null,
   "id": "9c012618",
   "metadata": {
    "scrolled": true
   },
   "outputs": [],
   "source": []
  }
 ],
 "metadata": {
  "kernelspec": {
   "display_name": "transformer_propensity",
   "language": "python",
   "name": "transformer_propensity"
  },
  "language_info": {
   "codemirror_mode": {
    "name": "ipython",
    "version": 3
   },
   "file_extension": ".py",
   "mimetype": "text/x-python",
   "name": "python",
   "nbconvert_exporter": "python",
   "pygments_lexer": "ipython3",
   "version": "3.9.13"
  }
 },
 "nbformat": 4,
 "nbformat_minor": 5
}
