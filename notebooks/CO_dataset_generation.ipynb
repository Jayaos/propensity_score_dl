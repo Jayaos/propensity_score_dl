{
 "cells": [
  {
   "cell_type": "code",
   "execution_count": 1,
   "id": "8fb7984c",
   "metadata": {},
   "outputs": [
    {
     "ename": "ModuleNotFoundError",
     "evalue": "No module named 'src'",
     "output_type": "error",
     "traceback": [
      "\u001b[1;31m---------------------------------------------------------------------------\u001b[0m",
      "\u001b[1;31mModuleNotFoundError\u001b[0m                       Traceback (most recent call last)",
      "Cell \u001b[1;32mIn[1], line 1\u001b[0m\n\u001b[1;32m----> 1\u001b[0m \u001b[38;5;28;01mfrom\u001b[39;00m \u001b[38;5;21;01msrc\u001b[39;00m\u001b[38;5;21;01m.\u001b[39;00m\u001b[38;5;21;01mConsecutiveOccurrence\u001b[39;00m \u001b[38;5;28;01mimport\u001b[39;00m \u001b[38;5;241m*\u001b[39m\n\u001b[0;32m      2\u001b[0m \u001b[38;5;28;01mfrom\u001b[39;00m \u001b[38;5;21;01msrc\u001b[39;00m\u001b[38;5;21;01m.\u001b[39;00m\u001b[38;5;21;01mutils\u001b[39;00m \u001b[38;5;28;01mimport\u001b[39;00m \u001b[38;5;241m*\u001b[39m\n\u001b[0;32m      3\u001b[0m \u001b[38;5;28;01mimport\u001b[39;00m \u001b[38;5;21;01mmatplotlib\u001b[39;00m\u001b[38;5;21;01m.\u001b[39;00m\u001b[38;5;21;01mpyplot\u001b[39;00m \u001b[38;5;28;01mas\u001b[39;00m \u001b[38;5;21;01mplt\u001b[39;00m\n",
      "\u001b[1;31mModuleNotFoundError\u001b[0m: No module named 'src'"
     ]
    }
   ],
   "source": [
    "from src.ConsecutiveOccurrence import *\n",
    "from src.utils import *\n",
    "import matplotlib.pyplot as plt"
   ]
  },
  {
   "cell_type": "code",
   "execution_count": 2,
   "id": "b265dc79",
   "metadata": {},
   "outputs": [],
   "source": [
    "params = {\"record_len_mean\" : 10, \"record_dim\" : 100, \"alpha_range\" : [5,10], \"beta_range\" : [240,260],\n",
    "          \"record_len_min\" : 3, \"confounding_var_num\" : 1, \"progression_var_num\" : 3, \n",
    "          \"p_range\" : [1.3, 1.4], \"treatment_effect\" : -5, \"outcome_bias\" : 10, \"alpha\" : 10, \n",
    "         \"ps_noise_var\" : 0.01, \"outcome_noise_var\" : 0.1, \"num_token_reserve\" : 4, \"prob_reverse_progression\" : 0}"
   ]
  },
  {
   "cell_type": "code",
   "execution_count": 3,
   "id": "b6c9856b",
   "metadata": {},
   "outputs": [],
   "source": [
    "EHR_CO = EHRgeneratorCO(params)"
   ]
  },
  {
   "cell_type": "code",
   "execution_count": 4,
   "id": "c387d93c",
   "metadata": {
    "scrolled": true
   },
   "outputs": [
    {
     "name": "stdout",
     "output_type": "stream",
     "text": [
      "setting progression_var and confounding_var\n",
      "progression_var : [59 42 66]\n",
      "confounding_var : [66]\n"
     ]
    }
   ],
   "source": [
    "EHR_CO.set_variables()"
   ]
  },
  {
   "cell_type": "code",
   "execution_count": null,
   "id": "9700c12b",
   "metadata": {},
   "outputs": [],
   "source": [
    "EHR_CO.generate_record(100000)"
   ]
  },
  {
   "cell_type": "code",
   "execution_count": 18,
   "id": "29f326ff",
   "metadata": {},
   "outputs": [],
   "source": [
    "EHR_CO.update_occurrence_sum_dict()"
   ]
  },
  {
   "cell_type": "code",
   "execution_count": 12,
   "id": "b00787e1",
   "metadata": {},
   "outputs": [
    {
     "data": {
      "text/plain": [
       "3041"
      ]
     },
     "execution_count": 12,
     "metadata": {},
     "output_type": "execute_result"
    }
   ],
   "source": [
    "len(EHR_CO.occurrence_sum_dict[4])"
   ]
  },
  {
   "cell_type": "code",
   "execution_count": 19,
   "id": "cb256a49",
   "metadata": {},
   "outputs": [
    {
     "name": "stdout",
     "output_type": "stream",
     "text": [
      "occurrence sum 0 : 29952 patients\n",
      "occurrence sum 1 : 28157 patients\n",
      "occurrence sum 2 : 18365 patients\n",
      "occurrence sum 3 : 10832 patients\n",
      "occurrence sum 4 : 5913 patients\n"
     ]
    }
   ],
   "source": [
    "EHR_CO.build_record_by_occurrence_sum([0,1,2,3,4],[1000,1000,2000,4000,4000])"
   ]
  },
  {
   "cell_type": "code",
   "execution_count": null,
   "id": "f5f30441",
   "metadata": {},
   "outputs": [],
   "source": []
  },
  {
   "cell_type": "code",
   "execution_count": null,
   "id": "b742b430",
   "metadata": {},
   "outputs": [],
   "source": []
  },
  {
   "cell_type": "code",
   "execution_count": 26,
   "id": "08efc94d",
   "metadata": {},
   "outputs": [
    {
     "name": "stdout",
     "output_type": "stream",
     "text": [
      "splitting 1-fold\n",
      "splitting 2-fold\n",
      "splitting 3-fold\n",
      "splitting 4-fold\n",
      "splitting 5-fold\n",
      "splitting 6-fold\n",
      "splitting 7-fold\n",
      "splitting 8-fold\n",
      "splitting 9-fold\n",
      "splitting 10-fold\n"
     ]
    }
   ],
   "source": [
    "EHR_CO.split_record_nfold(10)"
   ]
  },
  {
   "cell_type": "code",
   "execution_count": null,
   "id": "d3ccd1ae",
   "metadata": {},
   "outputs": [],
   "source": []
  },
  {
   "cell_type": "code",
   "execution_count": 27,
   "id": "116ddccb",
   "metadata": {},
   "outputs": [],
   "source": [
    "EHR_CO.save_record_nfold(\"C:/Users/jayao/Desktop/python_projects/transformer_propensity/data/CO_10/\")"
   ]
  },
  {
   "cell_type": "code",
   "execution_count": 28,
   "id": "42220dfd",
   "metadata": {},
   "outputs": [],
   "source": [
    "EHR_CO.save_record(\"C:/Users/jayao/Desktop/python_projects/transformer_propensity/data/CO_10/\")"
   ]
  },
  {
   "cell_type": "code",
   "execution_count": 29,
   "id": "aab2eed3",
   "metadata": {},
   "outputs": [],
   "source": [
    "EHR_CO.save_params(\"C:/Users/jayao/Desktop/python_projects/transformer_propensity/data/CO_10/\")"
   ]
  },
  {
   "cell_type": "code",
   "execution_count": 20,
   "id": "60bc489a",
   "metadata": {},
   "outputs": [],
   "source": [
    "def count_co(data_dict):\n",
    "    \n",
    "    co_list = []\n",
    "    \n",
    "    for pid, item in data_dict.items():\n",
    "        \n",
    "        consecutive_occurrence = item[\"consecutive_occurrence\"]\n",
    "        co_list.append(consecutive_occurrence)\n",
    "        \n",
    "\n",
    "    return co_list"
   ]
  },
  {
   "cell_type": "code",
   "execution_count": 21,
   "id": "a78c6f7e",
   "metadata": {},
   "outputs": [],
   "source": [
    "co_list = count_co(EHR_CO.occurrence_sum_record)"
   ]
  },
  {
   "cell_type": "code",
   "execution_count": 22,
   "id": "79ddc3c6",
   "metadata": {},
   "outputs": [
    {
     "data": {
      "text/plain": [
       "(array([1000.,    0., 4422.,    0.,    0., 4695.,    0., 1582.,    0.,\n",
       "         301.]),\n",
       " array([0. , 0.4, 0.8, 1.2, 1.6, 2. , 2.4, 2.8, 3.2, 3.6, 4. ]),\n",
       " <BarContainer object of 10 artists>)"
      ]
     },
     "execution_count": 22,
     "metadata": {},
     "output_type": "execute_result"
    },
    {
     "data": {
      "image/png": "[encoded data removed]",
      "text/plain": [
       "<Figure size 640x480 with 1 Axes>"
      ]
     },
     "metadata": {},
     "output_type": "display_data"
    }
   ],
   "source": [
    "plt.hist(co_list)"
   ]
  },
  {
   "cell_type": "code",
   "execution_count": null,
   "id": "819d1364",
   "metadata": {},
   "outputs": [],
   "source": []
  },
  {
   "cell_type": "code",
   "execution_count": 23,
   "id": "c7324d01",
   "metadata": {},
   "outputs": [],
   "source": [
    "def get_ps_distribution(patient_record):\n",
    "    \n",
    "    treated_ps = []\n",
    "    control_ps = []\n",
    "    \n",
    "    for pid, item in tqdm(patient_record.items()):\n",
    "                \n",
    "        if item[\"treatment_assignment\"] == 1:\n",
    "            treated_ps.append(item[\"treatment_prob\"].item())\n",
    "        else:\n",
    "            control_ps.append(item[\"treatment_prob\"].item())\n",
    "            \n",
    "    return treated_ps, control_ps"
   ]
  },
  {
   "cell_type": "code",
   "execution_count": 24,
   "id": "50530fd7",
   "metadata": {},
   "outputs": [
    {
     "name": "stderr",
     "output_type": "stream",
     "text": [
      "100%|████████████████████████████████████████████████████████████████████████| 12000/12000 [00:00<00:00, 332388.84it/s]\n"
     ]
    }
   ],
   "source": [
    "treated_ps, control_ps = get_ps_distribution(EHR_CO.occurrence_sum_record)"
   ]
  },
  {
   "cell_type": "code",
   "execution_count": 25,
   "id": "9185660c",
   "metadata": {},
   "outputs": [
    {
     "data": {
      "text/plain": [
       "(array([8.60461771e-01, 5.31461682e+00, 2.81421615e+00, 1.31600036e-01,\n",
       "        0.00000000e+00, 0.00000000e+00, 0.00000000e+00, 0.00000000e+00,\n",
       "        0.00000000e+00, 0.00000000e+00, 1.01230797e-02, 1.76141586e+00,\n",
       "        1.69055430e+01, 1.21780648e+01, 7.69354054e-01, 0.00000000e+00,\n",
       "        0.00000000e+00, 0.00000000e+00, 0.00000000e+00, 0.00000000e+00,\n",
       "        0.00000000e+00, 0.00000000e+00, 0.00000000e+00, 0.00000000e+00,\n",
       "        0.00000000e+00, 0.00000000e+00, 0.00000000e+00, 0.00000000e+00,\n",
       "        0.00000000e+00, 0.00000000e+00, 0.00000000e+00, 0.00000000e+00,\n",
       "        0.00000000e+00, 0.00000000e+00, 0.00000000e+00, 7.18738656e-01,\n",
       "        7.21775580e+00, 4.53513969e+00, 2.53076992e-01, 0.00000000e+00,\n",
       "        0.00000000e+00, 0.00000000e+00, 0.00000000e+00, 5.06153983e-02,\n",
       "        7.49107895e-01, 1.10341568e+00, 8.09846373e-02, 1.01230797e-02,\n",
       "        7.08615576e-02, 1.01230797e-01]),\n",
       " array([0.06848001, 0.08645384, 0.10442767, 0.1224015 , 0.14037533,\n",
       "        0.15834916, 0.17632299, 0.19429681, 0.21227064, 0.23024447,\n",
       "        0.2482183 , 0.26619213, 0.28416596, 0.30213979, 0.32011362,\n",
       "        0.33808745, 0.35606128, 0.37403511, 0.39200894, 0.40998277,\n",
       "        0.4279566 , 0.44593043, 0.46390426, 0.48187809, 0.49985192,\n",
       "        0.51782575, 0.53579958, 0.55377341, 0.57174724, 0.58972107,\n",
       "        0.6076949 , 0.62566873, 0.64364256, 0.66161639, 0.67959022,\n",
       "        0.69756405, 0.71553787, 0.7335117 , 0.75148553, 0.76945936,\n",
       "        0.78743319, 0.80540702, 0.82338085, 0.84135468, 0.85932851,\n",
       "        0.87730234, 0.89527617, 0.91325   , 0.93122383, 0.94919766,\n",
       "        0.96717149]),\n",
       " <BarContainer object of 50 artists>)"
      ]
     },
     "execution_count": 25,
     "metadata": {},
     "output_type": "execute_result"
    },
    {
     "data": {
      "image/png": "[encoded data removed]",
      "text/plain": [
       "<Figure size 640x480 with 1 Axes>"
      ]
     },
     "metadata": {},
     "output_type": "display_data"
    }
   ],
   "source": [
    "plt.hist(treated_ps, density=True, bins=50, alpha=0.3)\n",
    "plt.hist(control_ps, density=True, bins=50, alpha=0.3)"
   ]
  }
 ],
 "metadata": {
  "kernelspec": {
   "display_name": "transformer_propensity",
   "language": "python",
   "name": "transformer_propensity"
  },
  "language_info": {
   "codemirror_mode": {
    "name": "ipython",
    "version": 3
   },
   "file_extension": ".py",
   "mimetype": "text/x-python",
   "name": "python",
   "nbconvert_exporter": "python",
   "pygments_lexer": "ipython3",
   "version": "3.9.13"
  }
 },
 "nbformat": 4,
 "nbformat_minor": 5
}
