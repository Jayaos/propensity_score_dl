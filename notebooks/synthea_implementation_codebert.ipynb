{
 "cells": [
  {
   "cell_type": "code",
   "execution_count": 1,
   "id": "40854fc7",
   "metadata": {},
   "outputs": [],
   "source": [
    "from src.SyntheticDataGeneration import *"
   ]
  },
  {
   "cell_type": "code",
   "execution_count": null,
   "id": "256ac63b",
   "metadata": {},
   "outputs": [],
   "source": [
    "            time_varying_param = np.transpose(SplineTrendsMixture(self.params[\"record_dim\"], rl)(np.arange(rl))) * time_varying_param # rl * record_dim\n"
   ]
  },
  {
   "cell_type": "code",
   "execution_count": 6,
   "id": "31e30e9e",
   "metadata": {},
   "outputs": [
    {
     "data": {
      "text/plain": [
       "array([[1.085, 1.095, 1.105, 1.115, 1.125],\n",
       "       [1.   , 1.   , 1.   , 1.   , 1.   ],\n",
       "       [1.   , 1.   , 1.   , 1.   , 1.   ],\n",
       "       [1.115, 1.105, 1.095, 1.085, 1.075],\n",
       "       [1.   , 1.   , 1.   , 1.   , 1.   ],\n",
       "       [1.085, 1.095, 1.105, 1.115, 1.125],\n",
       "       [1.085, 1.095, 1.105, 1.115, 1.125],\n",
       "       [0.915, 0.905, 0.895, 0.885, 0.875],\n",
       "       [1.085, 1.095, 1.105, 1.115, 1.125],\n",
       "       [1.115, 1.105, 1.095, 1.085, 1.075]])"
      ]
     },
     "execution_count": 6,
     "metadata": {},
     "output_type": "execute_result"
    }
   ],
   "source": [
    "SplineTrendsMixture(10,5)([1,2,3,4,5])"
   ]
  },
  {
   "cell_type": "code",
   "execution_count": 12,
   "id": "d2405648",
   "metadata": {},
   "outputs": [
    {
     "data": {
      "text/plain": [
       "<src.SyntheticDataGeneration.SplineTrendsMixture at 0x19845d1eb20>"
      ]
     },
     "execution_count": 12,
     "metadata": {},
     "output_type": "execute_result"
    }
   ],
   "source": [
    "SplineTrendsMixture(10, 5)"
   ]
  }
 ],
 "metadata": {
  "kernelspec": {
   "display_name": "transformer_propensity",
   "language": "python",
   "name": "transformer_propensity"
  },
  "language_info": {
   "codemirror_mode": {
    "name": "ipython",
    "version": 3
   },
   "file_extension": ".py",
   "mimetype": "text/x-python",
   "name": "python",
   "nbconvert_exporter": "python",
   "pygments_lexer": "ipython3",
   "version": "3.9.13"
  }
 },
 "nbformat": 4,
 "nbformat_minor": 5
}
