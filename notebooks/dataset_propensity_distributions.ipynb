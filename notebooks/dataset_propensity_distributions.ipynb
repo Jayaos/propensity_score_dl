{
 "cells": [
  {
   "cell_type": "code",
   "execution_count": 24,
   "id": "8fb7984c",
   "metadata": {},
   "outputs": [],
   "source": [
    "from src.utils import *\n",
    "import matplotlib.pyplot as plt\n",
    "from tqdm import tqdm"
   ]
  },
  {
   "cell_type": "code",
   "execution_count": null,
   "id": "97781095",
   "metadata": {},
   "outputs": [],
   "source": []
  },
  {
   "cell_type": "code",
   "execution_count": null,
   "id": "0c60aa4e",
   "metadata": {},
   "outputs": [],
   "source": []
  },
  {
   "cell_type": "code",
   "execution_count": 15,
   "id": "c8aa9966",
   "metadata": {},
   "outputs": [],
   "source": [
    "EHR_CO = load_data(\"C:/Users/jayao/Desktop/python_projects/transformer_propensity/data/CO_10/consecutive_occurrence_patient_record.pkl\")"
   ]
  },
  {
   "cell_type": "code",
   "execution_count": 2,
   "id": "bcd221ea",
   "metadata": {},
   "outputs": [],
   "source": [
    "EHR_OD = load_data(\"C:/Users/jayao/Desktop/python_projects/transformer_propensity/data/OD_10/occurrence_distance_patient_record.pkl\")"
   ]
  },
  {
   "cell_type": "code",
   "execution_count": 16,
   "id": "33566796",
   "metadata": {},
   "outputs": [],
   "source": [
    "EHR_OW = load_data(\"C:/Users/jayao/Desktop/python_projects/transformer_propensity/data/OW_10/occurrence_window_patient_record.pkl\")"
   ]
  },
  {
   "cell_type": "code",
   "execution_count": 17,
   "id": "d2cb7704",
   "metadata": {},
   "outputs": [],
   "source": [
    "EHR_SD = load_data(\"C:/Users/jayao/Desktop/python_projects/transformer_propensity/data/synthea/synthea_sinusitis_patient_record.pkl\")"
   ]
  },
  {
   "cell_type": "code",
   "execution_count": 80,
   "id": "371b8780",
   "metadata": {},
   "outputs": [],
   "source": [
    "def calculate_summary_stat(data_dict):\n",
    "    \n",
    "    record_len_list = []\n",
    "    num_code_list = []\n",
    "    avg_num_code_list = []\n",
    "    treatment_list = []\n",
    "    \n",
    "    for pid, pid_dict in data_dict.items():\n",
    "        record_len = len(pid_dict[\"code_ind\"])\n",
    "        code_num = len(pid_dict[\"code_collapsed_ind\"])\n",
    "        \n",
    "        record_len_list.append(record_len)\n",
    "        num_code_list.append(code_num)\n",
    "        avg_num_code_list.append(code_num/record_len)\n",
    "        treatment_list.append(pid_dict[\"treatment_assignment\"])\n",
    "    \n",
    "    \n",
    "    print(\"number of samples : {}\".format(len(data_dict)))\n",
    "    \n",
    "    print(\"avg. record length : {}\".format(np.mean(record_len_list)))\n",
    "    print(\"avg. codes per sample: {}\".format(np.mean(num_code_list)))\n",
    "    print(\"avg. codes per record: {}\".format(np.mean(avg_num_code_list)))\n",
    "    print(\"prev. treatment : {}\".format(np.mean(treatment_list)))"
   ]
  },
  {
   "cell_type": "code",
   "execution_count": null,
   "id": "29232ab4",
   "metadata": {},
   "outputs": [],
   "source": []
  },
  {
   "cell_type": "code",
   "execution_count": 81,
   "id": "c5cc6d97",
   "metadata": {},
   "outputs": [
    {
     "name": "stdout",
     "output_type": "stream",
     "text": [
      "number of samples : 12000\n",
      "avg. record length : 11.636666666666667\n",
      "avg. codes per sample: 40.68666666666667\n",
      "avg. codes per record: 3.462046585891749\n",
      "prev. treatment : 0.542\n"
     ]
    }
   ],
   "source": [
    "calculate_summary_stat(EHR_CO)"
   ]
  },
  {
   "cell_type": "code",
   "execution_count": 82,
   "id": "1e3b58d8",
   "metadata": {},
   "outputs": [
    {
     "name": "stdout",
     "output_type": "stream",
     "text": [
      "number of samples : 12000\n",
      "avg. record length : 10.095666666666666\n",
      "avg. codes per sample: 31.993166666666667\n",
      "avg. codes per record: 3.1769014268103466\n",
      "prev. treatment : 0.4705\n"
     ]
    }
   ],
   "source": [
    "calculate_summary_stat(EHR_OD)"
   ]
  },
  {
   "cell_type": "code",
   "execution_count": 83,
   "id": "c904e10d",
   "metadata": {},
   "outputs": [
    {
     "name": "stdout",
     "output_type": "stream",
     "text": [
      "number of samples : 12000\n",
      "avg. record length : 9.993916666666667\n",
      "avg. codes per sample: 37.053916666666666\n",
      "avg. codes per record: 3.604001223100885\n",
      "prev. treatment : 0.483\n"
     ]
    }
   ],
   "source": [
    "calculate_summary_stat(EHR_OW)"
   ]
  },
  {
   "cell_type": "code",
   "execution_count": 84,
   "id": "678f2038",
   "metadata": {},
   "outputs": [
    {
     "name": "stdout",
     "output_type": "stream",
     "text": [
      "number of samples : 6864\n",
      "avg. record length : 5.553613053613054\n",
      "avg. codes per sample: 5.769376456876457\n",
      "avg. codes per record: 1.0348083243242772\n",
      "prev. treatment : 0.522581585081585\n"
     ]
    }
   ],
   "source": [
    "calculate_summary_stat(EHR_SD)"
   ]
  },
  {
   "cell_type": "code",
   "execution_count": null,
   "id": "22a6938c",
   "metadata": {},
   "outputs": [],
   "source": []
  },
  {
   "cell_type": "code",
   "execution_count": null,
   "id": "fc10ccac",
   "metadata": {},
   "outputs": [],
   "source": []
  },
  {
   "cell_type": "code",
   "execution_count": 25,
   "id": "c7324d01",
   "metadata": {},
   "outputs": [],
   "source": [
    "def get_ps_distribution(patient_record):\n",
    "    \n",
    "    treated_ps = []\n",
    "    control_ps = []\n",
    "    \n",
    "    for pid, item in tqdm(patient_record.items()):\n",
    "                \n",
    "        if item[\"treatment_assignment\"] == 1:\n",
    "            treated_ps.append(item[\"treatment_prob\"])\n",
    "        else:\n",
    "            control_ps.append(item[\"treatment_prob\"])\n",
    "            \n",
    "    return treated_ps, control_ps"
   ]
  },
  {
   "cell_type": "code",
   "execution_count": 39,
   "id": "35a35472",
   "metadata": {},
   "outputs": [
    {
     "name": "stderr",
     "output_type": "stream",
     "text": [
      "100%|████████████████████████████████████████████████████████████████████████| 12000/12000 [00:00<00:00, 374672.63it/s]\n"
     ]
    }
   ],
   "source": [
    "treated_ps_co, control_ps_co = get_ps_distribution(EHR_CO)"
   ]
  },
  {
   "cell_type": "code",
   "execution_count": 40,
   "id": "4b6b1f08",
   "metadata": {},
   "outputs": [
    {
     "name": "stderr",
     "output_type": "stream",
     "text": [
      "100%|████████████████████████████████████████████████████████████████████████| 12000/12000 [00:00<00:00, 705893.92it/s]\n"
     ]
    }
   ],
   "source": [
    "treated_ps_od, control_ps_od = get_ps_distribution(EHR_OD)"
   ]
  },
  {
   "cell_type": "code",
   "execution_count": 41,
   "id": "78271f90",
   "metadata": {},
   "outputs": [
    {
     "name": "stderr",
     "output_type": "stream",
     "text": [
      "100%|████████████████████████████████████████████████████████████████████████| 12000/12000 [00:00<00:00, 685371.79it/s]\n"
     ]
    }
   ],
   "source": [
    "treated_ps_ow, control_ps_ow = get_ps_distribution(EHR_OW)"
   ]
  },
  {
   "cell_type": "code",
   "execution_count": 42,
   "id": "eaf153d8",
   "metadata": {},
   "outputs": [
    {
     "name": "stderr",
     "output_type": "stream",
     "text": [
      "100%|██████████████████████████████████████████████████████████████████████████| 6864/6864 [00:00<00:00, 686678.97it/s]\n"
     ]
    }
   ],
   "source": [
    "treated_ps_sd, control_ps_sd = get_ps_distribution(EHR_SD)"
   ]
  },
  {
   "cell_type": "code",
   "execution_count": 76,
   "id": "7d1c751d",
   "metadata": {},
   "outputs": [
    {
     "data": {
      "image/png": "[encoded data removed]",
      "text/plain": [
       "<Figure size 326x300 with 1 Axes>"
      ]
     },
     "metadata": {},
     "output_type": "display_data"
    }
   ],
   "source": [
    "plt.figure(figsize=(3.26*2/2, 3)) \n",
    "\n",
    "plt.hist(treated_ps_co, density=True, bins=50, alpha=0.8, color=\"grey\")\n",
    "plt.hist(control_ps_co, density=True, bins=50, fill=False)\n",
    "plt.ylabel(\"Density\")\n",
    "plt.xlabel(\"True propensity score\")\n",
    "plt.xlim(0,1.0)\n",
    "plt.tight_layout()\n",
    "plt.plot()\n",
    "plt.savefig(\"C:/Users/jayao/Desktop/ps_plot_co.pdf\",pad_inches = 0.0)"
   ]
  },
  {
   "cell_type": "code",
   "execution_count": 77,
   "id": "ad555cf9",
   "metadata": {},
   "outputs": [
    {
     "data": {
      "image/png": "[encoded data removed]",
      "text/plain": [
       "<Figure size 326x300 with 1 Axes>"
      ]
     },
     "metadata": {},
     "output_type": "display_data"
    }
   ],
   "source": [
    "plt.figure(figsize=(3.26*2/2, 3)) \n",
    "\n",
    "plt.hist(treated_ps_od, density=True, bins=50, alpha=0.8, color=\"grey\")\n",
    "plt.hist(control_ps_od, density=True, bins=50, fill=False)\n",
    "plt.ylabel(\"Density\")\n",
    "plt.xlabel(\"True propensity score\")\n",
    "plt.xlim(0,1.0)\n",
    "plt.tight_layout()\n",
    "plt.plot()\n",
    "plt.savefig(\"C:/Users/jayao/Desktop/ps_plot_od.pdf\",pad_inches = 0.0)"
   ]
  },
  {
   "cell_type": "code",
   "execution_count": 78,
   "id": "5e902fb5",
   "metadata": {},
   "outputs": [
    {
     "data": {
      "image/png": "[encoded data removed]",
      "text/plain": [
       "<Figure size 326x300 with 1 Axes>"
      ]
     },
     "metadata": {},
     "output_type": "display_data"
    }
   ],
   "source": [
    "plt.figure(figsize=(3.26*2/2, 3)) \n",
    "\n",
    "plt.hist(treated_ps_ow, density=True, bins=50, alpha=0.8, color=\"grey\")\n",
    "plt.hist(control_ps_ow, density=True, bins=50, fill=False)\n",
    "plt.ylabel(\"Density\")\n",
    "plt.xlabel(\"True propensity score\")\n",
    "plt.xlim(0,1.0)\n",
    "plt.tight_layout()\n",
    "plt.plot()\n",
    "plt.savefig(\"C:/Users/jayao/Desktop/ps_plot_ow.pdf\",pad_inches = 0.0)"
   ]
  },
  {
   "cell_type": "code",
   "execution_count": null,
   "id": "ad66480a",
   "metadata": {},
   "outputs": [],
   "source": []
  },
  {
   "cell_type": "code",
   "execution_count": null,
   "id": "c698dc09",
   "metadata": {},
   "outputs": [],
   "source": []
  },
  {
   "cell_type": "code",
   "execution_count": 79,
   "id": "a948296f",
   "metadata": {},
   "outputs": [
    {
     "data": {
      "image/png": "[encoded data removed]",
      "text/plain": [
       "<Figure size 326x300 with 1 Axes>"
      ]
     },
     "metadata": {},
     "output_type": "display_data"
    }
   ],
   "source": [
    "plt.figure(figsize=(3.26*2/2, 3)) \n",
    "plt.tight_layout()\n",
    "\n",
    "plt.hist(treated_ps_sd, density=True, bins=50, alpha=0.8, color=\"grey\")\n",
    "plt.hist(control_ps_sd, density=True, bins=50, fill=False)\n",
    "plt.ylabel(\"Density\")\n",
    "plt.xlabel(\"True propensity score\")\n",
    "plt.xlim(0,1.0)\n",
    "plt.tight_layout()\n",
    "plt.plot()\n",
    "plt.savefig(\"C:/Users/jayao/Desktop/ps_plot_sd.pdf\",pad_inches = 0.0)"
   ]
  },
  {
   "cell_type": "code",
   "execution_count": null,
   "id": "1dd3dfc8",
   "metadata": {},
   "outputs": [],
   "source": []
  },
  {
   "cell_type": "code",
   "execution_count": null,
   "id": "9308901a",
   "metadata": {},
   "outputs": [],
   "source": []
  },
  {
   "cell_type": "code",
   "execution_count": null,
   "id": "eb3807e4",
   "metadata": {},
   "outputs": [],
   "source": []
  },
  {
   "cell_type": "code",
   "execution_count": null,
   "id": "2d7a092c",
   "metadata": {},
   "outputs": [],
   "source": []
  }
 ],
 "metadata": {
  "kernelspec": {
   "display_name": "transformer_propensity",
   "language": "python",
   "name": "transformer_propensity"
  },
  "language_info": {
   "codemirror_mode": {
    "name": "ipython",
    "version": 3
   },
   "file_extension": ".py",
   "mimetype": "text/x-python",
   "name": "python",
   "nbconvert_exporter": "python",
   "pygments_lexer": "ipython3",
   "version": "3.9.13"
  }
 },
 "nbformat": 4,
 "nbformat_minor": 5
}
