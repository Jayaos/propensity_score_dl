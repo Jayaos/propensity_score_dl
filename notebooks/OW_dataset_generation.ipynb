{
 "cells": [
  {
   "cell_type": "code",
   "execution_count": 1,
   "id": "8fb7984c",
   "metadata": {
    "scrolled": true
   },
   "outputs": [],
   "source": [
    "from src.OccurrenceWindow import *\n",
    "from src.utils import *\n",
    "import matplotlib.pyplot as plt"
   ]
  },
  {
   "cell_type": "code",
   "execution_count": null,
   "id": "3684f87c",
   "metadata": {
    "scrolled": true
   },
   "outputs": [],
   "source": []
  },
  {
   "cell_type": "code",
   "execution_count": 32,
   "id": "b265dc79",
   "metadata": {
    "scrolled": true
   },
   "outputs": [],
   "source": [
    "params = {\"record_len_mean\" : 10, \"record_dim\" : 100, \"alpha_range\" : [5,10], \"beta_range\" : [240,260],\n",
    "          \"record_len_min\" : 5, \"confounding_var_num\" : 1, \"progression_var_num\" : 3, \n",
    "          \"p_range\" :[1.5,1.6], \"treatment_effect\" : -5, \"outcome_bias\" : 10, \"alpha\" : 10,\n",
    "         \"ps_noise_var\" : 0.01, \"outcome_noise_var\" : 0.1, \"num_token_reserve\" : 4, \"window_size\" : 3,\n",
    "         \"prob_reverse_progression\" : 0.4}"
   ]
  },
  {
   "cell_type": "code",
   "execution_count": 33,
   "id": "b6c9856b",
   "metadata": {
    "scrolled": true
   },
   "outputs": [],
   "source": [
    "EHR_OW = EHRgeneratorOW(params)"
   ]
  },
  {
   "cell_type": "code",
   "execution_count": 34,
   "id": "c387d93c",
   "metadata": {
    "scrolled": true
   },
   "outputs": [
    {
     "name": "stdout",
     "output_type": "stream",
     "text": [
      "setting progression_var and confounding_var\n",
      "progression_var : [83 69 52]\n",
      "confounding_var : [52]\n"
     ]
    }
   ],
   "source": [
    "EHR_OW.set_variables()"
   ]
  },
  {
   "cell_type": "code",
   "execution_count": 35,
   "id": "b3645116",
   "metadata": {
    "scrolled": true
   },
   "outputs": [
    {
     "name": "stdout",
     "output_type": "stream",
     "text": [
      "generating 12000 records\n"
     ]
    },
    {
     "name": "stderr",
     "output_type": "stream",
     "text": [
      "  0%|▎                                                                             | 53/12000 [00:00<00:24, 495.72it/s]"
     ]
    },
    {
     "name": "stdout",
     "output_type": "stream",
     "text": [
      "valid check...\n",
      "valid check...\n",
      "valid check...\n",
      "valid check...\n",
      "valid check...\n",
      "valid check...\n",
      "valid check...\n",
      "valid check...\n",
      "valid check...\n",
      "valid check...\n",
      "valid check...\n",
      "valid check...\n",
      "valid check...\n",
      "valid check...\n",
      "valid check...\n",
      "valid check...\n",
      "valid check...\n",
      "valid check...\n",
      "valid check...\n",
      "valid check...\n",
      "valid check...\n",
      "valid check...\n",
      "valid check...\n"
     ]
    },
    {
     "name": "stderr",
     "output_type": "stream",
     "text": [
      "  1%|█                                                                            | 170/12000 [00:00<00:22, 521.15it/s]"
     ]
    },
    {
     "name": "stdout",
     "output_type": "stream",
     "text": [
      "valid check...\n",
      "valid check...\n",
      "valid check...\n",
      "valid check...\n",
      "valid check...\n",
      "valid check...\n",
      "valid check...\n",
      "valid check...\n",
      "valid check...\n",
      "valid check...\n",
      "valid check...\n",
      "valid check...\n",
      "valid check...\n",
      "valid check...\n",
      "valid check...\n",
      "valid check...\n",
      "valid check...\n",
      "valid check...\n",
      "valid check...\n",
      "valid check...\n",
      "valid check...\n",
      "valid check...\n",
      "valid check...\n",
      "valid check...\n",
      "valid check...\n",
      "valid check...\n",
      "valid check...\n"
     ]
    },
    {
     "name": "stderr",
     "output_type": "stream",
     "text": [
      "  2%|█▊                                                                           | 282/12000 [00:00<00:22, 512.81it/s]"
     ]
    },
    {
     "name": "stdout",
     "output_type": "stream",
     "text": [
      "valid check...\n",
      "valid check...\n",
      "valid check...\n",
      "valid check...\n",
      "valid check...\n",
      "valid check...\n",
      "valid check...\n",
      "valid check...\n",
      "valid check...\n",
      "valid check...\n",
      "valid check...\n",
      "valid check...\n",
      "valid check...\n",
      "valid check...\n",
      "valid check...\n",
      "valid check...\n",
      "valid check...\n",
      "valid check...\n",
      "valid check...\n",
      "valid check...\n",
      "valid check...\n",
      "valid check...\n",
      "valid check...\n",
      "valid check...\n",
      "valid check...\n"
     ]
    },
    {
     "name": "stderr",
     "output_type": "stream",
     "text": [
      "  3%|██▌                                                                          | 393/12000 [00:00<00:22, 513.72it/s]"
     ]
    },
    {
     "name": "stdout",
     "output_type": "stream",
     "text": [
      "valid check...\n",
      "valid check...\n",
      "valid check...\n",
      "valid check...\n",
      "valid check...\n",
      "valid check...\n",
      "valid check...\n",
      "valid check...\n",
      "valid check...\n",
      "valid check...\n",
      "valid check...\n",
      "valid check...\n",
      "valid check...\n",
      "valid check...\n",
      "valid check...\n",
      "valid check...\n",
      "valid check...\n",
      "valid check...\n",
      "valid check...\n",
      "valid check...\n",
      "valid check...\n",
      "valid check...\n",
      "valid check...\n",
      "valid check...\n",
      "valid check...\n"
     ]
    },
    {
     "name": "stderr",
     "output_type": "stream",
     "text": [
      "  4%|███▏                                                                         | 502/12000 [00:00<00:21, 524.69it/s]"
     ]
    },
    {
     "name": "stdout",
     "output_type": "stream",
     "text": [
      "valid check...\n",
      "valid check...\n",
      "valid check...\n",
      "valid check...\n",
      "valid check...\n",
      "valid check...\n",
      "valid check...\n",
      "valid check...\n",
      "valid check...\n",
      "valid check...\n",
      "valid check...\n",
      "valid check...\n",
      "valid check...\n",
      "valid check...\n",
      "valid check...\n",
      "valid check...\n",
      "valid check...\n",
      "valid check...\n",
      "valid check...\n",
      "valid check...\n",
      "valid check...\n",
      "valid check...\n",
      "valid check...\n",
      "valid check...\n",
      "valid check...\n"
     ]
    },
    {
     "name": "stderr",
     "output_type": "stream",
     "text": [
      "  5%|███▉                                                                         | 608/12000 [00:01<00:21, 527.04it/s]"
     ]
    },
    {
     "name": "stdout",
     "output_type": "stream",
     "text": [
      "valid check...\n",
      "valid check...\n",
      "valid check...\n",
      "valid check...\n",
      "valid check...\n",
      "valid check...\n",
      "valid check...\n",
      "valid check...\n",
      "valid check...\n",
      "valid check...\n",
      "valid check...\n",
      "valid check...\n",
      "valid check...\n",
      "valid check...\n",
      "valid check...\n",
      "valid check...\n",
      "valid check...\n",
      "valid check...\n",
      "valid check...\n",
      "valid check...\n",
      "valid check...\n",
      "valid check...\n",
      "valid check...\n"
     ]
    },
    {
     "name": "stderr",
     "output_type": "stream",
     "text": [
      "  6%|████▉                                                                        | 766/12000 [00:01<00:22, 504.57it/s]"
     ]
    },
    {
     "name": "stdout",
     "output_type": "stream",
     "text": [
      "valid check...\n",
      "valid check...\n",
      "valid check...\n",
      "valid check...\n",
      "valid check...\n",
      "valid check...\n",
      "valid check...\n",
      "valid check...\n",
      "valid check...\n",
      "valid check...\n",
      "valid check...\n",
      "valid check...\n",
      "valid check...\n",
      "valid check...\n",
      "valid check...\n",
      "valid check...\n",
      "valid check...\n",
      "valid check...\n",
      "valid check...\n",
      "valid check...\n",
      "valid check...\n"
     ]
    },
    {
     "name": "stderr",
     "output_type": "stream",
     "text": [
      "\r",
      "  7%|█████▏                                                                       | 818/12000 [00:01<00:22, 507.61it/s]"
     ]
    },
    {
     "name": "stdout",
     "output_type": "stream",
     "text": [
      "valid check...\n",
      "valid check...\n",
      "valid check...\n",
      "valid check...\n",
      "valid check...\n",
      "valid check...\n",
      "valid check...\n",
      "valid check...\n",
      "valid check...\n",
      "valid check...\n",
      "valid check...\n",
      "valid check...\n",
      "valid check...\n",
      "valid check...\n",
      "valid check...\n",
      "valid check...\n",
      "valid check...\n",
      "valid check...\n"
     ]
    },
    {
     "name": "stderr",
     "output_type": "stream",
     "text": [
      "  8%|█████▉                                                                       | 924/12000 [00:01<00:21, 515.06it/s]"
     ]
    },
    {
     "name": "stdout",
     "output_type": "stream",
     "text": [
      "valid check...\n",
      "valid check...\n",
      "valid check...\n",
      "valid check...\n",
      "valid check...\n",
      "valid check...\n",
      "valid check...\n",
      "valid check...\n",
      "valid check...\n",
      "valid check...\n",
      "valid check...\n",
      "valid check...\n",
      "valid check...\n",
      "valid check...\n"
     ]
    },
    {
     "name": "stderr",
     "output_type": "stream",
     "text": [
      "  9%|██████▌                                                                     | 1035/12000 [00:02<00:21, 519.99it/s]"
     ]
    },
    {
     "name": "stdout",
     "output_type": "stream",
     "text": [
      "valid check...\n",
      "valid check...\n",
      "valid check...\n",
      "valid check...\n",
      "valid check...\n",
      "valid check...\n",
      "valid check...\n",
      "valid check...\n",
      "valid check...\n",
      "valid check...\n",
      "valid check...\n",
      "valid check...\n",
      "valid check...\n",
      "valid check...\n",
      "valid check...\n",
      "valid check...\n",
      "valid check...\n",
      "valid check...\n",
      "valid check...\n",
      "valid check...\n",
      "valid check...\n",
      "valid check...\n",
      "valid check...\n",
      "valid check...\n",
      "valid check...\n",
      "valid check...\n",
      "valid check...\n",
      "valid check...\n"
     ]
    },
    {
     "name": "stderr",
     "output_type": "stream",
     "text": [
      " 10%|███████▋                                                                    | 1205/12000 [00:02<00:20, 525.39it/s]"
     ]
    },
    {
     "name": "stdout",
     "output_type": "stream",
     "text": [
      "valid check...\n",
      "valid check...\n",
      "valid check...\n",
      "valid check...\n",
      "valid check...\n",
      "valid check...\n",
      "valid check...\n",
      "valid check...\n",
      "valid check...\n",
      "valid check...\n",
      "valid check...\n",
      "valid check...\n",
      "valid check...\n",
      "valid check...\n",
      "valid check...\n",
      "valid check...\n",
      "valid check...\n",
      "valid check...\n",
      "valid check...\n",
      "valid check...\n",
      "valid check...\n"
     ]
    },
    {
     "name": "stderr",
     "output_type": "stream",
     "text": [
      " 11%|████████▎                                                                   | 1319/12000 [00:02<00:20, 525.95it/s]"
     ]
    },
    {
     "name": "stdout",
     "output_type": "stream",
     "text": [
      "valid check...\n",
      "valid check...\n",
      "valid check...\n",
      "valid check...\n",
      "valid check...\n",
      "valid check...\n",
      "valid check...\n",
      "valid check...\n",
      "valid check...\n",
      "valid check...\n",
      "valid check...\n",
      "valid check...\n",
      "valid check...\n",
      "valid check...\n",
      "valid check...\n",
      "valid check...\n",
      "valid check...\n",
      "valid check...\n",
      "valid check...\n",
      "valid check...\n",
      "valid check...\n",
      "valid check...\n",
      "valid check...\n",
      "valid check...\n",
      "valid check...\n"
     ]
    },
    {
     "name": "stderr",
     "output_type": "stream",
     "text": [
      " 12%|█████████                                                                   | 1422/12000 [00:02<00:21, 497.80it/s]"
     ]
    },
    {
     "name": "stdout",
     "output_type": "stream",
     "text": [
      "valid check...\n",
      "valid check...\n",
      "valid check...\n",
      "valid check...\n",
      "valid check...\n",
      "valid check...\n",
      "valid check...\n",
      "valid check...\n",
      "valid check...\n",
      "valid check...\n",
      "valid check...\n",
      "valid check...\n",
      "valid check...\n",
      "valid check...\n",
      "valid check...\n",
      "valid check...\n",
      "valid check...\n",
      "valid check...\n",
      "valid check...\n",
      "valid check...\n",
      "valid check...\n",
      "valid check...\n",
      "valid check...\n",
      "valid check...\n",
      "valid check...\n",
      "valid check...\n",
      "valid check...\n",
      "valid check...\n"
     ]
    },
    {
     "name": "stderr",
     "output_type": "stream",
     "text": [
      " 13%|█████████▋                                                                  | 1523/12000 [00:02<00:20, 501.29it/s]"
     ]
    },
    {
     "name": "stdout",
     "output_type": "stream",
     "text": [
      "valid check...\n",
      "valid check...\n",
      "valid check...\n",
      "valid check...\n",
      "valid check...\n",
      "valid check...\n",
      "valid check...\n",
      "valid check...\n",
      "valid check...\n",
      "valid check...\n",
      "valid check...\n",
      "valid check...\n",
      "valid check...\n",
      "valid check...\n",
      "valid check...\n",
      "valid check...\n",
      "valid check...\n",
      "valid check...\n",
      "valid check...\n",
      "valid check...\n",
      "valid check...\n",
      "valid check...\n",
      "valid check...\n",
      "valid check...\n"
     ]
    },
    {
     "name": "stderr",
     "output_type": "stream",
     "text": [
      " 14%|██████████▎                                                                 | 1625/12000 [00:03<00:21, 486.72it/s]"
     ]
    },
    {
     "name": "stdout",
     "output_type": "stream",
     "text": [
      "valid check...\n",
      "valid check...\n",
      "valid check...\n",
      "valid check...\n",
      "valid check...\n",
      "valid check...\n",
      "valid check...\n",
      "valid check...\n",
      "valid check...\n",
      "valid check...\n",
      "valid check...\n",
      "valid check...\n",
      "valid check...\n",
      "valid check...\n"
     ]
    },
    {
     "name": "stderr",
     "output_type": "stream",
     "text": [
      "\r",
      " 14%|██████████▌                                                                 | 1674/12000 [00:03<00:25, 408.65it/s]"
     ]
    },
    {
     "name": "stdout",
     "output_type": "stream",
     "text": [
      "valid check...\n",
      "valid check...\n",
      "valid check...\n",
      "valid check...\n",
      "valid check...\n",
      "valid check...\n",
      "valid check...\n"
     ]
    },
    {
     "name": "stderr",
     "output_type": "stream",
     "text": [
      " 15%|███████████                                                                 | 1752/12000 [00:03<00:34, 293.65it/s]"
     ]
    },
    {
     "name": "stdout",
     "output_type": "stream",
     "text": [
      "valid check...\n",
      "valid check...\n",
      "valid check...\n",
      "valid check...\n",
      "valid check...\n",
      "valid check...\n",
      "valid check...\n",
      "valid check...\n",
      "valid check...\n",
      "valid check...\n"
     ]
    },
    {
     "name": "stderr",
     "output_type": "stream",
     "text": [
      "\r",
      " 15%|███████████▎                                                                | 1786/12000 [00:03<00:34, 292.35it/s]"
     ]
    },
    {
     "name": "stdout",
     "output_type": "stream",
     "text": [
      "valid check...\n",
      "valid check...\n",
      "valid check...\n",
      "valid check...\n",
      "valid check...\n",
      "valid check...\n",
      "valid check...\n",
      "valid check...\n",
      "valid check...\n",
      "valid check...\n",
      "valid check...\n",
      "valid check...\n",
      "valid check...\n",
      "valid check...\n",
      "valid check...\n"
     ]
    },
    {
     "name": "stderr",
     "output_type": "stream",
     "text": [
      " 15%|███████████▊                                                                | 1856/12000 [00:04<00:34, 297.97it/s]"
     ]
    },
    {
     "name": "stdout",
     "output_type": "stream",
     "text": [
      "valid check...\n",
      "valid check...\n",
      "valid check...\n",
      "valid check...\n",
      "valid check...\n",
      "valid check...\n",
      "valid check...\n",
      "valid check...\n",
      "valid check...\n",
      "valid check...\n",
      "valid check...\n",
      "valid check...\n"
     ]
    },
    {
     "name": "stderr",
     "output_type": "stream",
     "text": [
      " 16%|████████████▏                                                               | 1919/12000 [00:04<00:34, 295.44it/s]"
     ]
    },
    {
     "name": "stdout",
     "output_type": "stream",
     "text": [
      "valid check...\n",
      "valid check...\n",
      "valid check...\n",
      "valid check...\n",
      "valid check...\n",
      "valid check...\n",
      "valid check...\n",
      "valid check...\n",
      "valid check...\n",
      "valid check...\n",
      "valid check...\n",
      "valid check...\n",
      "valid check...\n"
     ]
    },
    {
     "name": "stderr",
     "output_type": "stream",
     "text": [
      " 17%|████████████▌                                                               | 1983/12000 [00:04<00:33, 302.63it/s]"
     ]
    },
    {
     "name": "stdout",
     "output_type": "stream",
     "text": [
      "valid check...\n",
      "valid check...\n",
      "valid check...\n",
      "valid check...\n",
      "valid check...\n",
      "valid check...\n",
      "valid check...\n",
      "valid check...\n",
      "valid check...\n",
      "valid check...\n",
      "valid check...\n",
      "valid check...\n",
      "valid check...\n",
      "valid check...\n",
      "valid check...\n",
      "valid check...\n",
      "valid check...\n"
     ]
    },
    {
     "name": "stderr",
     "output_type": "stream",
     "text": [
      " 17%|█████████████▏                                                              | 2086/12000 [00:04<00:32, 304.36it/s]"
     ]
    },
    {
     "name": "stdout",
     "output_type": "stream",
     "text": [
      "valid check...\n",
      "valid check...\n",
      "valid check...\n",
      "valid check...\n",
      "valid check...\n",
      "valid check...\n",
      "valid check...\n",
      "valid check...\n",
      "valid check...\n",
      "valid check...\n",
      "valid check...\n",
      "valid check...\n",
      "valid check...\n"
     ]
    },
    {
     "name": "stderr",
     "output_type": "stream",
     "text": [
      "\r",
      " 18%|█████████████▍                                                              | 2117/12000 [00:04<00:32, 305.36it/s]"
     ]
    },
    {
     "name": "stdout",
     "output_type": "stream",
     "text": [
      "valid check...\n",
      "valid check...\n",
      "valid check...\n",
      "valid check...\n",
      "valid check...\n",
      "valid check...\n",
      "valid check...\n",
      "valid check...\n",
      "valid check...\n",
      "valid check...\n",
      "valid check...\n",
      "valid check...\n",
      "valid check...\n"
     ]
    },
    {
     "name": "stderr",
     "output_type": "stream",
     "text": [
      " 18%|█████████████▊                                                              | 2182/12000 [00:05<00:35, 274.56it/s]"
     ]
    },
    {
     "name": "stdout",
     "output_type": "stream",
     "text": [
      "valid check...\n",
      "valid check...\n",
      "valid check...\n",
      "valid check...\n"
     ]
    },
    {
     "name": "stderr",
     "output_type": "stream",
     "text": [
      " 19%|██████████████▏                                                             | 2242/12000 [00:05<00:38, 255.92it/s]"
     ]
    },
    {
     "name": "stdout",
     "output_type": "stream",
     "text": [
      "valid check...\n",
      "valid check...\n",
      "valid check...\n",
      "valid check...\n",
      "valid check...\n",
      "valid check...\n",
      "valid check...\n",
      "valid check...\n",
      "valid check...\n",
      "valid check...\n"
     ]
    },
    {
     "name": "stderr",
     "output_type": "stream",
     "text": [
      "\r",
      " 19%|██████████████▍                                                             | 2276/12000 [00:05<00:36, 269.68it/s]"
     ]
    },
    {
     "name": "stdout",
     "output_type": "stream",
     "text": [
      "valid check...\n",
      "valid check...\n",
      "valid check...\n",
      "valid check...\n",
      "valid check...\n",
      "valid check...\n",
      "valid check...\n",
      "valid check...\n",
      "valid check...\n",
      "valid check...\n",
      "valid check...\n",
      "valid check...\n",
      "valid check...\n",
      "valid check...\n",
      "valid check...\n"
     ]
    },
    {
     "name": "stderr",
     "output_type": "stream",
     "text": [
      " 20%|███████████████                                                             | 2373/12000 [00:05<00:32, 295.06it/s]"
     ]
    },
    {
     "name": "stdout",
     "output_type": "stream",
     "text": [
      "valid check...\n",
      "valid check...\n",
      "valid check...\n",
      "valid check...\n",
      "valid check...\n",
      "valid check...\n",
      "valid check...\n",
      "valid check...\n",
      "valid check...\n"
     ]
    },
    {
     "name": "stderr",
     "output_type": "stream",
     "text": [
      " 20%|███████████████▍                                                            | 2437/12000 [00:06<00:32, 294.89it/s]"
     ]
    },
    {
     "name": "stdout",
     "output_type": "stream",
     "text": [
      "valid check...\n",
      "valid check...\n",
      "valid check...\n",
      "valid check...\n",
      "valid check...\n",
      "valid check...\n",
      "valid check...\n",
      "valid check...\n",
      "valid check...\n",
      "valid check...\n",
      "valid check...\n"
     ]
    },
    {
     "name": "stderr",
     "output_type": "stream",
     "text": [
      "\r",
      " 21%|███████████████▌                                                            | 2467/12000 [00:06<00:36, 258.07it/s]"
     ]
    },
    {
     "name": "stdout",
     "output_type": "stream",
     "text": [
      "valid check...\n",
      "valid check...\n",
      "valid check...\n",
      "valid check...\n",
      "valid check...\n",
      "valid check...\n",
      "valid check...\n",
      "valid check...\n",
      "valid check...\n"
     ]
    },
    {
     "name": "stderr",
     "output_type": "stream",
     "text": [
      " 21%|████████████████                                                            | 2527/12000 [00:06<00:35, 268.70it/s]"
     ]
    },
    {
     "name": "stdout",
     "output_type": "stream",
     "text": [
      "valid check...\n",
      "valid check...\n",
      "valid check...\n",
      "valid check...\n",
      "valid check...\n",
      "valid check...\n",
      "valid check...\n",
      "valid check...\n",
      "valid check...\n",
      "valid check...\n",
      "valid check...\n",
      "valid check...\n",
      "valid check...\n",
      "valid check...\n"
     ]
    },
    {
     "name": "stderr",
     "output_type": "stream",
     "text": [
      " 22%|████████████████▍                                                           | 2589/12000 [00:06<00:33, 279.07it/s]"
     ]
    },
    {
     "name": "stdout",
     "output_type": "stream",
     "text": [
      "valid check...\n",
      "valid check...\n",
      "valid check...\n",
      "valid check...\n",
      "valid check...\n",
      "valid check...\n",
      "valid check...\n",
      "valid check...\n",
      "valid check...\n"
     ]
    },
    {
     "name": "stderr",
     "output_type": "stream",
     "text": [
      " 22%|████████████████▊                                                           | 2651/12000 [00:06<00:32, 291.95it/s]"
     ]
    },
    {
     "name": "stdout",
     "output_type": "stream",
     "text": [
      "valid check...\n",
      "valid check...\n",
      "valid check...\n",
      "valid check...\n",
      "valid check...\n",
      "valid check...\n",
      "valid check...\n",
      "valid check...\n",
      "valid check...\n",
      "valid check...\n",
      "valid check...\n",
      "valid check...\n",
      "valid check...\n",
      "valid check...\n",
      "valid check...\n",
      "valid check...\n",
      "valid check...\n",
      "valid check...\n"
     ]
    },
    {
     "name": "stderr",
     "output_type": "stream",
     "text": [
      " 23%|█████████████████▏                                                          | 2712/12000 [00:07<00:32, 284.41it/s]"
     ]
    },
    {
     "name": "stdout",
     "output_type": "stream",
     "text": [
      "valid check...\n",
      "valid check...\n",
      "valid check...\n",
      "valid check...\n",
      "valid check...\n",
      "valid check...\n",
      "valid check...\n",
      "valid check...\n",
      "valid check...\n",
      "valid check...\n"
     ]
    },
    {
     "name": "stderr",
     "output_type": "stream",
     "text": [
      " 23%|█████████████████▌                                                          | 2779/12000 [00:07<00:30, 299.62it/s]"
     ]
    },
    {
     "name": "stdout",
     "output_type": "stream",
     "text": [
      "valid check...\n",
      "valid check...\n",
      "valid check...\n",
      "valid check...\n",
      "valid check...\n",
      "valid check...\n",
      "valid check...\n",
      "valid check...\n",
      "valid check...\n"
     ]
    },
    {
     "name": "stderr",
     "output_type": "stream",
     "text": [
      "\r",
      " 23%|█████████████████▊                                                          | 2810/12000 [00:07<00:37, 247.05it/s]"
     ]
    },
    {
     "name": "stdout",
     "output_type": "stream",
     "text": [
      "valid check...\n",
      "valid check...\n",
      "valid check...\n",
      "valid check...\n",
      "valid check...\n",
      "valid check...\n"
     ]
    },
    {
     "name": "stderr",
     "output_type": "stream",
     "text": [
      " 24%|██████████████████▏                                                         | 2863/12000 [00:07<00:38, 234.34it/s]"
     ]
    },
    {
     "name": "stdout",
     "output_type": "stream",
     "text": [
      "valid check...\n",
      "valid check...\n",
      "valid check...\n",
      "valid check...\n",
      "valid check...\n",
      "valid check...\n",
      "valid check...\n",
      "valid check...\n",
      "valid check...\n",
      "valid check...\n",
      "valid check...\n",
      "valid check...\n"
     ]
    },
    {
     "name": "stderr",
     "output_type": "stream",
     "text": [
      " 24%|██████████████████▍                                                         | 2912/12000 [00:07<00:40, 224.33it/s]"
     ]
    },
    {
     "name": "stdout",
     "output_type": "stream",
     "text": [
      "valid check...\n",
      "valid check...\n",
      "valid check...\n",
      "valid check...\n",
      "valid check...\n",
      "valid check...\n",
      "valid check...\n",
      "valid check...\n",
      "valid check...\n",
      "valid check...\n",
      "valid check...\n"
     ]
    },
    {
     "name": "stderr",
     "output_type": "stream",
     "text": [
      " 25%|██████████████████▊                                                         | 2971/12000 [00:08<00:36, 250.60it/s]"
     ]
    },
    {
     "name": "stdout",
     "output_type": "stream",
     "text": [
      "valid check...\n",
      "valid check...\n",
      "valid check...\n",
      "valid check...\n",
      "valid check...\n",
      "valid check...\n",
      "valid check...\n",
      "valid check...\n",
      "valid check...\n",
      "valid check...\n",
      "valid check...\n",
      "valid check...\n",
      "valid check...\n"
     ]
    },
    {
     "name": "stderr",
     "output_type": "stream",
     "text": [
      " 25%|███████████████████▏                                                        | 3028/12000 [00:08<00:34, 260.25it/s]"
     ]
    },
    {
     "name": "stdout",
     "output_type": "stream",
     "text": [
      "valid check...\n",
      "valid check...\n",
      "valid check...\n",
      "valid check...\n",
      "valid check...\n",
      "valid check...\n",
      "valid check...\n",
      "valid check...\n",
      "valid check...\n",
      "valid check...\n",
      "valid check...\n",
      "valid check...\n",
      "valid check...\n"
     ]
    },
    {
     "name": "stderr",
     "output_type": "stream",
     "text": [
      " 26%|███████████████████▋                                                        | 3118/12000 [00:08<00:31, 285.25it/s]"
     ]
    },
    {
     "name": "stdout",
     "output_type": "stream",
     "text": [
      "valid check...\n",
      "valid check...\n",
      "valid check...\n",
      "valid check...\n",
      "valid check...\n",
      "valid check...\n",
      "valid check...\n",
      "valid check...\n",
      "valid check...\n",
      "valid check...\n",
      "valid check...\n",
      "valid check...\n",
      "valid check...\n",
      "valid check...\n",
      "valid check...\n",
      "valid check...\n",
      "valid check...\n"
     ]
    },
    {
     "name": "stderr",
     "output_type": "stream",
     "text": [
      " 26%|████████████████████                                                        | 3176/12000 [00:08<00:31, 282.09it/s]"
     ]
    },
    {
     "name": "stdout",
     "output_type": "stream",
     "text": [
      "valid check...\n",
      "valid check...\n",
      "valid check...\n",
      "valid check...\n",
      "valid check...\n",
      "valid check...\n",
      "valid check...\n",
      "valid check...\n",
      "valid check...\n",
      "valid check...\n",
      "valid check...\n",
      "valid check...\n",
      "valid check...\n",
      "valid check...\n",
      "valid check...\n",
      "valid check...\n",
      "valid check...\n"
     ]
    },
    {
     "name": "stderr",
     "output_type": "stream",
     "text": [
      " 27%|████████████████████▍                                                       | 3235/12000 [00:09<00:31, 280.34it/s]"
     ]
    },
    {
     "name": "stdout",
     "output_type": "stream",
     "text": [
      "valid check...\n",
      "valid check...\n",
      "valid check...\n",
      "valid check...\n",
      "valid check...\n",
      "valid check...\n",
      "valid check...\n",
      "valid check...\n",
      "valid check...\n",
      "valid check...\n",
      "valid check...\n",
      "valid check...\n",
      "valid check...\n"
     ]
    },
    {
     "name": "stderr",
     "output_type": "stream",
     "text": [
      "\r",
      " 27%|████████████████████▋                                                       | 3267/12000 [00:09<00:30, 283.73it/s]"
     ]
    },
    {
     "name": "stdout",
     "output_type": "stream",
     "text": [
      "valid check...\n",
      "valid check...\n",
      "valid check...\n",
      "valid check...\n",
      "valid check...\n",
      "valid check...\n",
      "valid check...\n",
      "valid check...\n",
      "valid check...\n",
      "valid check...\n",
      "valid check...\n"
     ]
    },
    {
     "name": "stderr",
     "output_type": "stream",
     "text": [
      " 28%|█████████████████████                                                       | 3328/12000 [00:09<00:29, 289.78it/s]"
     ]
    },
    {
     "name": "stdout",
     "output_type": "stream",
     "text": [
      "valid check...\n",
      "valid check...\n",
      "valid check...\n",
      "valid check...\n",
      "valid check...\n",
      "valid check...\n",
      "valid check...\n",
      "valid check...\n",
      "valid check...\n",
      "valid check...\n",
      "valid check...\n"
     ]
    },
    {
     "name": "stderr",
     "output_type": "stream",
     "text": [
      " 28%|█████████████████████▍                                                      | 3393/12000 [00:09<00:29, 295.48it/s]"
     ]
    },
    {
     "name": "stdout",
     "output_type": "stream",
     "text": [
      "valid check...\n",
      "valid check...\n",
      "valid check...\n",
      "valid check...\n",
      "valid check...\n",
      "valid check...\n"
     ]
    },
    {
     "name": "stderr",
     "output_type": "stream",
     "text": [
      " 29%|█████████████████████▉                                                      | 3456/12000 [00:09<00:28, 296.32it/s]"
     ]
    },
    {
     "name": "stdout",
     "output_type": "stream",
     "text": [
      "valid check...\n",
      "valid check...\n",
      "valid check...\n",
      "valid check...\n",
      "valid check...\n",
      "valid check...\n",
      "valid check...\n",
      "valid check...\n",
      "valid check...\n",
      "valid check...\n",
      "valid check...\n",
      "valid check...\n",
      "valid check...\n"
     ]
    },
    {
     "name": "stderr",
     "output_type": "stream",
     "text": [
      " 29%|██████████████████████▎                                                     | 3518/12000 [00:10<00:31, 267.47it/s]"
     ]
    },
    {
     "name": "stdout",
     "output_type": "stream",
     "text": [
      "valid check...\n",
      "valid check...\n",
      "valid check...\n",
      "valid check...\n",
      "valid check...\n",
      "valid check...\n"
     ]
    },
    {
     "name": "stderr",
     "output_type": "stream",
     "text": [
      " 30%|██████████████████████▋                                                     | 3579/12000 [00:10<00:31, 265.15it/s]"
     ]
    },
    {
     "name": "stdout",
     "output_type": "stream",
     "text": [
      "valid check...\n",
      "valid check...\n",
      "valid check...\n",
      "valid check...\n",
      "valid check...\n",
      "valid check...\n",
      "valid check...\n",
      "valid check...\n",
      "valid check...\n",
      "valid check...\n",
      "valid check...\n",
      "valid check...\n",
      "valid check...\n",
      "valid check...\n",
      "valid check...\n",
      "valid check...\n",
      "valid check...\n"
     ]
    },
    {
     "name": "stderr",
     "output_type": "stream",
     "text": [
      " 30%|███████████████████████                                                     | 3637/12000 [00:10<00:31, 269.32it/s]"
     ]
    },
    {
     "name": "stdout",
     "output_type": "stream",
     "text": [
      "valid check...\n",
      "valid check...\n",
      "valid check...\n",
      "valid check...\n",
      "valid check...\n",
      "valid check...\n",
      "valid check...\n",
      "valid check...\n",
      "valid check...\n",
      "valid check...\n"
     ]
    },
    {
     "name": "stderr",
     "output_type": "stream",
     "text": [
      " 31%|███████████████████████▍                                                    | 3691/12000 [00:10<00:34, 239.11it/s]"
     ]
    },
    {
     "name": "stdout",
     "output_type": "stream",
     "text": [
      "valid check...\n",
      "valid check...\n",
      "valid check...\n",
      "valid check...\n",
      "valid check...\n",
      "valid check...\n",
      "valid check...\n",
      "valid check...\n",
      "valid check...\n",
      "valid check...\n",
      "valid check...\n"
     ]
    },
    {
     "name": "stderr",
     "output_type": "stream",
     "text": [
      " 31%|███████████████████████▊                                                    | 3753/12000 [00:11<00:30, 267.67it/s]"
     ]
    },
    {
     "name": "stdout",
     "output_type": "stream",
     "text": [
      "valid check...\n",
      "valid check...\n",
      "valid check...\n",
      "valid check...\n",
      "valid check...\n",
      "valid check...\n",
      "valid check...\n",
      "valid check...\n",
      "valid check...\n"
     ]
    },
    {
     "name": "stderr",
     "output_type": "stream",
     "text": [
      "\r",
      " 32%|███████████████████████▉                                                    | 3784/12000 [00:11<00:29, 274.98it/s]"
     ]
    },
    {
     "name": "stdout",
     "output_type": "stream",
     "text": [
      "valid check...\n",
      "valid check...\n",
      "valid check...\n",
      "valid check...\n",
      "valid check...\n",
      "valid check...\n",
      "valid check...\n",
      "valid check...\n",
      "valid check...\n",
      "valid check...\n",
      "valid check...\n"
     ]
    },
    {
     "name": "stderr",
     "output_type": "stream",
     "text": [
      " 32%|████████████████████████▎                                                   | 3844/12000 [00:11<00:29, 280.64it/s]"
     ]
    },
    {
     "name": "stdout",
     "output_type": "stream",
     "text": [
      "valid check...\n",
      "valid check...\n",
      "valid check...\n",
      "valid check...\n",
      "valid check...\n",
      "valid check...\n",
      "valid check...\n",
      "valid check...\n",
      "valid check...\n",
      "valid check...\n",
      "valid check...\n",
      "valid check...\n",
      "valid check...\n"
     ]
    },
    {
     "name": "stderr",
     "output_type": "stream",
     "text": [
      " 33%|████████████████████████▋                                                   | 3904/12000 [00:11<00:28, 281.74it/s]"
     ]
    },
    {
     "name": "stdout",
     "output_type": "stream",
     "text": [
      "valid check...\n",
      "valid check...\n",
      "valid check...\n",
      "valid check...\n",
      "valid check...\n",
      "valid check...\n",
      "valid check...\n",
      "valid check...\n",
      "valid check...\n",
      "valid check...\n",
      "valid check...\n"
     ]
    },
    {
     "name": "stderr",
     "output_type": "stream",
     "text": [
      " 33%|█████████████████████████                                                   | 3960/12000 [00:11<00:30, 262.27it/s]"
     ]
    },
    {
     "name": "stdout",
     "output_type": "stream",
     "text": [
      "valid check...\n",
      "valid check...\n",
      "valid check...\n",
      "valid check...\n",
      "valid check...\n",
      "valid check...\n",
      "valid check...\n",
      "valid check...\n",
      "valid check...\n",
      "valid check...\n",
      "valid check...\n",
      "valid check...\n",
      "valid check...\n"
     ]
    },
    {
     "name": "stderr",
     "output_type": "stream",
     "text": [
      " 34%|█████████████████████████▌                                                  | 4043/12000 [00:12<00:30, 265.03it/s]"
     ]
    },
    {
     "name": "stdout",
     "output_type": "stream",
     "text": [
      "valid check...\n",
      "valid check...\n",
      "valid check...\n",
      "valid check...\n",
      "valid check...\n",
      "valid check...\n",
      "valid check...\n",
      "valid check...\n",
      "valid check...\n",
      "valid check...\n",
      "valid check...\n"
     ]
    },
    {
     "name": "stderr",
     "output_type": "stream",
     "text": [
      " 34%|█████████████████████████▉                                                  | 4097/12000 [00:12<00:29, 267.21it/s]"
     ]
    },
    {
     "name": "stdout",
     "output_type": "stream",
     "text": [
      "valid check...\n",
      "valid check...\n",
      "valid check...\n",
      "valid check...\n",
      "valid check...\n",
      "valid check...\n",
      "valid check...\n",
      "valid check...\n",
      "valid check...\n",
      "valid check...\n",
      "valid check...\n",
      "valid check...\n",
      "valid check...\n",
      "valid check...\n"
     ]
    },
    {
     "name": "stderr",
     "output_type": "stream",
     "text": [
      " 35%|██████████████████████████▎                                                 | 4154/12000 [00:12<00:29, 267.44it/s]"
     ]
    },
    {
     "name": "stdout",
     "output_type": "stream",
     "text": [
      "valid check...\n",
      "valid check...\n",
      "valid check...\n",
      "valid check...\n",
      "valid check...\n",
      "valid check...\n",
      "valid check...\n",
      "valid check...\n",
      "valid check...\n",
      "valid check...\n",
      "valid check...\n",
      "valid check...\n",
      "valid check...\n",
      "valid check...\n",
      "valid check...\n",
      "valid check...\n"
     ]
    },
    {
     "name": "stderr",
     "output_type": "stream",
     "text": [
      " 35%|██████████████████████████▋                                                 | 4207/12000 [00:12<00:31, 247.03it/s]"
     ]
    },
    {
     "name": "stdout",
     "output_type": "stream",
     "text": [
      "valid check...\n",
      "valid check...\n",
      "valid check...\n",
      "valid check...\n",
      "valid check...\n",
      "valid check...\n",
      "valid check...\n",
      "valid check...\n",
      "valid check...\n",
      "valid check...\n",
      "valid check...\n"
     ]
    },
    {
     "name": "stderr",
     "output_type": "stream",
     "text": [
      " 36%|███████████████████████████                                                 | 4265/12000 [00:12<00:29, 262.04it/s]"
     ]
    },
    {
     "name": "stdout",
     "output_type": "stream",
     "text": [
      "valid check...\n",
      "valid check...\n",
      "valid check...\n",
      "valid check...\n",
      "valid check...\n",
      "valid check...\n",
      "valid check...\n",
      "valid check...\n",
      "valid check...\n",
      "valid check...\n",
      "valid check...\n",
      "valid check...\n",
      "valid check...\n",
      "valid check...\n",
      "valid check...\n"
     ]
    },
    {
     "name": "stderr",
     "output_type": "stream",
     "text": [
      " 36%|███████████████████████████▌                                                | 4352/12000 [00:13<00:28, 266.64it/s]"
     ]
    },
    {
     "name": "stdout",
     "output_type": "stream",
     "text": [
      "valid check...\n",
      "valid check...\n",
      "valid check...\n",
      "valid check...\n",
      "valid check...\n",
      "valid check...\n",
      "valid check...\n",
      "valid check...\n",
      "valid check...\n",
      "valid check...\n",
      "valid check...\n",
      "valid check...\n",
      "valid check...\n",
      "valid check...\n"
     ]
    },
    {
     "name": "stderr",
     "output_type": "stream",
     "text": [
      " 37%|███████████████████████████▉                                                | 4407/12000 [00:13<00:29, 258.72it/s]"
     ]
    },
    {
     "name": "stdout",
     "output_type": "stream",
     "text": [
      "valid check...\n",
      "valid check...\n",
      "valid check...\n",
      "valid check...\n",
      "valid check...\n",
      "valid check...\n",
      "valid check...\n",
      "valid check...\n",
      "valid check...\n",
      "valid check...\n",
      "valid check...\n"
     ]
    },
    {
     "name": "stderr",
     "output_type": "stream",
     "text": [
      " 37%|████████████████████████████▎                                               | 4462/12000 [00:13<00:28, 261.20it/s]"
     ]
    },
    {
     "name": "stdout",
     "output_type": "stream",
     "text": [
      "valid check...\n",
      "valid check...\n",
      "valid check...\n",
      "valid check...\n",
      "valid check...\n",
      "valid check...\n",
      "valid check...\n",
      "valid check...\n",
      "valid check...\n",
      "valid check...\n",
      "valid check...\n",
      "valid check...\n",
      "valid check...\n",
      "valid check...\n",
      "valid check...\n"
     ]
    },
    {
     "name": "stderr",
     "output_type": "stream",
     "text": [
      " 38%|████████████████████████████▋                                               | 4526/12000 [00:13<00:26, 277.93it/s]"
     ]
    },
    {
     "name": "stdout",
     "output_type": "stream",
     "text": [
      "valid check...\n",
      "valid check...\n",
      "valid check...\n",
      "valid check...\n",
      "valid check...\n",
      "valid check...\n",
      "valid check...\n",
      "valid check...\n",
      "valid check...\n",
      "valid check...\n",
      "valid check...\n",
      "valid check...\n"
     ]
    },
    {
     "name": "stderr",
     "output_type": "stream",
     "text": [
      " 38%|█████████████████████████████                                               | 4584/12000 [00:14<00:29, 250.24it/s]"
     ]
    },
    {
     "name": "stdout",
     "output_type": "stream",
     "text": [
      "valid check...\n",
      "valid check...\n",
      "valid check...\n",
      "valid check...\n",
      "valid check...\n",
      "valid check...\n",
      "valid check...\n",
      "valid check...\n"
     ]
    },
    {
     "name": "stderr",
     "output_type": "stream",
     "text": [
      "\r",
      " 38%|█████████████████████████████▏                                              | 4610/12000 [00:14<00:30, 239.69it/s]"
     ]
    },
    {
     "name": "stdout",
     "output_type": "stream",
     "text": [
      "valid check...\n",
      "valid check...\n",
      "valid check...\n",
      "valid check...\n",
      "valid check...\n",
      "valid check...\n",
      "valid check...\n",
      "valid check...\n",
      "valid check...\n",
      "valid check...\n",
      "valid check...\n",
      "valid check...\n",
      "valid check...\n",
      "valid check...\n"
     ]
    },
    {
     "name": "stderr",
     "output_type": "stream",
     "text": [
      " 39%|█████████████████████████████▋                                              | 4689/12000 [00:14<00:29, 244.57it/s]"
     ]
    },
    {
     "name": "stdout",
     "output_type": "stream",
     "text": [
      "valid check...\n",
      "valid check...\n",
      "valid check...\n",
      "valid check...\n",
      "valid check...\n",
      "valid check...\n",
      "valid check...\n",
      "valid check...\n",
      "valid check...\n",
      "valid check...\n",
      "valid check...\n"
     ]
    },
    {
     "name": "stderr",
     "output_type": "stream",
     "text": [
      "\r",
      " 39%|█████████████████████████████▊                                              | 4716/12000 [00:14<00:29, 244.76it/s]"
     ]
    },
    {
     "name": "stdout",
     "output_type": "stream",
     "text": [
      "valid check...\n",
      "valid check...\n",
      "valid check...\n",
      "valid check...\n",
      "valid check...\n",
      "valid check...\n",
      "valid check...\n",
      "valid check...\n",
      "valid check...\n",
      "valid check...\n",
      "valid check...\n"
     ]
    },
    {
     "name": "stderr",
     "output_type": "stream",
     "text": [
      " 40%|██████████████████████████████▍                                             | 4799/12000 [00:15<00:27, 263.23it/s]"
     ]
    },
    {
     "name": "stdout",
     "output_type": "stream",
     "text": [
      "valid check...\n",
      "valid check...\n",
      "valid check...\n",
      "valid check...\n",
      "valid check...\n",
      "valid check...\n",
      "valid check...\n",
      "valid check...\n",
      "valid check...\n",
      "valid check...\n",
      "valid check...\n"
     ]
    },
    {
     "name": "stderr",
     "output_type": "stream",
     "text": [
      " 40%|██████████████████████████████▊                                             | 4859/12000 [00:15<00:26, 274.13it/s]"
     ]
    },
    {
     "name": "stdout",
     "output_type": "stream",
     "text": [
      "valid check...\n",
      "valid check...\n",
      "valid check...\n",
      "valid check...\n",
      "valid check...\n",
      "valid check...\n",
      "valid check...\n",
      "valid check...\n",
      "valid check...\n",
      "valid check...\n",
      "valid check...\n"
     ]
    },
    {
     "name": "stderr",
     "output_type": "stream",
     "text": [
      "\r",
      " 41%|██████████████████████████████▉                                             | 4887/12000 [00:15<00:29, 239.90it/s]"
     ]
    },
    {
     "name": "stdout",
     "output_type": "stream",
     "text": [
      "valid check...\n",
      "valid check...\n",
      "valid check...\n",
      "valid check...\n",
      "valid check...\n",
      "valid check...\n",
      "valid check...\n"
     ]
    },
    {
     "name": "stderr",
     "output_type": "stream",
     "text": [
      " 41%|███████████████████████████████▎                                            | 4943/12000 [00:15<00:28, 251.40it/s]"
     ]
    },
    {
     "name": "stdout",
     "output_type": "stream",
     "text": [
      "valid check...\n",
      "valid check...\n",
      "valid check...\n",
      "valid check...\n",
      "valid check...\n",
      "valid check...\n",
      "valid check...\n",
      "valid check...\n",
      "valid check...\n",
      "valid check...\n",
      "valid check...\n",
      "valid check...\n"
     ]
    },
    {
     "name": "stderr",
     "output_type": "stream",
     "text": [
      " 42%|███████████████████████████████▋                                            | 5003/12000 [00:15<00:25, 273.45it/s]"
     ]
    },
    {
     "name": "stdout",
     "output_type": "stream",
     "text": [
      "valid check...\n",
      "valid check...\n",
      "valid check...\n",
      "valid check...\n",
      "valid check...\n",
      "valid check...\n",
      "valid check...\n",
      "valid check...\n",
      "valid check...\n",
      "valid check...\n",
      "valid check...\n",
      "valid check...\n",
      "valid check...\n",
      "valid check...\n"
     ]
    },
    {
     "name": "stderr",
     "output_type": "stream",
     "text": [
      " 42%|████████████████████████████████                                            | 5060/12000 [00:16<00:25, 272.02it/s]"
     ]
    },
    {
     "name": "stdout",
     "output_type": "stream",
     "text": [
      "valid check...\n",
      "valid check...\n",
      "valid check...\n",
      "valid check...\n",
      "valid check...\n",
      "valid check...\n",
      "valid check...\n",
      "valid check...\n",
      "valid check...\n",
      "valid check...\n"
     ]
    },
    {
     "name": "stderr",
     "output_type": "stream",
     "text": [
      " 43%|████████████████████████████████▍                                           | 5130/12000 [00:16<00:23, 295.79it/s]"
     ]
    },
    {
     "name": "stdout",
     "output_type": "stream",
     "text": [
      "valid check...\n",
      "valid check...\n",
      "valid check...\n",
      "valid check...\n",
      "valid check...\n",
      "valid check...\n",
      "valid check...\n",
      "valid check...\n",
      "valid check...\n",
      "valid check...\n",
      "valid check...\n",
      "valid check...\n",
      "valid check...\n",
      "valid check...\n",
      "valid check...\n",
      "valid check...\n",
      "valid check...\n"
     ]
    },
    {
     "name": "stderr",
     "output_type": "stream",
     "text": [
      " 43%|████████████████████████████████▉                                           | 5195/12000 [00:16<00:22, 299.39it/s]"
     ]
    },
    {
     "name": "stdout",
     "output_type": "stream",
     "text": [
      "valid check...\n",
      "valid check...\n",
      "valid check...\n",
      "valid check...\n",
      "valid check...\n",
      "valid check...\n",
      "valid check...\n",
      "valid check...\n",
      "valid check...\n",
      "valid check...\n",
      "valid check...\n",
      "valid check...\n"
     ]
    },
    {
     "name": "stderr",
     "output_type": "stream",
     "text": [
      " 44%|█████████████████████████████████▎                                          | 5264/12000 [00:16<00:21, 307.50it/s]"
     ]
    },
    {
     "name": "stdout",
     "output_type": "stream",
     "text": [
      "valid check...\n",
      "valid check...\n",
      "valid check...\n",
      "valid check...\n",
      "valid check...\n",
      "valid check...\n",
      "valid check...\n",
      "valid check...\n",
      "valid check...\n",
      "valid check...\n",
      "valid check...\n",
      "valid check...\n"
     ]
    },
    {
     "name": "stderr",
     "output_type": "stream",
     "text": [
      " 44%|█████████████████████████████████▊                                          | 5331/12000 [00:16<00:21, 305.42it/s]"
     ]
    },
    {
     "name": "stdout",
     "output_type": "stream",
     "text": [
      "valid check...\n",
      "valid check...\n",
      "valid check...\n",
      "valid check...\n",
      "valid check...\n",
      "valid check...\n",
      "valid check...\n",
      "valid check...\n",
      "valid check...\n",
      "valid check...\n",
      "valid check...\n",
      "valid check...\n",
      "valid check...\n",
      "valid check...\n",
      "valid check...\n",
      "valid check...\n",
      "valid check...\n"
     ]
    },
    {
     "name": "stderr",
     "output_type": "stream",
     "text": [
      " 45%|██████████████████████████████████▏                                         | 5400/12000 [00:17<00:21, 311.62it/s]"
     ]
    },
    {
     "name": "stdout",
     "output_type": "stream",
     "text": [
      "valid check...\n",
      "valid check...\n",
      "valid check...\n",
      "valid check...\n",
      "valid check...\n",
      "valid check...\n",
      "valid check...\n",
      "valid check...\n",
      "valid check...\n",
      "valid check...\n",
      "valid check...\n",
      "valid check...\n",
      "valid check...\n",
      "valid check...\n",
      "valid check...\n",
      "valid check...\n"
     ]
    },
    {
     "name": "stderr",
     "output_type": "stream",
     "text": [
      " 46%|██████████████████████████████████▉                                         | 5508/12000 [00:17<00:19, 330.12it/s]"
     ]
    },
    {
     "name": "stdout",
     "output_type": "stream",
     "text": [
      "valid check...\n",
      "valid check...\n",
      "valid check...\n",
      "valid check...\n",
      "valid check...\n",
      "valid check...\n",
      "valid check...\n",
      "valid check...\n",
      "valid check...\n",
      "valid check...\n",
      "valid check...\n",
      "valid check...\n",
      "valid check...\n"
     ]
    },
    {
     "name": "stderr",
     "output_type": "stream",
     "text": [
      "\r",
      " 46%|███████████████████████████████████                                         | 5542/12000 [00:17<00:19, 323.63it/s]"
     ]
    },
    {
     "name": "stdout",
     "output_type": "stream",
     "text": [
      "valid check...\n",
      "valid check...\n",
      "valid check...\n",
      "valid check...\n",
      "valid check...\n",
      "valid check...\n"
     ]
    },
    {
     "name": "stderr",
     "output_type": "stream",
     "text": [
      " 47%|███████████████████████████████████▌                                        | 5614/12000 [00:17<00:19, 327.63it/s]"
     ]
    },
    {
     "name": "stdout",
     "output_type": "stream",
     "text": [
      "valid check...\n",
      "valid check...\n",
      "valid check...\n",
      "valid check...\n",
      "valid check...\n",
      "valid check...\n",
      "valid check...\n",
      "valid check...\n",
      "valid check...\n",
      "valid check...\n",
      "valid check...\n"
     ]
    },
    {
     "name": "stderr",
     "output_type": "stream",
     "text": [
      " 47%|███████████████████████████████████▉                                        | 5679/12000 [00:17<00:20, 310.91it/s]"
     ]
    },
    {
     "name": "stdout",
     "output_type": "stream",
     "text": [
      "valid check...\n",
      "valid check...\n",
      "valid check...\n",
      "valid check...\n",
      "valid check...\n",
      "valid check...\n",
      "valid check...\n",
      "valid check...\n",
      "valid check...\n",
      "valid check...\n"
     ]
    },
    {
     "name": "stderr",
     "output_type": "stream",
     "text": [
      " 48%|████████████████████████████████████▎                                       | 5742/12000 [00:18<00:21, 297.80it/s]"
     ]
    },
    {
     "name": "stdout",
     "output_type": "stream",
     "text": [
      "valid check...\n",
      "valid check...\n",
      "valid check...\n",
      "valid check...\n",
      "valid check...\n",
      "valid check...\n",
      "valid check...\n",
      "valid check...\n",
      "valid check...\n",
      "valid check...\n",
      "valid check...\n",
      "valid check...\n"
     ]
    },
    {
     "name": "stderr",
     "output_type": "stream",
     "text": [
      " 48%|████████████████████████████████████▊                                       | 5813/12000 [00:18<00:19, 314.71it/s]"
     ]
    },
    {
     "name": "stdout",
     "output_type": "stream",
     "text": [
      "valid check...\n",
      "valid check...\n",
      "valid check...\n",
      "valid check...\n",
      "valid check...\n",
      "valid check...\n",
      "valid check...\n",
      "valid check...\n",
      "valid check...\n",
      "valid check...\n",
      "valid check...\n",
      "valid check...\n"
     ]
    },
    {
     "name": "stderr",
     "output_type": "stream",
     "text": [
      " 49%|█████████████████████████████████████▍                                      | 5914/12000 [00:18<00:18, 323.48it/s]"
     ]
    },
    {
     "name": "stdout",
     "output_type": "stream",
     "text": [
      "valid check...\n",
      "valid check...\n",
      "valid check...\n",
      "valid check...\n",
      "valid check...\n",
      "valid check...\n",
      "valid check...\n",
      "valid check...\n",
      "valid check...\n",
      "valid check...\n",
      "valid check...\n",
      "valid check...\n",
      "valid check...\n"
     ]
    },
    {
     "name": "stderr",
     "output_type": "stream",
     "text": [
      "\r",
      " 50%|█████████████████████████████████████▋                                      | 5950/12000 [00:18<00:18, 324.56it/s]"
     ]
    },
    {
     "name": "stdout",
     "output_type": "stream",
     "text": [
      "valid check...\n",
      "valid check...\n",
      "valid check...\n",
      "valid check...\n",
      "valid check...\n",
      "valid check...\n",
      "valid check...\n",
      "valid check...\n",
      "valid check...\n",
      "valid check...\n",
      "valid check...\n",
      "valid check...\n",
      "valid check...\n",
      "valid check...\n",
      "valid check...\n",
      "valid check...\n",
      "valid check...\n"
     ]
    },
    {
     "name": "stderr",
     "output_type": "stream",
     "text": [
      " 50%|██████████████████████████████████████                                      | 6018/12000 [00:19<00:18, 315.42it/s]"
     ]
    },
    {
     "name": "stdout",
     "output_type": "stream",
     "text": [
      "valid check...\n",
      "valid check...\n",
      "valid check...\n",
      "valid check...\n",
      "valid check...\n",
      "valid check...\n",
      "valid check...\n",
      "valid check...\n",
      "valid check...\n",
      "valid check...\n",
      "valid check...\n",
      "valid check...\n",
      "valid check...\n",
      "valid check...\n",
      "valid check...\n",
      "valid check...\n",
      "valid check...\n",
      "valid check...\n",
      "valid check...\n",
      "valid check...\n",
      "valid check...\n"
     ]
    },
    {
     "name": "stderr",
     "output_type": "stream",
     "text": [
      " 51%|██████████████████████████████████████▌                                     | 6088/12000 [00:19<00:18, 317.50it/s]"
     ]
    },
    {
     "name": "stdout",
     "output_type": "stream",
     "text": [
      "valid check...\n",
      "valid check...\n",
      "valid check...\n",
      "valid check...\n",
      "valid check...\n",
      "valid check...\n",
      "valid check...\n",
      "valid check...\n",
      "valid check...\n",
      "valid check...\n",
      "valid check...\n",
      "valid check...\n",
      "valid check...\n",
      "valid check...\n",
      "valid check...\n",
      "valid check...\n",
      "valid check...\n",
      "valid check...\n",
      "valid check...\n"
     ]
    },
    {
     "name": "stderr",
     "output_type": "stream",
     "text": [
      " 51%|██████████████████████████████████████▉                                     | 6157/12000 [00:19<00:18, 315.05it/s]"
     ]
    },
    {
     "name": "stdout",
     "output_type": "stream",
     "text": [
      "valid check...\n",
      "valid check...\n",
      "valid check...\n",
      "valid check...\n",
      "valid check...\n",
      "valid check...\n",
      "valid check...\n",
      "valid check...\n",
      "valid check...\n",
      "valid check...\n",
      "valid check...\n",
      "valid check...\n"
     ]
    },
    {
     "name": "stderr",
     "output_type": "stream",
     "text": [
      " 52%|███████████████████████████████████████▍                                    | 6230/12000 [00:19<00:17, 325.51it/s]"
     ]
    },
    {
     "name": "stdout",
     "output_type": "stream",
     "text": [
      "valid check...\n",
      "valid check...\n",
      "valid check...\n",
      "valid check...\n",
      "valid check...\n",
      "valid check...\n",
      "valid check...\n",
      "valid check...\n"
     ]
    },
    {
     "name": "stderr",
     "output_type": "stream",
     "text": [
      " 52%|███████████████████████████████████████▊                                    | 6295/12000 [00:19<00:17, 319.86it/s]"
     ]
    },
    {
     "name": "stdout",
     "output_type": "stream",
     "text": [
      "valid check...\n",
      "valid check...\n",
      "valid check...\n",
      "valid check...\n",
      "valid check...\n",
      "valid check...\n",
      "valid check...\n",
      "valid check...\n",
      "valid check...\n",
      "valid check...\n",
      "valid check...\n",
      "valid check...\n"
     ]
    },
    {
     "name": "stderr",
     "output_type": "stream",
     "text": [
      "\r",
      " 53%|████████████████████████████████████████                                    | 6327/12000 [00:20<00:18, 313.08it/s]"
     ]
    },
    {
     "name": "stdout",
     "output_type": "stream",
     "text": [
      "valid check...\n",
      "valid check...\n",
      "valid check...\n",
      "valid check...\n",
      "valid check...\n",
      "valid check...\n",
      "valid check...\n",
      "valid check...\n",
      "valid check...\n"
     ]
    },
    {
     "name": "stderr",
     "output_type": "stream",
     "text": [
      " 53%|████████████████████████████████████████▍                                   | 6393/12000 [00:20<00:18, 305.27it/s]"
     ]
    },
    {
     "name": "stdout",
     "output_type": "stream",
     "text": [
      "valid check...\n",
      "valid check...\n",
      "valid check...\n",
      "valid check...\n",
      "valid check...\n",
      "valid check...\n",
      "valid check...\n",
      "valid check...\n",
      "valid check...\n"
     ]
    },
    {
     "name": "stderr",
     "output_type": "stream",
     "text": [
      " 54%|████████████████████████████████████████▉                                   | 6460/12000 [00:20<00:19, 289.70it/s]"
     ]
    },
    {
     "name": "stdout",
     "output_type": "stream",
     "text": [
      "valid check...\n",
      "valid check...\n",
      "valid check...\n",
      "valid check...\n",
      "valid check...\n",
      "valid check...\n",
      "valid check...\n",
      "valid check...\n",
      "valid check...\n",
      "valid check...\n",
      "valid check...\n",
      "valid check...\n",
      "valid check...\n",
      "valid check...\n",
      "valid check...\n",
      "valid check...\n",
      "valid check...\n",
      "valid check...\n"
     ]
    },
    {
     "name": "stderr",
     "output_type": "stream",
     "text": [
      " 54%|█████████████████████████████████████████▍                                  | 6534/12000 [00:20<00:17, 314.35it/s]"
     ]
    },
    {
     "name": "stdout",
     "output_type": "stream",
     "text": [
      "valid check...\n",
      "valid check...\n",
      "valid check...\n",
      "valid check...\n",
      "valid check...\n",
      "valid check...\n",
      "valid check...\n",
      "valid check...\n",
      "valid check...\n",
      "valid check...\n",
      "valid check...\n",
      "valid check...\n",
      "valid check...\n"
     ]
    },
    {
     "name": "stderr",
     "output_type": "stream",
     "text": [
      " 55%|█████████████████████████████████████████▊                                  | 6598/12000 [00:20<00:17, 313.31it/s]"
     ]
    },
    {
     "name": "stdout",
     "output_type": "stream",
     "text": [
      "valid check...\n",
      "valid check...\n",
      "valid check...\n",
      "valid check...\n",
      "valid check...\n",
      "valid check...\n",
      "valid check...\n",
      "valid check...\n",
      "valid check...\n",
      "valid check...\n",
      "valid check...\n",
      "valid check...\n",
      "valid check...\n",
      "valid check...\n",
      "valid check...\n",
      "valid check...\n",
      "valid check...\n",
      "valid check...\n",
      "valid check...\n",
      "valid check...\n",
      "valid check...\n"
     ]
    },
    {
     "name": "stderr",
     "output_type": "stream",
     "text": [
      " 56%|██████████████████████████████████████████▏                                 | 6661/12000 [00:21<00:17, 298.78it/s]"
     ]
    },
    {
     "name": "stdout",
     "output_type": "stream",
     "text": [
      "valid check...\n",
      "valid check...\n",
      "valid check...\n",
      "valid check...\n",
      "valid check...\n",
      "valid check...\n",
      "valid check...\n",
      "valid check...\n",
      "valid check...\n",
      "valid check...\n",
      "valid check...\n"
     ]
    },
    {
     "name": "stderr",
     "output_type": "stream",
     "text": [
      " 56%|██████████████████████████████████████████▋                                 | 6732/12000 [00:21<00:16, 312.13it/s]"
     ]
    },
    {
     "name": "stdout",
     "output_type": "stream",
     "text": [
      "valid check...\n",
      "valid check...\n",
      "valid check...\n",
      "valid check...\n",
      "valid check...\n",
      "valid check...\n",
      "valid check...\n",
      "valid check...\n",
      "valid check...\n",
      "valid check...\n",
      "valid check...\n",
      "valid check...\n",
      "valid check...\n"
     ]
    },
    {
     "name": "stderr",
     "output_type": "stream",
     "text": [
      " 57%|███████████████████████████████████████████                                 | 6799/12000 [00:21<00:16, 307.18it/s]"
     ]
    },
    {
     "name": "stdout",
     "output_type": "stream",
     "text": [
      "valid check...\n",
      "valid check...\n",
      "valid check...\n",
      "valid check...\n",
      "valid check...\n",
      "valid check...\n",
      "valid check...\n",
      "valid check...\n",
      "valid check...\n",
      "valid check...\n",
      "valid check...\n",
      "valid check...\n",
      "valid check...\n",
      "valid check...\n",
      "valid check...\n",
      "valid check...\n",
      "valid check...\n"
     ]
    },
    {
     "name": "stderr",
     "output_type": "stream",
     "text": [
      " 57%|███████████████████████████████████████████▌                                | 6870/12000 [00:21<00:16, 316.63it/s]"
     ]
    },
    {
     "name": "stdout",
     "output_type": "stream",
     "text": [
      "valid check...\n",
      "valid check...\n",
      "valid check...\n",
      "valid check...\n",
      "valid check...\n",
      "valid check...\n",
      "valid check...\n",
      "valid check...\n",
      "valid check...\n",
      "valid check...\n",
      "valid check...\n",
      "valid check...\n",
      "valid check...\n",
      "valid check...\n",
      "valid check...\n",
      "valid check...\n",
      "valid check...\n"
     ]
    },
    {
     "name": "stderr",
     "output_type": "stream",
     "text": [
      " 58%|███████████████████████████████████████████▉                                | 6940/12000 [00:22<00:15, 317.55it/s]"
     ]
    },
    {
     "name": "stdout",
     "output_type": "stream",
     "text": [
      "valid check...\n",
      "valid check...\n",
      "valid check...\n",
      "valid check...\n",
      "valid check...\n",
      "valid check...\n",
      "valid check...\n",
      "valid check...\n",
      "valid check...\n",
      "valid check...\n",
      "valid check...\n",
      "valid check...\n",
      "valid check...\n",
      "valid check...\n"
     ]
    },
    {
     "name": "stderr",
     "output_type": "stream",
     "text": [
      "\r",
      " 58%|████████████████████████████████████████████▏                               | 6972/12000 [00:22<00:16, 309.48it/s]"
     ]
    },
    {
     "name": "stdout",
     "output_type": "stream",
     "text": [
      "valid check...\n",
      "valid check...\n",
      "valid check...\n",
      "valid check...\n",
      "valid check...\n",
      "valid check...\n",
      "valid check...\n",
      "valid check...\n",
      "valid check...\n",
      "valid check...\n",
      "valid check...\n",
      "valid check...\n"
     ]
    },
    {
     "name": "stderr",
     "output_type": "stream",
     "text": [
      " 59%|████████████████████████████████████████████▌                               | 7042/12000 [00:22<00:15, 315.32it/s]"
     ]
    },
    {
     "name": "stdout",
     "output_type": "stream",
     "text": [
      "valid check...\n",
      "valid check...\n",
      "valid check...\n",
      "valid check...\n",
      "valid check...\n",
      "valid check...\n",
      "valid check...\n",
      "valid check...\n",
      "valid check...\n",
      "valid check...\n",
      "valid check...\n"
     ]
    },
    {
     "name": "stderr",
     "output_type": "stream",
     "text": [
      " 60%|█████████████████████████████████████████████▎                              | 7147/12000 [00:22<00:15, 317.00it/s]"
     ]
    },
    {
     "name": "stdout",
     "output_type": "stream",
     "text": [
      "valid check...\n",
      "valid check...\n",
      "valid check...\n",
      "valid check...\n",
      "valid check...\n",
      "valid check...\n",
      "valid check...\n",
      "valid check...\n",
      "valid check...\n",
      "valid check...\n"
     ]
    },
    {
     "name": "stderr",
     "output_type": "stream",
     "text": [
      "\r",
      " 60%|█████████████████████████████████████████████▍                              | 7182/12000 [00:22<00:15, 317.28it/s]"
     ]
    },
    {
     "name": "stdout",
     "output_type": "stream",
     "text": [
      "valid check...\n",
      "valid check...\n",
      "valid check...\n",
      "valid check...\n",
      "valid check...\n",
      "valid check...\n",
      "valid check...\n",
      "valid check...\n",
      "valid check...\n",
      "valid check...\n",
      "valid check...\n",
      "valid check...\n",
      "valid check...\n"
     ]
    },
    {
     "name": "stderr",
     "output_type": "stream",
     "text": [
      " 60%|█████████████████████████████████████████████▉                              | 7244/12000 [00:23<00:20, 234.86it/s]"
     ]
    },
    {
     "name": "stdout",
     "output_type": "stream",
     "text": [
      "valid check...\n",
      "valid check...\n",
      "valid check...\n",
      "valid check...\n",
      "valid check...\n",
      "valid check...\n",
      "valid check...\n",
      "valid check...\n",
      "valid check...\n",
      "valid check...\n"
     ]
    },
    {
     "name": "stderr",
     "output_type": "stream",
     "text": [
      " 61%|██████████████████████████████████████████████▎                             | 7314/12000 [00:23<00:17, 272.24it/s]"
     ]
    },
    {
     "name": "stdout",
     "output_type": "stream",
     "text": [
      "valid check...\n",
      "valid check...\n",
      "valid check...\n",
      "valid check...\n",
      "valid check...\n",
      "valid check...\n",
      "valid check...\n",
      "valid check...\n"
     ]
    },
    {
     "name": "stderr",
     "output_type": "stream",
     "text": [
      " 62%|██████████████████████████████████████████████▊                             | 7387/12000 [00:23<00:15, 301.02it/s]"
     ]
    },
    {
     "name": "stdout",
     "output_type": "stream",
     "text": [
      "valid check...\n",
      "valid check...\n",
      "valid check...\n",
      "valid check...\n",
      "valid check...\n",
      "valid check...\n",
      "valid check...\n",
      "valid check...\n",
      "valid check...\n",
      "valid check...\n"
     ]
    },
    {
     "name": "stderr",
     "output_type": "stream",
     "text": [
      " 62%|███████████████████████████████████████████████▏                            | 7460/12000 [00:23<00:14, 317.29it/s]"
     ]
    },
    {
     "name": "stdout",
     "output_type": "stream",
     "text": [
      "valid check...\n",
      "valid check...\n",
      "valid check...\n",
      "valid check...\n",
      "valid check...\n",
      "valid check...\n",
      "valid check...\n",
      "valid check...\n",
      "valid check...\n",
      "valid check...\n",
      "valid check...\n"
     ]
    },
    {
     "name": "stderr",
     "output_type": "stream",
     "text": [
      " 63%|███████████████████████████████████████████████▋                            | 7526/12000 [00:24<00:14, 308.52it/s]"
     ]
    },
    {
     "name": "stdout",
     "output_type": "stream",
     "text": [
      "valid check...\n",
      "valid check...\n",
      "valid check...\n",
      "valid check...\n",
      "valid check...\n",
      "valid check...\n",
      "valid check...\n",
      "valid check...\n",
      "valid check...\n",
      "valid check...\n",
      "valid check...\n"
     ]
    },
    {
     "name": "stderr",
     "output_type": "stream",
     "text": [
      " 63%|████████████████████████████████████████████████                            | 7597/12000 [00:24<00:13, 315.87it/s]"
     ]
    },
    {
     "name": "stdout",
     "output_type": "stream",
     "text": [
      "valid check...\n",
      "valid check...\n",
      "valid check...\n",
      "valid check...\n",
      "valid check...\n",
      "valid check...\n",
      "valid check...\n",
      "valid check...\n",
      "valid check...\n",
      "valid check...\n",
      "valid check...\n",
      "valid check...\n",
      "valid check...\n"
     ]
    },
    {
     "name": "stderr",
     "output_type": "stream",
     "text": [
      " 64%|████████████████████████████████████████████████▌                           | 7668/12000 [00:24<00:13, 319.60it/s]"
     ]
    },
    {
     "name": "stdout",
     "output_type": "stream",
     "text": [
      "valid check...\n",
      "valid check...\n",
      "valid check...\n",
      "valid check...\n",
      "valid check...\n",
      "valid check...\n",
      "valid check...\n",
      "valid check...\n",
      "valid check...\n",
      "valid check...\n",
      "valid check...\n",
      "valid check...\n",
      "valid check...\n"
     ]
    },
    {
     "name": "stderr",
     "output_type": "stream",
     "text": [
      "\r",
      " 64%|████████████████████████████████████████████████▊                           | 7704/12000 [00:24<00:13, 321.80it/s]"
     ]
    },
    {
     "name": "stdout",
     "output_type": "stream",
     "text": [
      "valid check...\n",
      "valid check...\n",
      "valid check...\n",
      "valid check...\n",
      "valid check...\n",
      "valid check...\n",
      "valid check...\n",
      "valid check...\n",
      "valid check...\n",
      "valid check...\n",
      "valid check...\n",
      "valid check...\n",
      "valid check...\n"
     ]
    },
    {
     "name": "stderr",
     "output_type": "stream",
     "text": [
      " 65%|█████████████████████████████████████████████████▏                          | 7774/12000 [00:24<00:13, 318.99it/s]"
     ]
    },
    {
     "name": "stdout",
     "output_type": "stream",
     "text": [
      "valid check...\n",
      "valid check...\n",
      "valid check...\n",
      "valid check...\n",
      "valid check...\n",
      "valid check...\n",
      "valid check...\n",
      "valid check...\n",
      "valid check...\n",
      "valid check...\n",
      "valid check...\n",
      "valid check...\n"
     ]
    },
    {
     "name": "stderr",
     "output_type": "stream",
     "text": [
      " 65%|█████████████████████████████████████████████████▋                          | 7843/12000 [00:25<00:13, 315.95it/s]"
     ]
    },
    {
     "name": "stdout",
     "output_type": "stream",
     "text": [
      "valid check...\n",
      "valid check...\n",
      "valid check...\n",
      "valid check...\n",
      "valid check...\n",
      "valid check...\n",
      "valid check...\n",
      "valid check...\n",
      "valid check...\n",
      "valid check...\n",
      "valid check...\n",
      "valid check...\n",
      "valid check...\n",
      "valid check...\n"
     ]
    },
    {
     "name": "stderr",
     "output_type": "stream",
     "text": [
      " 66%|██████████████████████████████████████████████████                          | 7907/12000 [00:25<00:13, 314.82it/s]"
     ]
    },
    {
     "name": "stdout",
     "output_type": "stream",
     "text": [
      "valid check...\n",
      "valid check...\n",
      "valid check...\n",
      "valid check...\n",
      "valid check...\n",
      "valid check...\n",
      "valid check...\n",
      "valid check...\n",
      "valid check...\n",
      "valid check...\n",
      "valid check...\n",
      "valid check...\n",
      "valid check...\n",
      "valid check...\n",
      "valid check...\n",
      "valid check...\n",
      "valid check...\n"
     ]
    },
    {
     "name": "stderr",
     "output_type": "stream",
     "text": [
      " 66%|██████████████████████████████████████████████████▌                         | 7974/12000 [00:25<00:12, 310.50it/s]"
     ]
    },
    {
     "name": "stdout",
     "output_type": "stream",
     "text": [
      "valid check...\n",
      "valid check...\n",
      "valid check...\n",
      "valid check...\n",
      "valid check...\n",
      "valid check...\n",
      "valid check...\n",
      "valid check...\n",
      "valid check...\n",
      "valid check...\n",
      "valid check...\n",
      "valid check...\n",
      "valid check...\n",
      "valid check...\n",
      "valid check...\n"
     ]
    },
    {
     "name": "stderr",
     "output_type": "stream",
     "text": [
      " 67%|██████████████████████████████████████████████████▉                         | 8036/12000 [00:25<00:14, 274.76it/s]"
     ]
    },
    {
     "name": "stdout",
     "output_type": "stream",
     "text": [
      "valid check...\n",
      "valid check...\n",
      "valid check...\n",
      "valid check...\n",
      "valid check...\n",
      "valid check...\n",
      "valid check...\n",
      "valid check...\n",
      "valid check...\n",
      "valid check...\n",
      "valid check...\n",
      "valid check...\n"
     ]
    },
    {
     "name": "stderr",
     "output_type": "stream",
     "text": [
      "\r",
      " 67%|███████████████████████████████████████████████████                         | 8071/12000 [00:25<00:13, 287.16it/s]"
     ]
    },
    {
     "name": "stdout",
     "output_type": "stream",
     "text": [
      "valid check...\n",
      "valid check...\n",
      "valid check...\n",
      "valid check...\n",
      "valid check...\n",
      "valid check...\n",
      "valid check...\n"
     ]
    },
    {
     "name": "stderr",
     "output_type": "stream",
     "text": [
      " 68%|███████████████████████████████████████████████████▌                        | 8140/12000 [00:26<00:12, 303.47it/s]"
     ]
    },
    {
     "name": "stdout",
     "output_type": "stream",
     "text": [
      "valid check...\n",
      "valid check...\n",
      "valid check...\n",
      "valid check...\n",
      "valid check...\n",
      "valid check...\n",
      "valid check...\n",
      "valid check...\n",
      "valid check...\n",
      "valid check...\n",
      "valid check...\n",
      "valid check...\n",
      "valid check...\n",
      "valid check...\n"
     ]
    },
    {
     "name": "stderr",
     "output_type": "stream",
     "text": [
      " 68%|███████████████████████████████████████████████████▉                        | 8204/12000 [00:26<00:12, 310.97it/s]"
     ]
    },
    {
     "name": "stdout",
     "output_type": "stream",
     "text": [
      "valid check...\n",
      "valid check...\n",
      "valid check...\n",
      "valid check...\n",
      "valid check...\n",
      "valid check...\n",
      "valid check...\n",
      "valid check...\n",
      "valid check...\n",
      "valid check...\n",
      "valid check...\n",
      "valid check...\n"
     ]
    },
    {
     "name": "stderr",
     "output_type": "stream",
     "text": [
      " 69%|████████████████████████████████████████████████████▍                       | 8270/12000 [00:26<00:12, 301.83it/s]"
     ]
    },
    {
     "name": "stdout",
     "output_type": "stream",
     "text": [
      "valid check...\n",
      "valid check...\n",
      "valid check...\n",
      "valid check...\n",
      "valid check...\n",
      "valid check...\n",
      "valid check...\n",
      "valid check...\n",
      "valid check...\n",
      "valid check...\n",
      "valid check...\n",
      "valid check...\n",
      "valid check...\n",
      "valid check...\n"
     ]
    },
    {
     "name": "stderr",
     "output_type": "stream",
     "text": [
      " 70%|████████████████████████████████████████████████████▊                       | 8342/12000 [00:26<00:11, 313.87it/s]"
     ]
    },
    {
     "name": "stdout",
     "output_type": "stream",
     "text": [
      "valid check...\n",
      "valid check...\n",
      "valid check...\n",
      "valid check...\n",
      "valid check...\n",
      "valid check...\n",
      "valid check...\n",
      "valid check...\n",
      "valid check...\n",
      "valid check...\n",
      "valid check...\n",
      "valid check...\n",
      "valid check...\n"
     ]
    },
    {
     "name": "stderr",
     "output_type": "stream",
     "text": [
      " 70%|█████████████████████████████████████████████████████▎                      | 8414/12000 [00:26<00:11, 320.56it/s]"
     ]
    },
    {
     "name": "stdout",
     "output_type": "stream",
     "text": [
      "valid check...\n",
      "valid check...\n",
      "valid check...\n",
      "valid check...\n",
      "valid check...\n",
      "valid check...\n",
      "valid check...\n",
      "valid check...\n",
      "valid check...\n",
      "valid check...\n",
      "valid check...\n",
      "valid check...\n",
      "valid check...\n",
      "valid check...\n",
      "valid check...\n",
      "valid check...\n",
      "valid check...\n",
      "valid check...\n",
      "valid check...\n",
      "valid check...\n",
      "valid check...\n",
      "valid check...\n"
     ]
    },
    {
     "name": "stderr",
     "output_type": "stream",
     "text": [
      " 71%|█████████████████████████████████████████████████████▋                      | 8483/12000 [00:27<00:11, 316.48it/s]"
     ]
    },
    {
     "name": "stdout",
     "output_type": "stream",
     "text": [
      "valid check...\n",
      "valid check...\n",
      "valid check...\n",
      "valid check...\n",
      "valid check...\n",
      "valid check...\n",
      "valid check...\n",
      "valid check...\n",
      "valid check...\n",
      "valid check...\n",
      "valid check...\n",
      "valid check...\n"
     ]
    },
    {
     "name": "stderr",
     "output_type": "stream",
     "text": [
      " 71%|██████████████████████████████████████████████████████                      | 8546/12000 [00:27<00:11, 300.09it/s]"
     ]
    },
    {
     "name": "stdout",
     "output_type": "stream",
     "text": [
      "valid check...\n",
      "valid check...\n",
      "valid check...\n",
      "valid check...\n",
      "valid check...\n",
      "valid check...\n",
      "valid check...\n",
      "valid check...\n",
      "valid check...\n",
      "valid check...\n",
      "valid check...\n",
      "valid check...\n",
      "valid check...\n"
     ]
    },
    {
     "name": "stderr",
     "output_type": "stream",
     "text": [
      " 72%|██████████████████████████████████████████████████████▌                     | 8616/12000 [00:27<00:10, 309.45it/s]"
     ]
    },
    {
     "name": "stdout",
     "output_type": "stream",
     "text": [
      "valid check...\n",
      "valid check...\n",
      "valid check...\n",
      "valid check...\n",
      "valid check...\n",
      "valid check...\n",
      "valid check...\n",
      "valid check...\n",
      "valid check...\n",
      "valid check...\n",
      "valid check...\n",
      "valid check...\n",
      "valid check...\n",
      "valid check...\n",
      "valid check...\n",
      "valid check...\n",
      "valid check...\n",
      "valid check...\n",
      "valid check...\n"
     ]
    },
    {
     "name": "stderr",
     "output_type": "stream",
     "text": [
      " 72%|███████████████████████████████████████████████████████                     | 8690/12000 [00:27<00:10, 323.02it/s]"
     ]
    },
    {
     "name": "stdout",
     "output_type": "stream",
     "text": [
      "valid check...\n",
      "valid check...\n",
      "valid check...\n",
      "valid check...\n",
      "valid check...\n",
      "valid check...\n",
      "valid check...\n",
      "valid check...\n",
      "valid check...\n",
      "valid check...\n",
      "valid check...\n",
      "valid check...\n",
      "valid check...\n",
      "valid check...\n"
     ]
    },
    {
     "name": "stderr",
     "output_type": "stream",
     "text": [
      "\r",
      " 73%|███████████████████████████████████████████████████████▏                    | 8723/12000 [00:27<00:10, 316.04it/s]"
     ]
    },
    {
     "name": "stdout",
     "output_type": "stream",
     "text": [
      "valid check...\n",
      "valid check...\n",
      "valid check...\n",
      "valid check...\n",
      "valid check...\n",
      "valid check...\n",
      "valid check...\n",
      "valid check...\n",
      "valid check...\n",
      "valid check...\n",
      "valid check...\n",
      "valid check...\n"
     ]
    },
    {
     "name": "stderr",
     "output_type": "stream",
     "text": [
      " 73%|███████████████████████████████████████████████████████▋                    | 8790/12000 [00:28<00:10, 310.70it/s]"
     ]
    },
    {
     "name": "stdout",
     "output_type": "stream",
     "text": [
      "valid check...\n",
      "valid check...\n",
      "valid check...\n",
      "valid check...\n",
      "valid check...\n",
      "valid check...\n",
      "valid check...\n",
      "valid check...\n",
      "valid check...\n",
      "valid check...\n",
      "valid check...\n",
      "valid check...\n",
      "valid check...\n"
     ]
    },
    {
     "name": "stderr",
     "output_type": "stream",
     "text": [
      " 74%|████████████████████████████████████████████████████████                    | 8858/12000 [00:28<00:10, 308.27it/s]"
     ]
    },
    {
     "name": "stdout",
     "output_type": "stream",
     "text": [
      "valid check...\n",
      "valid check...\n",
      "valid check...\n",
      "valid check...\n",
      "valid check...\n",
      "valid check...\n",
      "valid check...\n",
      "valid check...\n",
      "valid check...\n",
      "valid check...\n",
      "valid check...\n",
      "valid check...\n"
     ]
    },
    {
     "name": "stderr",
     "output_type": "stream",
     "text": [
      " 74%|████████████████████████████████████████████████████████▌                   | 8922/12000 [00:28<00:09, 309.61it/s]"
     ]
    },
    {
     "name": "stdout",
     "output_type": "stream",
     "text": [
      "valid check...\n",
      "valid check...\n",
      "valid check...\n",
      "valid check...\n",
      "valid check...\n",
      "valid check...\n",
      "valid check...\n",
      "valid check...\n",
      "valid check...\n",
      "valid check...\n",
      "valid check...\n",
      "valid check...\n"
     ]
    },
    {
     "name": "stderr",
     "output_type": "stream",
     "text": [
      " 75%|████████████████████████████████████████████████████████▉                   | 8986/12000 [00:28<00:09, 312.53it/s]"
     ]
    },
    {
     "name": "stdout",
     "output_type": "stream",
     "text": [
      "valid check...\n",
      "valid check...\n",
      "valid check...\n",
      "valid check...\n",
      "valid check...\n",
      "valid check...\n",
      "valid check...\n",
      "valid check...\n",
      "valid check...\n",
      "valid check...\n",
      "valid check...\n",
      "valid check...\n",
      "valid check...\n",
      "valid check...\n"
     ]
    },
    {
     "name": "stderr",
     "output_type": "stream",
     "text": [
      " 75%|█████████████████████████████████████████████████████████▎                  | 9059/12000 [00:28<00:09, 321.11it/s]"
     ]
    },
    {
     "name": "stdout",
     "output_type": "stream",
     "text": [
      "valid check...\n",
      "valid check...\n",
      "valid check...\n",
      "valid check...\n",
      "valid check...\n",
      "valid check...\n",
      "valid check...\n",
      "valid check...\n",
      "valid check...\n",
      "valid check...\n",
      "valid check...\n",
      "valid check...\n",
      "valid check...\n",
      "valid check...\n",
      "valid check...\n",
      "valid check...\n"
     ]
    },
    {
     "name": "stderr",
     "output_type": "stream",
     "text": [
      " 76%|█████████████████████████████████████████████████████████▊                  | 9128/12000 [00:29<00:09, 317.89it/s]"
     ]
    },
    {
     "name": "stdout",
     "output_type": "stream",
     "text": [
      "valid check...\n",
      "valid check...\n",
      "valid check...\n",
      "valid check...\n",
      "valid check...\n",
      "valid check...\n",
      "valid check...\n"
     ]
    },
    {
     "name": "stderr",
     "output_type": "stream",
     "text": [
      " 77%|██████████████████████████████████████████████████████████▏                 | 9197/12000 [00:29<00:08, 314.32it/s]"
     ]
    },
    {
     "name": "stdout",
     "output_type": "stream",
     "text": [
      "valid check...\n",
      "valid check...\n",
      "valid check...\n",
      "valid check...\n",
      "valid check...\n",
      "valid check...\n",
      "valid check...\n",
      "valid check...\n",
      "valid check...\n",
      "valid check...\n",
      "valid check...\n",
      "valid check...\n",
      "valid check...\n",
      "valid check...\n",
      "valid check...\n",
      "valid check...\n",
      "valid check...\n"
     ]
    },
    {
     "name": "stderr",
     "output_type": "stream",
     "text": [
      " 77%|██████████████████████████████████████████████████████████▋                 | 9269/12000 [00:29<00:08, 320.81it/s]"
     ]
    },
    {
     "name": "stdout",
     "output_type": "stream",
     "text": [
      "valid check...\n",
      "valid check...\n",
      "valid check...\n",
      "valid check...\n",
      "valid check...\n",
      "valid check...\n",
      "valid check...\n",
      "valid check...\n",
      "valid check...\n",
      "valid check...\n",
      "valid check...\n",
      "valid check...\n",
      "valid check...\n"
     ]
    },
    {
     "name": "stderr",
     "output_type": "stream",
     "text": [
      " 78%|███████████████████████████████████████████████████████████▏                | 9343/12000 [00:29<00:08, 329.34it/s]"
     ]
    },
    {
     "name": "stdout",
     "output_type": "stream",
     "text": [
      "valid check...\n",
      "valid check...\n",
      "valid check...\n",
      "valid check...\n",
      "valid check...\n",
      "valid check...\n",
      "valid check...\n",
      "valid check...\n",
      "valid check...\n",
      "valid check...\n",
      "valid check...\n",
      "valid check...\n",
      "valid check...\n"
     ]
    },
    {
     "name": "stderr",
     "output_type": "stream",
     "text": [
      " 78%|███████████████████████████████████████████████████████████▌                | 9409/12000 [00:30<00:07, 328.49it/s]"
     ]
    },
    {
     "name": "stdout",
     "output_type": "stream",
     "text": [
      "valid check...\n",
      "valid check...\n",
      "valid check...\n",
      "valid check...\n",
      "valid check...\n",
      "valid check...\n",
      "valid check...\n",
      "valid check...\n",
      "valid check...\n",
      "valid check...\n",
      "valid check...\n",
      "valid check...\n",
      "valid check...\n",
      "valid check...\n",
      "valid check...\n"
     ]
    },
    {
     "name": "stderr",
     "output_type": "stream",
     "text": [
      " 79%|████████████████████████████████████████████████████████████                | 9475/12000 [00:30<00:07, 327.93it/s]"
     ]
    },
    {
     "name": "stdout",
     "output_type": "stream",
     "text": [
      "valid check...\n",
      "valid check...\n",
      "valid check...\n",
      "valid check...\n",
      "valid check...\n",
      "valid check...\n",
      "valid check...\n",
      "valid check...\n",
      "valid check...\n",
      "valid check...\n",
      "valid check...\n",
      "valid check...\n",
      "valid check...\n",
      "valid check...\n",
      "valid check...\n",
      "valid check...\n",
      "valid check...\n"
     ]
    },
    {
     "name": "stderr",
     "output_type": "stream",
     "text": [
      " 80%|████████████████████████████████████████████████████████████▍               | 9540/12000 [00:30<00:08, 285.34it/s]"
     ]
    },
    {
     "name": "stdout",
     "output_type": "stream",
     "text": [
      "valid check...\n",
      "valid check...\n",
      "valid check...\n",
      "valid check...\n",
      "valid check...\n",
      "valid check...\n",
      "valid check...\n",
      "valid check...\n",
      "valid check...\n",
      "valid check...\n",
      "valid check...\n"
     ]
    },
    {
     "name": "stderr",
     "output_type": "stream",
     "text": [
      " 80%|████████████████████████████████████████████████████████████▊               | 9607/12000 [00:30<00:08, 297.54it/s]"
     ]
    },
    {
     "name": "stdout",
     "output_type": "stream",
     "text": [
      "valid check...\n",
      "valid check...\n",
      "valid check...\n",
      "valid check...\n",
      "valid check...\n",
      "valid check...\n",
      "valid check...\n",
      "valid check...\n",
      "valid check...\n",
      "valid check...\n",
      "valid check...\n",
      "valid check...\n",
      "valid check...\n",
      "valid check...\n",
      "valid check...\n",
      "valid check...\n",
      "valid check...\n",
      "valid check...\n",
      "valid check...\n",
      "valid check...\n"
     ]
    },
    {
     "name": "stderr",
     "output_type": "stream",
     "text": [
      " 81%|█████████████████████████████████████████████████████████████▎              | 9675/12000 [00:30<00:07, 303.59it/s]"
     ]
    },
    {
     "name": "stdout",
     "output_type": "stream",
     "text": [
      "valid check...\n",
      "valid check...\n",
      "valid check...\n",
      "valid check...\n",
      "valid check...\n",
      "valid check...\n",
      "valid check...\n",
      "valid check...\n",
      "valid check...\n",
      "valid check...\n",
      "valid check...\n",
      "valid check...\n",
      "valid check...\n",
      "valid check...\n",
      "valid check...\n",
      "valid check...\n",
      "valid check...\n",
      "valid check...\n",
      "valid check...\n"
     ]
    },
    {
     "name": "stderr",
     "output_type": "stream",
     "text": [
      " 81%|█████████████████████████████████████████████████████████████▉              | 9773/12000 [00:31<00:07, 313.55it/s]"
     ]
    },
    {
     "name": "stdout",
     "output_type": "stream",
     "text": [
      "valid check...\n",
      "valid check...\n",
      "valid check...\n",
      "valid check...\n",
      "valid check...\n",
      "valid check...\n",
      "valid check...\n",
      "valid check...\n",
      "valid check...\n",
      "valid check...\n",
      "valid check...\n",
      "valid check...\n",
      "valid check...\n",
      "valid check...\n",
      "valid check...\n"
     ]
    },
    {
     "name": "stderr",
     "output_type": "stream",
     "text": [
      "\r",
      " 82%|██████████████████████████████████████████████████████████████              | 9805/12000 [00:31<00:06, 315.32it/s]"
     ]
    },
    {
     "name": "stdout",
     "output_type": "stream",
     "text": [
      "valid check...\n",
      "valid check...\n",
      "valid check...\n",
      "valid check...\n",
      "valid check...\n",
      "valid check...\n",
      "valid check...\n",
      "valid check...\n",
      "valid check...\n",
      "valid check...\n",
      "valid check...\n",
      "valid check...\n",
      "valid check...\n"
     ]
    },
    {
     "name": "stderr",
     "output_type": "stream",
     "text": [
      " 82%|██████████████████████████████████████████████████████████████▌             | 9874/12000 [00:31<00:06, 314.61it/s]"
     ]
    },
    {
     "name": "stdout",
     "output_type": "stream",
     "text": [
      "valid check...\n",
      "valid check...\n",
      "valid check...\n",
      "valid check...\n",
      "valid check...\n",
      "valid check...\n",
      "valid check...\n",
      "valid check...\n",
      "valid check...\n",
      "valid check...\n",
      "valid check...\n",
      "valid check...\n",
      "valid check...\n",
      "valid check...\n"
     ]
    },
    {
     "name": "stderr",
     "output_type": "stream",
     "text": [
      " 83%|██████████████████████████████████████████████████████████████▉             | 9946/12000 [00:31<00:06, 321.44it/s]"
     ]
    },
    {
     "name": "stdout",
     "output_type": "stream",
     "text": [
      "valid check...\n",
      "valid check...\n",
      "valid check...\n",
      "valid check...\n",
      "valid check...\n",
      "valid check...\n",
      "valid check...\n",
      "valid check...\n",
      "valid check...\n",
      "valid check...\n",
      "valid check...\n",
      "valid check...\n",
      "valid check...\n"
     ]
    },
    {
     "name": "stderr",
     "output_type": "stream",
     "text": [
      " 83%|██████████████████████████████████████████████████████████████▌            | 10015/12000 [00:31<00:06, 317.69it/s]"
     ]
    },
    {
     "name": "stdout",
     "output_type": "stream",
     "text": [
      "valid check...\n",
      "valid check...\n",
      "valid check...\n",
      "valid check...\n",
      "valid check...\n",
      "valid check...\n",
      "valid check...\n",
      "valid check...\n",
      "valid check...\n",
      "valid check...\n",
      "valid check...\n"
     ]
    },
    {
     "name": "stderr",
     "output_type": "stream",
     "text": [
      " 84%|███████████████████████████████████████████████████████████████            | 10084/12000 [00:32<00:06, 315.97it/s]"
     ]
    },
    {
     "name": "stdout",
     "output_type": "stream",
     "text": [
      "valid check...\n",
      "valid check...\n",
      "valid check...\n",
      "valid check...\n",
      "valid check...\n",
      "valid check...\n",
      "valid check...\n",
      "valid check...\n",
      "valid check...\n",
      "valid check...\n",
      "valid check...\n",
      "valid check...\n",
      "valid check...\n",
      "valid check...\n",
      "valid check...\n",
      "valid check...\n"
     ]
    },
    {
     "name": "stderr",
     "output_type": "stream",
     "text": [
      " 85%|███████████████████████████████████████████████████████████████▍           | 10158/12000 [00:32<00:05, 326.23it/s]"
     ]
    },
    {
     "name": "stdout",
     "output_type": "stream",
     "text": [
      "valid check...\n",
      "valid check...\n",
      "valid check...\n",
      "valid check...\n",
      "valid check...\n",
      "valid check...\n",
      "valid check...\n",
      "valid check...\n",
      "valid check...\n",
      "valid check...\n",
      "valid check...\n",
      "valid check...\n",
      "valid check...\n",
      "valid check...\n"
     ]
    },
    {
     "name": "stderr",
     "output_type": "stream",
     "text": [
      " 85%|███████████████████████████████████████████████████████████████▉           | 10225/12000 [00:32<00:05, 314.96it/s]"
     ]
    },
    {
     "name": "stdout",
     "output_type": "stream",
     "text": [
      "valid check...\n",
      "valid check...\n",
      "valid check...\n",
      "valid check...\n",
      "valid check...\n",
      "valid check...\n",
      "valid check...\n",
      "valid check...\n",
      "valid check...\n",
      "valid check...\n",
      "valid check...\n",
      "valid check...\n",
      "valid check...\n"
     ]
    },
    {
     "name": "stderr",
     "output_type": "stream",
     "text": [
      " 86%|████████████████████████████████████████████████████████████████▎          | 10296/12000 [00:32<00:05, 319.69it/s]"
     ]
    },
    {
     "name": "stdout",
     "output_type": "stream",
     "text": [
      "valid check...\n",
      "valid check...\n",
      "valid check...\n",
      "valid check...\n",
      "valid check...\n",
      "valid check...\n",
      "valid check...\n",
      "valid check...\n",
      "valid check...\n",
      "valid check...\n",
      "valid check...\n",
      "valid check...\n"
     ]
    },
    {
     "name": "stderr",
     "output_type": "stream",
     "text": [
      " 86%|████████████████████████████████████████████████████████████████▊          | 10364/12000 [00:33<00:05, 315.01it/s]"
     ]
    },
    {
     "name": "stdout",
     "output_type": "stream",
     "text": [
      "valid check...\n",
      "valid check...\n",
      "valid check...\n",
      "valid check...\n",
      "valid check...\n",
      "valid check...\n",
      "valid check...\n",
      "valid check...\n",
      "valid check...\n",
      "valid check...\n",
      "valid check...\n",
      "valid check...\n",
      "valid check...\n",
      "valid check...\n"
     ]
    },
    {
     "name": "stderr",
     "output_type": "stream",
     "text": [
      " 87%|█████████████████████████████████████████████████████████████████▏         | 10437/12000 [00:33<00:04, 322.21it/s]"
     ]
    },
    {
     "name": "stdout",
     "output_type": "stream",
     "text": [
      "valid check...\n",
      "valid check...\n",
      "valid check...\n",
      "valid check...\n",
      "valid check...\n",
      "valid check...\n",
      "valid check...\n",
      "valid check...\n",
      "valid check...\n",
      "valid check...\n",
      "valid check...\n",
      "valid check...\n",
      "valid check...\n",
      "valid check...\n",
      "valid check...\n",
      "valid check...\n"
     ]
    },
    {
     "name": "stderr",
     "output_type": "stream",
     "text": [
      " 88%|█████████████████████████████████████████████████████████████████▋         | 10508/12000 [00:33<00:04, 320.02it/s]"
     ]
    },
    {
     "name": "stdout",
     "output_type": "stream",
     "text": [
      "valid check...\n",
      "valid check...\n",
      "valid check...\n",
      "valid check...\n",
      "valid check...\n",
      "valid check...\n",
      "valid check...\n",
      "valid check...\n",
      "valid check...\n",
      "valid check...\n",
      "valid check...\n"
     ]
    },
    {
     "name": "stderr",
     "output_type": "stream",
     "text": [
      " 88%|██████████████████████████████████████████████████████████████████         | 10574/12000 [00:33<00:04, 323.08it/s]"
     ]
    },
    {
     "name": "stdout",
     "output_type": "stream",
     "text": [
      "valid check...\n",
      "valid check...\n",
      "valid check...\n",
      "valid check...\n",
      "valid check...\n",
      "valid check...\n",
      "valid check...\n",
      "valid check...\n",
      "valid check...\n",
      "valid check...\n",
      "valid check...\n",
      "valid check...\n",
      "valid check...\n"
     ]
    },
    {
     "name": "stderr",
     "output_type": "stream",
     "text": [
      " 89%|██████████████████████████████████████████████████████████████████▌        | 10643/12000 [00:33<00:04, 318.63it/s]"
     ]
    },
    {
     "name": "stdout",
     "output_type": "stream",
     "text": [
      "valid check...\n",
      "valid check...\n",
      "valid check...\n",
      "valid check...\n",
      "valid check...\n",
      "valid check...\n",
      "valid check...\n",
      "valid check...\n",
      "valid check...\n",
      "valid check...\n",
      "valid check...\n",
      "valid check...\n",
      "valid check...\n",
      "valid check...\n",
      "valid check...\n",
      "valid check...\n"
     ]
    },
    {
     "name": "stderr",
     "output_type": "stream",
     "text": [
      " 89%|██████████████████████████████████████████████████████████████████▉        | 10712/12000 [00:34<00:04, 317.14it/s]"
     ]
    },
    {
     "name": "stdout",
     "output_type": "stream",
     "text": [
      "valid check...\n",
      "valid check...\n",
      "valid check...\n",
      "valid check...\n",
      "valid check...\n",
      "valid check...\n",
      "valid check...\n",
      "valid check...\n",
      "valid check...\n",
      "valid check...\n",
      "valid check...\n",
      "valid check...\n",
      "valid check...\n",
      "valid check...\n",
      "valid check...\n"
     ]
    },
    {
     "name": "stderr",
     "output_type": "stream",
     "text": [
      "\r",
      " 90%|███████████████████████████████████████████████████████████████████▏       | 10748/12000 [00:34<00:03, 320.11it/s]"
     ]
    },
    {
     "name": "stdout",
     "output_type": "stream",
     "text": [
      "valid check...\n",
      "valid check...\n",
      "valid check...\n",
      "valid check...\n",
      "valid check...\n",
      "valid check...\n",
      "valid check...\n",
      "valid check...\n",
      "valid check...\n",
      "valid check...\n",
      "valid check...\n",
      "valid check...\n",
      "valid check...\n",
      "valid check...\n",
      "valid check...\n",
      "valid check...\n",
      "valid check...\n",
      "valid check...\n",
      "valid check...\n"
     ]
    },
    {
     "name": "stderr",
     "output_type": "stream",
     "text": [
      " 90%|███████████████████████████████████████████████████████████████████▌       | 10819/12000 [00:34<00:03, 320.87it/s]"
     ]
    },
    {
     "name": "stdout",
     "output_type": "stream",
     "text": [
      "valid check...\n",
      "valid check...\n",
      "valid check...\n",
      "valid check...\n",
      "valid check...\n",
      "valid check...\n",
      "valid check...\n",
      "valid check...\n",
      "valid check...\n",
      "valid check...\n",
      "valid check...\n",
      "valid check...\n",
      "valid check...\n"
     ]
    },
    {
     "name": "stderr",
     "output_type": "stream",
     "text": [
      " 91%|████████████████████████████████████████████████████████████████████       | 10884/12000 [00:34<00:03, 307.35it/s]"
     ]
    },
    {
     "name": "stdout",
     "output_type": "stream",
     "text": [
      "valid check...\n",
      "valid check...\n",
      "valid check...\n",
      "valid check...\n",
      "valid check...\n",
      "valid check...\n",
      "valid check...\n",
      "valid check...\n",
      "valid check...\n",
      "valid check...\n",
      "valid check...\n",
      "valid check...\n",
      "valid check...\n",
      "valid check...\n",
      "valid check...\n"
     ]
    },
    {
     "name": "stderr",
     "output_type": "stream",
     "text": [
      " 91%|████████████████████████████████████████████████████████████████████▍      | 10952/12000 [00:34<00:03, 307.74it/s]"
     ]
    },
    {
     "name": "stdout",
     "output_type": "stream",
     "text": [
      "valid check...\n",
      "valid check...\n",
      "valid check...\n",
      "valid check...\n",
      "valid check...\n",
      "valid check...\n",
      "valid check...\n",
      "valid check...\n",
      "valid check...\n",
      "valid check...\n",
      "valid check...\n",
      "valid check...\n",
      "valid check...\n"
     ]
    },
    {
     "name": "stderr",
     "output_type": "stream",
     "text": [
      " 92%|████████████████████████████████████████████████████████████████████▉      | 11023/12000 [00:35<00:03, 314.74it/s]"
     ]
    },
    {
     "name": "stdout",
     "output_type": "stream",
     "text": [
      "valid check...\n",
      "valid check...\n",
      "valid check...\n",
      "valid check...\n",
      "valid check...\n",
      "valid check...\n",
      "valid check...\n",
      "valid check...\n",
      "valid check...\n"
     ]
    },
    {
     "name": "stderr",
     "output_type": "stream",
     "text": [
      " 92%|█████████████████████████████████████████████████████████████████████▎     | 11096/12000 [00:35<00:02, 323.72it/s]"
     ]
    },
    {
     "name": "stdout",
     "output_type": "stream",
     "text": [
      "valid check...\n",
      "valid check...\n",
      "valid check...\n",
      "valid check...\n",
      "valid check...\n",
      "valid check...\n",
      "valid check...\n",
      "valid check...\n",
      "valid check...\n",
      "valid check...\n",
      "valid check...\n",
      "valid check...\n",
      "valid check...\n",
      "valid check...\n",
      "valid check...\n",
      "valid check...\n",
      "valid check...\n",
      "valid check...\n"
     ]
    },
    {
     "name": "stderr",
     "output_type": "stream",
     "text": [
      " 93%|█████████████████████████████████████████████████████████████████████▊     | 11166/12000 [00:35<00:02, 321.57it/s]"
     ]
    },
    {
     "name": "stdout",
     "output_type": "stream",
     "text": [
      "valid check...\n",
      "valid check...\n",
      "valid check...\n",
      "valid check...\n",
      "valid check...\n",
      "valid check...\n",
      "valid check...\n",
      "valid check...\n",
      "valid check...\n",
      "valid check...\n",
      "valid check...\n"
     ]
    },
    {
     "name": "stderr",
     "output_type": "stream",
     "text": [
      " 94%|██████████████████████████████████████████████████████████████████████▏    | 11229/12000 [00:35<00:02, 277.39it/s]"
     ]
    },
    {
     "name": "stdout",
     "output_type": "stream",
     "text": [
      "valid check...\n",
      "valid check...\n",
      "valid check...\n",
      "valid check...\n",
      "valid check...\n",
      "valid check...\n",
      "valid check...\n",
      "valid check...\n",
      "valid check...\n",
      "valid check...\n",
      "valid check...\n"
     ]
    },
    {
     "name": "stderr",
     "output_type": "stream",
     "text": [
      " 94%|██████████████████████████████████████████████████████████████████████▌    | 11299/12000 [00:36<00:02, 297.18it/s]"
     ]
    },
    {
     "name": "stdout",
     "output_type": "stream",
     "text": [
      "valid check...\n",
      "valid check...\n",
      "valid check...\n",
      "valid check...\n",
      "valid check...\n",
      "valid check...\n",
      "valid check...\n",
      "valid check...\n",
      "valid check...\n",
      "valid check...\n",
      "valid check...\n",
      "valid check...\n",
      "valid check...\n",
      "valid check...\n"
     ]
    },
    {
     "name": "stderr",
     "output_type": "stream",
     "text": [
      "\r",
      " 94%|██████████████████████████████████████████████████████████████████████▊    | 11334/12000 [00:36<00:02, 303.20it/s]"
     ]
    },
    {
     "name": "stdout",
     "output_type": "stream",
     "text": [
      "valid check...\n",
      "valid check...\n",
      "valid check...\n",
      "valid check...\n",
      "valid check...\n",
      "valid check...\n",
      "valid check...\n",
      "valid check...\n",
      "valid check...\n",
      "valid check...\n",
      "valid check...\n",
      "valid check...\n",
      "valid check...\n",
      "valid check...\n",
      "valid check...\n",
      "valid check...\n",
      "valid check...\n",
      "valid check...\n"
     ]
    },
    {
     "name": "stderr",
     "output_type": "stream",
     "text": [
      " 95%|███████████████████████████████████████████████████████████████████████▎   | 11408/12000 [00:36<00:01, 320.10it/s]"
     ]
    },
    {
     "name": "stdout",
     "output_type": "stream",
     "text": [
      "valid check...\n",
      "valid check...\n",
      "valid check...\n",
      "valid check...\n",
      "valid check...\n",
      "valid check...\n",
      "valid check...\n",
      "valid check...\n",
      "valid check...\n",
      "valid check...\n",
      "valid check...\n",
      "valid check...\n",
      "valid check...\n",
      "valid check...\n"
     ]
    },
    {
     "name": "stderr",
     "output_type": "stream",
     "text": [
      " 96%|███████████████████████████████████████████████████████████████████████▋   | 11475/12000 [00:36<00:01, 315.92it/s]"
     ]
    },
    {
     "name": "stdout",
     "output_type": "stream",
     "text": [
      "valid check...\n",
      "valid check...\n",
      "valid check...\n",
      "valid check...\n",
      "valid check...\n",
      "valid check...\n",
      "valid check...\n",
      "valid check...\n",
      "valid check...\n",
      "valid check...\n",
      "valid check...\n",
      "valid check...\n",
      "valid check...\n",
      "valid check...\n",
      "valid check...\n"
     ]
    },
    {
     "name": "stderr",
     "output_type": "stream",
     "text": [
      " 96%|████████████████████████████████████████████████████████████████████████▏  | 11543/12000 [00:36<00:01, 320.93it/s]"
     ]
    },
    {
     "name": "stdout",
     "output_type": "stream",
     "text": [
      "valid check...\n",
      "valid check...\n",
      "valid check...\n",
      "valid check...\n",
      "valid check...\n",
      "valid check...\n",
      "valid check...\n",
      "valid check...\n",
      "valid check...\n",
      "valid check...\n",
      "valid check...\n",
      "valid check...\n",
      "valid check...\n",
      "valid check...\n",
      "valid check...\n",
      "valid check...\n"
     ]
    },
    {
     "name": "stderr",
     "output_type": "stream",
     "text": [
      " 97%|████████████████████████████████████████████████████████████████████████▌  | 11614/12000 [00:37<00:01, 322.04it/s]"
     ]
    },
    {
     "name": "stdout",
     "output_type": "stream",
     "text": [
      "valid check...\n",
      "valid check...\n",
      "valid check...\n",
      "valid check...\n",
      "valid check...\n",
      "valid check...\n",
      "valid check...\n",
      "valid check...\n",
      "valid check...\n",
      "valid check...\n",
      "valid check...\n",
      "valid check...\n",
      "valid check...\n",
      "valid check...\n",
      "valid check...\n",
      "valid check...\n",
      "valid check...\n",
      "valid check...\n",
      "valid check...\n",
      "valid check...\n",
      "valid check...\n"
     ]
    },
    {
     "name": "stderr",
     "output_type": "stream",
     "text": [
      " 97%|█████████████████████████████████████████████████████████████████████████  | 11683/12000 [00:37<00:00, 318.81it/s]"
     ]
    },
    {
     "name": "stdout",
     "output_type": "stream",
     "text": [
      "valid check...\n",
      "valid check...\n",
      "valid check...\n",
      "valid check...\n",
      "valid check...\n",
      "valid check...\n",
      "valid check...\n",
      "valid check...\n",
      "valid check...\n",
      "valid check...\n",
      "valid check...\n",
      "valid check...\n"
     ]
    },
    {
     "name": "stderr",
     "output_type": "stream",
     "text": [
      " 98%|█████████████████████████████████████████████████████████████████████████▍ | 11752/12000 [00:37<00:00, 315.60it/s]"
     ]
    },
    {
     "name": "stdout",
     "output_type": "stream",
     "text": [
      "valid check...\n",
      "valid check...\n",
      "valid check...\n",
      "valid check...\n",
      "valid check...\n",
      "valid check...\n",
      "valid check...\n",
      "valid check...\n",
      "valid check...\n",
      "valid check...\n",
      "valid check...\n",
      "valid check...\n",
      "valid check...\n",
      "valid check...\n",
      "valid check...\n"
     ]
    },
    {
     "name": "stderr",
     "output_type": "stream",
     "text": [
      "\r",
      " 98%|█████████████████████████████████████████████████████████████████████████▋ | 11787/12000 [00:37<00:00, 316.30it/s]"
     ]
    },
    {
     "name": "stdout",
     "output_type": "stream",
     "text": [
      "valid check...\n",
      "valid check...\n",
      "valid check...\n",
      "valid check...\n",
      "valid check...\n",
      "valid check...\n",
      "valid check...\n",
      "valid check...\n",
      "valid check...\n",
      "valid check...\n",
      "valid check...\n",
      "valid check...\n",
      "valid check...\n",
      "valid check...\n",
      "valid check...\n"
     ]
    },
    {
     "name": "stderr",
     "output_type": "stream",
     "text": [
      " 99%|██████████████████████████████████████████████████████████████████████████ | 11859/12000 [00:37<00:00, 322.65it/s]"
     ]
    },
    {
     "name": "stdout",
     "output_type": "stream",
     "text": [
      "valid check...\n",
      "valid check...\n",
      "valid check...\n",
      "valid check...\n",
      "valid check...\n",
      "valid check...\n",
      "valid check...\n",
      "valid check...\n",
      "valid check...\n",
      "valid check...\n",
      "valid check...\n",
      "valid check...\n"
     ]
    },
    {
     "name": "stderr",
     "output_type": "stream",
     "text": [
      " 99%|██████████████████████████████████████████████████████████████████████████▌| 11927/12000 [00:38<00:00, 316.06it/s]"
     ]
    },
    {
     "name": "stdout",
     "output_type": "stream",
     "text": [
      "valid check...\n",
      "valid check...\n",
      "valid check...\n",
      "valid check...\n",
      "valid check...\n",
      "valid check...\n",
      "valid check...\n",
      "valid check...\n",
      "valid check...\n",
      "valid check...\n",
      "valid check...\n",
      "valid check...\n",
      "valid check...\n",
      "valid check...\n",
      "valid check...\n",
      "valid check...\n",
      "valid check...\n"
     ]
    },
    {
     "name": "stderr",
     "output_type": "stream",
     "text": [
      "100%|███████████████████████████████████████████████████████████████████████████| 12000/12000 [00:38<00:00, 313.44it/s]"
     ]
    },
    {
     "name": "stdout",
     "output_type": "stream",
     "text": [
      "valid check...\n",
      "valid check...\n",
      "valid check...\n",
      "valid check...\n",
      "valid check...\n",
      "valid check...\n",
      "valid check...\n",
      "valid check...\n",
      "valid check...\n",
      "valid check...\n",
      "valid check...\n",
      "valid check...\n",
      "valid check...\n",
      "valid check...\n"
     ]
    },
    {
     "name": "stderr",
     "output_type": "stream",
     "text": [
      "\n"
     ]
    }
   ],
   "source": [
    "EHR_OW.generate_record(12000)"
   ]
  },
  {
   "cell_type": "code",
   "execution_count": 36,
   "id": "5fed1ad7",
   "metadata": {
    "scrolled": true
   },
   "outputs": [],
   "source": [
    "def count_occurrence(patient_record):\n",
    "    \n",
    "    occurrence_count_list = []\n",
    "    \n",
    "    for pid, item in patient_record.items():\n",
    "        \n",
    "        occurrence_count_list.append(item[\"occurrence_count\"])\n",
    "        \n",
    "    return occurrence_count_list"
   ]
  },
  {
   "cell_type": "code",
   "execution_count": 37,
   "id": "55b36e2b",
   "metadata": {
    "scrolled": true
   },
   "outputs": [],
   "source": [
    "occurrence_count_list = count_occurrence(EHR_OW.patient_record)"
   ]
  },
  {
   "cell_type": "code",
   "execution_count": 38,
   "id": "68e2f9ff",
   "metadata": {
    "scrolled": true
   },
   "outputs": [
    {
     "data": {
      "text/plain": [
       "(array([0, 1, 2, 3]), array([5704, 2773, 1965, 1558], dtype=int64))"
      ]
     },
     "execution_count": 38,
     "metadata": {},
     "output_type": "execute_result"
    }
   ],
   "source": [
    "np.unique(occurrence_count_list, return_counts=True)"
   ]
  },
  {
   "cell_type": "code",
   "execution_count": 24,
   "id": "2d32035d",
   "metadata": {},
   "outputs": [
    {
     "data": {
      "text/plain": [
       "{'code_prob': array([[0.02363661, 0.02304572, 0.03577319, 0.04515115, 0.04128877,\n",
       "         0.02895677, 0.00761525, 0.01887915, 0.06677703, 0.02737865,\n",
       "         0.01678708, 0.00778126, 0.0928854 , 0.02855219, 0.02563503,\n",
       "         0.01632561, 0.01548641, 0.02508433, 0.04487652, 0.04961182,\n",
       "         0.02102703, 0.0317339 , 0.02784557, 0.0429683 , 0.02177736,\n",
       "         0.03426608, 0.03663877, 0.03677849, 0.01161702, 0.0222712 ,\n",
       "         0.03432073, 0.03585772, 0.01254932, 0.02236169, 0.00464489,\n",
       "         0.01173466, 0.03875027, 0.01963757, 0.03199906, 0.01306709,\n",
       "         0.00971989, 0.03839971, 0.05562074, 0.03956484, 0.02565222,\n",
       "         0.02038173, 0.01523076, 0.03956784, 0.0434629 , 0.03037946,\n",
       "         0.01172904, 0.05026978, 0.01012981, 0.02945553, 0.01915009,\n",
       "         0.01838508, 0.023052  , 0.03450501, 0.04411125, 0.02766419,\n",
       "         0.02580366, 0.02023082, 0.03940046, 0.01700083, 0.02068694,\n",
       "         0.03189747, 0.02051575, 0.0193063 , 0.03514332, 0.03168209,\n",
       "         0.03437365, 0.02951227, 0.01559311, 0.01377789, 0.04240559,\n",
       "         0.02900849, 0.02517176, 0.02855545, 0.03191546, 0.02878234,\n",
       "         0.03412292, 0.04872209, 0.03044906, 0.03128993, 0.01041528,\n",
       "         0.00986192, 0.02523422, 0.04060833, 0.05632769, 0.04384823,\n",
       "         0.0396718 , 0.03386025, 0.02752082, 0.03086188, 0.05243757,\n",
       "         0.20956509, 0.02973494, 0.05087657, 0.03390569, 0.02442282],\n",
       "        [0.01600564, 0.01713573, 0.0411407 , 0.0267412 , 0.0201462 ,\n",
       "         0.01684132, 0.02174873, 0.03783403, 0.03234273, 0.03150039,\n",
       "         0.01398371, 0.02310107, 0.02258323, 0.03971398, 0.01130247,\n",
       "         0.04759423, 0.01764765, 0.02088691, 0.03760111, 0.02752417,\n",
       "         0.03073004, 0.02712589, 0.02210843, 0.02917921, 0.01315965,\n",
       "         0.03340318, 0.02364053, 0.04978763, 0.05475804, 0.02628787,\n",
       "         0.04133601, 0.02581872, 0.01759286, 0.05069763, 0.0136527 ,\n",
       "         0.0202358 , 0.03795545, 0.01880793, 0.05277731, 0.01913104,\n",
       "         0.02539412, 0.0386845 , 0.04766919, 0.04083597, 0.026912  ,\n",
       "         0.04071695, 0.02474727, 0.03471002, 0.07202112, 0.02448118,\n",
       "         0.01260261, 0.05592757, 0.01033116, 0.00772499, 0.0168448 ,\n",
       "         0.02083248, 0.04312132, 0.02892387, 0.03567356, 0.0232729 ,\n",
       "         0.02613719, 0.01913311, 0.01319282, 0.03018487, 0.03833025,\n",
       "         0.02928893, 0.03199723, 0.04708219, 0.0168442 , 0.02438835,\n",
       "         0.01087515, 0.03492257, 0.06141821, 0.01569689, 0.02832379,\n",
       "         0.02775697, 0.00466348, 0.05424507, 0.04200509, 0.03740746,\n",
       "         0.03727167, 0.02969514, 0.04445678, 0.03295162, 0.00712466,\n",
       "         0.01193887, 0.02569118, 0.05904478, 0.03209988, 0.01258018,\n",
       "         0.01373611, 0.0286851 , 0.04475604, 0.05270582, 0.04115489,\n",
       "         0.18246511, 0.03050506, 0.0080351 , 0.01539884, 0.05045539],\n",
       "        [0.03495658, 0.01639087, 0.02649895, 0.05727113, 0.03871156,\n",
       "         0.01211188, 0.02630923, 0.03100313, 0.02512431, 0.0251148 ,\n",
       "         0.02067151, 0.03324362, 0.03504578, 0.02028401, 0.02810861,\n",
       "         0.05325148, 0.05348358, 0.03667099, 0.02786329, 0.03224865,\n",
       "         0.03343007, 0.01006888, 0.02386678, 0.03406615, 0.02201368,\n",
       "         0.02499747, 0.01449531, 0.06120031, 0.01118014, 0.03289459,\n",
       "         0.02403574, 0.0220117 , 0.02330778, 0.02177671, 0.03332706,\n",
       "         0.01758133, 0.04029748, 0.02909453, 0.05528154, 0.04889252,\n",
       "         0.03765112, 0.04832857, 0.03153504, 0.07073829, 0.01931323,\n",
       "         0.02077011, 0.01110893, 0.03533656, 0.05088325, 0.03760456,\n",
       "         0.01873635, 0.0588455 , 0.01922664, 0.02594687, 0.06157817,\n",
       "         0.03038887, 0.02207889, 0.04732754, 0.03526889, 0.00940547,\n",
       "         0.02291078, 0.0306645 , 0.05303908, 0.02660694, 0.03671755,\n",
       "         0.01786794, 0.02327368, 0.03837511, 0.03920907, 0.02890822,\n",
       "         0.02450815, 0.0328629 , 0.02582133, 0.0346972 , 0.03172906,\n",
       "         0.02052927, 0.0217041 , 0.05271614, 0.02382442, 0.02613287,\n",
       "         0.03639549, 0.04098433, 0.04170603, 0.03257634, 0.01143754,\n",
       "         0.03688625, 0.02594925, 0.02986916, 0.03132339, 0.02330167,\n",
       "         0.04998472, 0.00766982, 0.04450076, 0.03403999, 0.05791535,\n",
       "         0.10715396, 0.02105635, 0.02094603, 0.02858546, 0.01847833],\n",
       "        [0.0354536 , 0.02188306, 0.01754669, 0.04270139, 0.04021619,\n",
       "         0.02364209, 0.01237588, 0.02097409, 0.02316121, 0.01383483,\n",
       "         0.01025053, 0.00950767, 0.05952572, 0.01788726, 0.02983711,\n",
       "         0.03266796, 0.04844316, 0.03013196, 0.01658306, 0.04238484,\n",
       "         0.01329255, 0.04089295, 0.02793499, 0.03387567, 0.04439743,\n",
       "         0.032607  , 0.01592771, 0.0289789 , 0.0207487 , 0.0081088 ,\n",
       "         0.03165585, 0.01946935, 0.0110763 , 0.01922016, 0.05620538,\n",
       "         0.01053675, 0.02604568, 0.02865363, 0.02448188, 0.03248243,\n",
       "         0.01793869, 0.02963565, 0.02940381, 0.03543697, 0.01644309,\n",
       "         0.02042197, 0.03577921, 0.0428396 , 0.03754206, 0.02350008,\n",
       "         0.02798563, 0.03958464, 0.02233948, 0.02273848, 0.05250257,\n",
       "         0.02342084, 0.02424418, 0.01084662, 0.02984111, 0.02363895,\n",
       "         0.0120226 , 0.02638809, 0.01875291, 0.05009191, 0.01623492,\n",
       "         0.02891452, 0.02830792, 0.04125375, 0.05748784, 0.04746027,\n",
       "         0.01161458, 0.0313304 , 0.01927463, 0.00971631, 0.04149031,\n",
       "         0.01631926, 0.01622386, 0.03378653, 0.03824626, 0.0235915 ,\n",
       "         0.04828317, 0.02874938, 0.06050249, 0.01736047, 0.01448748,\n",
       "         0.02778981, 0.02198145, 0.02985303, 0.02978323, 0.03206248,\n",
       "         0.03220791, 0.03776646, 0.04680542, 0.02124926, 0.06210966,\n",
       "         0.14084143, 0.02094809, 0.03471344, 0.01695889, 0.01681222],\n",
       "        [0.01774821, 0.02464145, 0.03474767, 0.0365372 , 0.03041696,\n",
       "         0.03794339, 0.01253232, 0.02995769, 0.02148421, 0.02613964,\n",
       "         0.01727147, 0.00958556, 0.04390679, 0.02167112, 0.01756326,\n",
       "         0.01261079, 0.05915118, 0.02124279, 0.02738998, 0.03873881,\n",
       "         0.01930035, 0.0280272 , 0.02057005, 0.05317069, 0.02334676,\n",
       "         0.03050524, 0.02143524, 0.03173257, 0.01393675, 0.01261338,\n",
       "         0.02598421, 0.02319125, 0.00800809, 0.00931151, 0.03173415,\n",
       "         0.02035618, 0.05104047, 0.01706143, 0.02393453, 0.01882269,\n",
       "         0.02721427, 0.0334285 , 0.05595946, 0.05169106, 0.02775554,\n",
       "         0.03482698, 0.01398135, 0.03198331, 0.03758493, 0.01703098,\n",
       "         0.04542837, 0.03264908, 0.00962131, 0.0281009 , 0.02828233,\n",
       "         0.02520397, 0.01493753, 0.02590675, 0.02643298, 0.0176821 ,\n",
       "         0.01653091, 0.04711136, 0.01620602, 0.03311893, 0.04105591,\n",
       "         0.0299842 , 0.02882865, 0.01724159, 0.0252399 , 0.02154172,\n",
       "         0.02730318, 0.08397018, 0.04574826, 0.01622903, 0.02793371,\n",
       "         0.0294015 , 0.02320021, 0.04865564, 0.04606555, 0.02586482,\n",
       "         0.035824  , 0.04216659, 0.04726993, 0.05318917, 0.00697788,\n",
       "         0.00893898, 0.05550621, 0.05984436, 0.04492513, 0.02997261,\n",
       "         0.04148557, 0.02051845, 0.03989988, 0.03511127, 0.02568592,\n",
       "         0.09144062, 0.01426228, 0.0151144 , 0.03335501, 0.04122254],\n",
       "        [0.01520678, 0.02303621, 0.02776016, 0.04743554, 0.01703127,\n",
       "         0.03243279, 0.00983194, 0.03142347, 0.05075658, 0.03506976,\n",
       "         0.01560984, 0.01576296, 0.03291919, 0.04202104, 0.0223903 ,\n",
       "         0.02868282, 0.12483189, 0.02199183, 0.0257006 , 0.03154753,\n",
       "         0.03751413, 0.03934778, 0.02020269, 0.03525734, 0.02573507,\n",
       "         0.03524924, 0.01567532, 0.04223341, 0.00629733, 0.00520423,\n",
       "         0.02254144, 0.01632431, 0.02200885, 0.03423146, 0.02269263,\n",
       "         0.02443407, 0.04487835, 0.022788  , 0.04714129, 0.01579275,\n",
       "         0.01686439, 0.03338887, 0.05915512, 0.03036939, 0.01506772,\n",
       "         0.01490096, 0.02738897, 0.03839663, 0.03067594, 0.03158503,\n",
       "         0.02944675, 0.07826076, 0.02089711, 0.01810718, 0.06101762,\n",
       "         0.01086816, 0.03697902, 0.02897999, 0.03839413, 0.01375181,\n",
       "         0.02068389, 0.02284687, 0.02314978, 0.06291781, 0.02608029,\n",
       "         0.03596701, 0.0210767 , 0.056512  , 0.05775574, 0.03670762,\n",
       "         0.01586163, 0.143794  , 0.04578348, 0.01842129, 0.04750635,\n",
       "         0.02557091, 0.0393386 , 0.04531385, 0.02588552, 0.02534269,\n",
       "         0.02178246, 0.07816118, 0.03785808, 0.04001927, 0.01910111,\n",
       "         0.02677207, 0.0334418 , 0.02266378, 0.03275752, 0.01643566,\n",
       "         0.04182272, 0.02610351, 0.04996122, 0.03632257, 0.03310772,\n",
       "         0.09337139, 0.02463213, 0.03611407, 0.01765531, 0.02255054],\n",
       "        [0.03443906, 0.03734328, 0.03455443, 0.0338708 , 0.04323323,\n",
       "         0.02550889, 0.03324326, 0.02994822, 0.0286512 , 0.02304953,\n",
       "         0.01905156, 0.0134485 , 0.01630807, 0.02961308, 0.01698921,\n",
       "         0.03119495, 0.12737888, 0.01842667, 0.01832789, 0.04180033,\n",
       "         0.01769324, 0.05332734, 0.02274407, 0.04450155, 0.0300907 ,\n",
       "         0.03326298, 0.01433221, 0.04552939, 0.0381107 , 0.02582283,\n",
       "         0.02725253, 0.01113615, 0.03307044, 0.02718243, 0.0363739 ,\n",
       "         0.0255657 , 0.03403432, 0.02987614, 0.02040486, 0.03067896,\n",
       "         0.05990361, 0.06736162, 0.0275234 , 0.06403729, 0.00922843,\n",
       "         0.01290546, 0.02290709, 0.05520406, 0.04124453, 0.03267712,\n",
       "         0.02143667, 0.04206507, 0.01914898, 0.02030832, 0.04936259,\n",
       "         0.01740562, 0.02883102, 0.03308569, 0.034572  , 0.01607063,\n",
       "         0.01903544, 0.01108797, 0.02037231, 0.02384084, 0.01844351,\n",
       "         0.01321083, 0.04171774, 0.04130872, 0.04354511, 0.05682749,\n",
       "         0.01690268, 0.13094777, 0.02590262, 0.01928824, 0.03962258,\n",
       "         0.01667683, 0.02845283, 0.04705404, 0.06753787, 0.02119301,\n",
       "         0.04183781, 0.04136045, 0.04050817, 0.04359194, 0.01353616,\n",
       "         0.01730137, 0.0426981 , 0.0265607 , 0.02841365, 0.00930828,\n",
       "         0.03366238, 0.04206884, 0.05974579, 0.03160871, 0.03956555,\n",
       "         0.07602306, 0.01145832, 0.0440038 , 0.01386472, 0.03059712],\n",
       "        [0.03063886, 0.01861781, 0.04244991, 0.03597379, 0.03096241,\n",
       "         0.02439245, 0.01673869, 0.02538197, 0.01564234, 0.03777482,\n",
       "         0.01345922, 0.02734502, 0.03234055, 0.03747593, 0.02431882,\n",
       "         0.04909412, 0.15482018, 0.01837251, 0.03035987, 0.04905228,\n",
       "         0.04015722, 0.03191592, 0.03357832, 0.04408268, 0.01887313,\n",
       "         0.04367624, 0.03615932, 0.03561542, 0.01011319, 0.01631007,\n",
       "         0.02424235, 0.02244349, 0.03249725, 0.030585  , 0.01049128,\n",
       "         0.01974941, 0.03639534, 0.01457002, 0.03838722, 0.02772196,\n",
       "         0.03544471, 0.02712616, 0.03208122, 0.04031208, 0.01664511,\n",
       "         0.02909659, 0.02936113, 0.02421232, 0.04256334, 0.04271152,\n",
       "         0.01131779, 0.02978769, 0.0099927 , 0.0301265 , 0.05492968,\n",
       "         0.03732958, 0.02823947, 0.02932652, 0.03065819, 0.0123705 ,\n",
       "         0.01203423, 0.02337484, 0.02490877, 0.02091359, 0.04695015,\n",
       "         0.01927665, 0.0139717 , 0.01561201, 0.02234333, 0.03222059,\n",
       "         0.01745339, 0.18900871, 0.03959061, 0.01245507, 0.0357404 ,\n",
       "         0.04607395, 0.02971158, 0.02945903, 0.02939806, 0.03612933,\n",
       "         0.05454303, 0.04078148, 0.03753345, 0.0364618 , 0.01642968,\n",
       "         0.02771972, 0.0365512 , 0.03025624, 0.04549899, 0.01455435,\n",
       "         0.02197978, 0.02845251, 0.04834567, 0.02034046, 0.04335649,\n",
       "         0.03520231, 0.01008019, 0.01804647, 0.00481793, 0.02404719],\n",
       "        [0.01762158, 0.01794504, 0.0442325 , 0.04793418, 0.03430745,\n",
       "         0.03182261, 0.01827221, 0.030496  , 0.02097713, 0.042276  ,\n",
       "         0.02265965, 0.03393896, 0.02683678, 0.03952646, 0.01798971,\n",
       "         0.02497722, 0.15568469, 0.02711359, 0.03369175, 0.04318368,\n",
       "         0.02578825, 0.03045841, 0.03285679, 0.03786459, 0.01966004,\n",
       "         0.01695758, 0.0278396 , 0.02578648, 0.02440974, 0.00737328,\n",
       "         0.03203133, 0.01684378, 0.02391072, 0.03857729, 0.04816795,\n",
       "         0.00903984, 0.05229905, 0.03151208, 0.0364425 , 0.04113206,\n",
       "         0.02741701, 0.02981157, 0.06357191, 0.03237659, 0.0357177 ,\n",
       "         0.03694351, 0.03864086, 0.01866014, 0.05318952, 0.05621229,\n",
       "         0.01586868, 0.03166434, 0.03615267, 0.0390525 , 0.02084268,\n",
       "         0.02193397, 0.04149306, 0.05361054, 0.05886276, 0.0121426 ,\n",
       "         0.0251326 , 0.02002989, 0.02049984, 0.03800441, 0.05335212,\n",
       "         0.02186881, 0.01960317, 0.03244265, 0.03762906, 0.02267118,\n",
       "         0.02835672, 0.20393161, 0.03679151, 0.01774528, 0.03940943,\n",
       "         0.02973213, 0.02558288, 0.03115417, 0.02063044, 0.04069761,\n",
       "         0.02950103, 0.03711097, 0.01374942, 0.02311861, 0.01889814,\n",
       "         0.01416228, 0.04605623, 0.04105395, 0.03955993, 0.02695879,\n",
       "         0.05060118, 0.03502555, 0.07439295, 0.07198382, 0.04061894,\n",
       "         0.03244176, 0.03073906, 0.04628694, 0.04637152, 0.02107597]]),\n",
       " 'code_binary': array([[0, 0, 0, 0, 0, 0, 0, 0, 0, 0, 0, 0, 0, 0, 0, 0, 0, 0, 0, 0, 0, 0,\n",
       "         0, 0, 0, 0, 0, 0, 0, 0, 0, 0, 0, 0, 0, 0, 0, 0, 0, 0, 0, 0, 0, 0,\n",
       "         0, 0, 0, 0, 0, 0, 0, 0, 0, 0, 0, 0, 0, 0, 0, 0, 0, 0, 0, 0, 0, 0,\n",
       "         0, 0, 0, 0, 0, 0, 0, 0, 0, 0, 0, 0, 0, 0, 0, 0, 0, 0, 0, 0, 1, 0,\n",
       "         0, 0, 1, 0, 0, 1, 0, 0, 0, 0, 0, 0],\n",
       "        [0, 0, 1, 0, 0, 0, 0, 0, 0, 0, 0, 0, 0, 0, 0, 0, 0, 0, 0, 0, 0, 0,\n",
       "         0, 0, 0, 0, 0, 0, 0, 0, 0, 0, 0, 0, 0, 0, 0, 0, 0, 0, 0, 0, 0, 0,\n",
       "         0, 0, 0, 0, 0, 0, 0, 1, 0, 0, 0, 0, 1, 0, 0, 0, 0, 0, 0, 0, 0, 0,\n",
       "         0, 0, 0, 0, 0, 1, 0, 0, 0, 0, 0, 1, 0, 0, 0, 0, 0, 0, 0, 0, 0, 0,\n",
       "         0, 0, 0, 0, 0, 0, 1, 0, 0, 0, 0, 0],\n",
       "        [0, 0, 0, 0, 0, 0, 0, 0, 0, 0, 0, 0, 0, 0, 0, 0, 0, 0, 0, 0, 0, 0,\n",
       "         0, 0, 0, 0, 0, 0, 0, 0, 0, 0, 0, 0, 0, 0, 0, 0, 0, 0, 0, 0, 0, 0,\n",
       "         0, 0, 0, 0, 0, 0, 0, 0, 0, 0, 0, 0, 0, 0, 0, 0, 0, 0, 0, 1, 0, 0,\n",
       "         0, 0, 0, 0, 0, 0, 0, 0, 0, 0, 0, 0, 0, 0, 0, 0, 0, 0, 0, 0, 0, 0,\n",
       "         0, 0, 0, 0, 0, 0, 0, 0, 0, 0, 0, 0],\n",
       "        [0, 0, 0, 0, 0, 1, 0, 0, 0, 0, 0, 0, 0, 0, 0, 0, 0, 0, 0, 0, 1, 0,\n",
       "         0, 0, 0, 0, 0, 0, 0, 0, 0, 0, 0, 0, 1, 0, 0, 0, 0, 0, 0, 0, 0, 0,\n",
       "         0, 1, 0, 0, 0, 0, 0, 0, 0, 0, 0, 0, 0, 0, 0, 0, 0, 0, 0, 0, 0, 0,\n",
       "         0, 0, 1, 0, 0, 0, 0, 0, 0, 0, 0, 0, 0, 0, 0, 0, 0, 0, 0, 0, 0, 0,\n",
       "         0, 0, 0, 0, 1, 0, 0, 0, 0, 0, 0, 0],\n",
       "        [0, 0, 0, 0, 0, 0, 0, 0, 0, 0, 0, 0, 0, 0, 0, 0, 0, 0, 0, 0, 0, 0,\n",
       "         1, 0, 0, 0, 0, 0, 1, 0, 0, 0, 0, 0, 0, 0, 0, 0, 0, 0, 0, 0, 0, 0,\n",
       "         0, 0, 0, 0, 0, 0, 0, 0, 0, 0, 0, 0, 0, 0, 0, 0, 0, 0, 0, 1, 0, 0,\n",
       "         0, 0, 0, 0, 0, 0, 0, 0, 0, 0, 0, 0, 0, 0, 0, 0, 0, 0, 0, 0, 0, 1,\n",
       "         0, 0, 0, 0, 0, 0, 0, 1, 0, 0, 0, 0],\n",
       "        [0, 0, 0, 0, 0, 0, 0, 0, 0, 0, 0, 0, 0, 0, 0, 0, 0, 0, 0, 0, 0, 0,\n",
       "         0, 0, 0, 0, 0, 0, 0, 0, 0, 0, 0, 0, 0, 0, 0, 0, 0, 0, 0, 0, 0, 0,\n",
       "         0, 0, 0, 0, 0, 0, 0, 0, 0, 0, 0, 0, 0, 0, 0, 0, 0, 1, 1, 0, 0, 0,\n",
       "         0, 0, 0, 0, 0, 0, 1, 0, 0, 0, 0, 0, 0, 0, 0, 0, 0, 0, 0, 0, 0, 0,\n",
       "         0, 0, 0, 0, 0, 0, 0, 0, 0, 0, 0, 0],\n",
       "        [0, 0, 0, 0, 0, 0, 0, 0, 0, 1, 0, 0, 0, 0, 0, 0, 0, 0, 0, 0, 0, 0,\n",
       "         0, 0, 0, 0, 0, 0, 0, 0, 0, 0, 0, 0, 0, 0, 0, 0, 0, 0, 0, 0, 0, 0,\n",
       "         0, 0, 0, 0, 0, 0, 0, 0, 0, 0, 0, 0, 0, 0, 0, 0, 0, 0, 0, 0, 0, 1,\n",
       "         0, 0, 0, 0, 0, 0, 0, 0, 0, 0, 0, 0, 0, 0, 0, 0, 1, 0, 0, 0, 0, 0,\n",
       "         0, 0, 0, 0, 0, 0, 0, 0, 0, 0, 0, 0],\n",
       "        [0, 0, 0, 0, 0, 0, 0, 0, 0, 0, 0, 0, 0, 0, 0, 0, 0, 0, 0, 0, 0, 0,\n",
       "         0, 0, 0, 0, 0, 0, 0, 0, 0, 0, 0, 0, 0, 0, 0, 0, 0, 0, 0, 0, 0, 0,\n",
       "         0, 0, 0, 0, 0, 0, 0, 0, 0, 0, 0, 0, 0, 0, 0, 0, 0, 0, 1, 0, 0, 0,\n",
       "         0, 0, 0, 0, 0, 0, 0, 0, 0, 0, 0, 0, 0, 0, 0, 0, 0, 0, 0, 0, 0, 1,\n",
       "         0, 0, 0, 0, 0, 0, 0, 0, 0, 0, 0, 0],\n",
       "        [0, 0, 0, 0, 0, 0, 0, 0, 0, 0, 0, 0, 0, 1, 0, 0, 0, 0, 0, 0, 0, 0,\n",
       "         0, 0, 0, 0, 0, 0, 0, 0, 0, 0, 0, 0, 0, 0, 1, 0, 0, 0, 0, 0, 0, 1,\n",
       "         0, 0, 0, 0, 0, 0, 0, 0, 0, 0, 0, 0, 0, 0, 0, 0, 0, 0, 0, 0, 0, 0,\n",
       "         0, 0, 1, 0, 0, 0, 0, 0, 0, 0, 0, 0, 0, 0, 0, 0, 0, 0, 0, 0, 0, 0,\n",
       "         0, 0, 1, 0, 0, 0, 0, 0, 0, 0, 0, 0]]),\n",
       " 'intrinsic_param': array([[ 7.36803431,  6.47475728,  7.82230619,  9.17234339,  8.67888163,\n",
       "          7.95783021,  5.9226843 ,  8.37661049,  7.15238461,  7.46193815,\n",
       "          5.1501186 ,  5.45880426,  8.71782257,  8.24513872,  6.96419263,\n",
       "          9.10972218,  5.99164696,  7.39965402,  9.7263153 ,  8.36233258,\n",
       "          9.14826895,  9.1885948 ,  7.22262685,  9.16716835,  6.30434515,\n",
       "          7.8269377 ,  6.57955785,  9.43331532,  5.56546849,  5.5177281 ,\n",
       "          8.20120024,  6.94621167,  5.28337607,  6.46995152,  6.29159552,\n",
       "          5.21600551,  7.94197193,  6.2676904 ,  8.6417636 ,  6.71945226,\n",
       "          6.51974361,  8.07944623,  9.65361282,  9.81432137,  6.21234538,\n",
       "          5.80998775,  7.36263056,  7.99323466,  9.3745825 ,  7.52188862,\n",
       "          5.54748248,  9.13488081,  5.05255004,  7.91402845,  8.23618734,\n",
       "          7.12925262,  7.59804848,  6.67976517,  8.3552193 ,  5.17559381,\n",
       "          5.49104163,  6.36212918,  5.35380828,  8.16348714,  7.15869165,\n",
       "          6.16115553,  7.86114021,  7.26700915,  8.04154581,  6.87954228,\n",
       "          5.56595916,  7.50151552,  6.38644614,  5.05630794,  8.22162389,\n",
       "          6.54917501,  8.0704302 ,  9.91480056,  9.19705235,  7.00847155,\n",
       "          9.6651222 ,  8.98989071,  9.20245874,  8.53203341,  5.17848158,\n",
       "          5.1201912 ,  8.824899  ,  9.23028015,  9.23103109,  5.14700083,\n",
       "          7.52744065,  5.72773309,  9.32526795,  8.76866085,  9.6546079 ,\n",
       "         69.97392533,  5.69302737,  7.21119952,  7.55707552,  7.0117699 ],\n",
       "        [ 7.36803431,  6.47475728,  7.82230619,  9.17234339,  8.67888163,\n",
       "          7.95783021,  5.9226843 ,  8.37661049,  7.15238461,  7.46193815,\n",
       "          5.1501186 ,  5.45880426,  8.71782257,  8.24513872,  6.96419263,\n",
       "          9.10972218,  7.86715536,  7.39965402,  9.7263153 ,  8.36233258,\n",
       "          9.14826895,  9.1885948 ,  7.22262685,  9.16716835,  6.30434515,\n",
       "          7.8269377 ,  6.57955785,  9.43331532,  5.56546849,  5.5177281 ,\n",
       "          8.20120024,  6.94621167,  5.28337607,  6.46995152,  6.29159552,\n",
       "          5.21600551,  7.94197193,  6.2676904 ,  8.6417636 ,  6.71945226,\n",
       "          6.51974361,  8.07944623,  9.65361282,  9.81432137,  6.21234538,\n",
       "          5.80998775,  7.36263056,  7.99323466,  9.3745825 ,  7.52188862,\n",
       "          5.54748248,  9.13488081,  5.05255004,  7.91402845,  8.23618734,\n",
       "          7.12925262,  7.59804848,  6.67976517,  8.3552193 ,  5.17559381,\n",
       "          5.49104163,  6.36212918,  5.35380828,  8.16348714,  7.15869165,\n",
       "          6.16115553,  7.86114021,  7.26700915,  8.04154581,  6.87954228,\n",
       "          5.56595916,  9.97034683,  6.38644614,  5.05630794,  8.22162389,\n",
       "          6.54917501,  8.0704302 ,  9.91480056,  9.19705235,  7.00847155,\n",
       "          9.6651222 ,  8.98989071,  9.20245874,  8.53203341,  5.17848158,\n",
       "          5.1201912 ,  8.824899  ,  9.23028015,  9.23103109,  5.14700083,\n",
       "          7.52744065,  5.72773309,  9.32526795,  8.76866085,  9.6546079 ,\n",
       "         53.80044274,  5.69302737,  7.21119952,  7.55707552,  7.0117699 ],\n",
       "        [ 7.36803431,  6.47475728,  7.82230619,  9.17234339,  8.67888163,\n",
       "          7.95783021,  5.9226843 ,  8.37661049,  7.15238461,  7.46193815,\n",
       "          5.1501186 ,  5.45880426,  8.71782257,  8.24513872,  6.96419263,\n",
       "          9.10972218, 10.32973638,  7.39965402,  9.7263153 ,  8.36233258,\n",
       "          9.14826895,  9.1885948 ,  7.22262685,  9.16716835,  6.30434515,\n",
       "          7.8269377 ,  6.57955785,  9.43331532,  5.56546849,  5.5177281 ,\n",
       "          8.20120024,  6.94621167,  5.28337607,  6.46995152,  6.29159552,\n",
       "          5.21600551,  7.94197193,  6.2676904 ,  8.6417636 ,  6.71945226,\n",
       "          6.51974361,  8.07944623,  9.65361282,  9.81432137,  6.21234538,\n",
       "          5.80998775,  7.36263056,  7.99323466,  9.3745825 ,  7.52188862,\n",
       "          5.54748248,  9.13488081,  5.05255004,  7.91402845,  8.23618734,\n",
       "          7.12925262,  7.59804848,  6.67976517,  8.3552193 ,  5.17559381,\n",
       "          5.49104163,  6.36212918,  5.35380828,  8.16348714,  7.15869165,\n",
       "          6.16115553,  7.86114021,  7.26700915,  8.04154581,  6.87954228,\n",
       "          5.56595916, 13.2516977 ,  6.38644614,  5.05630794,  8.22162389,\n",
       "          6.54917501,  8.0704302 ,  9.91480056,  9.19705235,  7.00847155,\n",
       "          9.6651222 ,  8.98989071,  9.20245874,  8.53203341,  5.17848158,\n",
       "          5.1201912 ,  8.824899  ,  9.23028015,  9.23103109,  5.14700083,\n",
       "          7.52744065,  5.72773309,  9.32526795,  8.76866085,  9.6546079 ,\n",
       "         41.36523177,  5.69302737,  7.21119952,  7.55707552,  7.0117699 ],\n",
       "        [ 7.36803431,  6.47475728,  7.82230619,  9.17234339,  8.67888163,\n",
       "          7.95783021,  5.9226843 ,  8.37661049,  7.15238461,  7.46193815,\n",
       "          5.1501186 ,  5.45880426,  8.71782257,  8.24513872,  6.96419263,\n",
       "          9.10972218, 13.56315577,  7.39965402,  9.7263153 ,  8.36233258,\n",
       "          9.14826895,  9.1885948 ,  7.22262685,  9.16716835,  6.30434515,\n",
       "          7.8269377 ,  6.57955785,  9.43331532,  5.56546849,  5.5177281 ,\n",
       "          8.20120024,  6.94621167,  5.28337607,  6.46995152,  6.29159552,\n",
       "          5.21600551,  7.94197193,  6.2676904 ,  8.6417636 ,  6.71945226,\n",
       "          6.51974361,  8.07944623,  9.65361282,  9.81432137,  6.21234538,\n",
       "          5.80998775,  7.36263056,  7.99323466,  9.3745825 ,  7.52188862,\n",
       "          5.54748248,  9.13488081,  5.05255004,  7.91402845,  8.23618734,\n",
       "          7.12925262,  7.59804848,  6.67976517,  8.3552193 ,  5.17559381,\n",
       "          5.49104163,  6.36212918,  5.35380828,  8.16348714,  7.15869165,\n",
       "          6.16115553,  7.86114021,  7.26700915,  8.04154581,  6.87954228,\n",
       "          5.56595916, 17.61297725,  6.38644614,  5.05630794,  8.22162389,\n",
       "          6.54917501,  8.0704302 ,  9.91480056,  9.19705235,  7.00847155,\n",
       "          9.6651222 ,  8.98989071,  9.20245874,  8.53203341,  5.17848158,\n",
       "          5.1201912 ,  8.824899  ,  9.23028015,  9.23103109,  5.14700083,\n",
       "          7.52744065,  5.72773309,  9.32526795,  8.76866085,  9.6546079 ,\n",
       "         31.80424383,  5.69302737,  7.21119952,  7.55707552,  7.0117699 ],\n",
       "        [ 7.36803431,  6.47475728,  7.82230619,  9.17234339,  8.67888163,\n",
       "          7.95783021,  5.9226843 ,  8.37661049,  7.15238461,  7.46193815,\n",
       "          5.1501186 ,  5.45880426,  8.71782257,  8.24513872,  6.96419263,\n",
       "          9.10972218, 17.80870176,  7.39965402,  9.7263153 ,  8.36233258,\n",
       "          9.14826895,  9.1885948 ,  7.22262685,  9.16716835,  6.30434515,\n",
       "          7.8269377 ,  6.57955785,  9.43331532,  5.56546849,  5.5177281 ,\n",
       "          8.20120024,  6.94621167,  5.28337607,  6.46995152,  6.29159552,\n",
       "          5.21600551,  7.94197193,  6.2676904 ,  8.6417636 ,  6.71945226,\n",
       "          6.51974361,  8.07944623,  9.65361282,  9.81432137,  6.21234538,\n",
       "          5.80998775,  7.36263056,  7.99323466,  9.3745825 ,  7.52188862,\n",
       "          5.54748248,  9.13488081,  5.05255004,  7.91402845,  8.23618734,\n",
       "          7.12925262,  7.59804848,  6.67976517,  8.3552193 ,  5.17559381,\n",
       "          5.49104163,  6.36212918,  5.35380828,  8.16348714,  7.15869165,\n",
       "          6.16115553,  7.86114021,  7.26700915,  8.04154581,  6.87954228,\n",
       "          5.56595916, 23.4096019 ,  6.38644614,  5.05630794,  8.22162389,\n",
       "          6.54917501,  8.0704302 ,  9.91480056,  9.19705235,  7.00847155,\n",
       "          9.6651222 ,  8.98989071,  9.20245874,  8.53203341,  5.17848158,\n",
       "          5.1201912 ,  8.824899  ,  9.23028015,  9.23103109,  5.14700083,\n",
       "          7.52744065,  5.72773309,  9.32526795,  8.76866085,  9.6546079 ,\n",
       "         24.45314296,  5.69302737,  7.21119952,  7.55707552,  7.0117699 ],\n",
       "        [ 7.36803431,  6.47475728,  7.82230619,  9.17234339,  8.67888163,\n",
       "          7.95783021,  5.9226843 ,  8.37661049,  7.15238461,  7.46193815,\n",
       "          5.1501186 ,  5.45880426,  8.71782257,  8.24513872,  6.96419263,\n",
       "          9.10972218, 23.38319073,  7.39965402,  9.7263153 ,  8.36233258,\n",
       "          9.14826895,  9.1885948 ,  7.22262685,  9.16716835,  6.30434515,\n",
       "          7.8269377 ,  6.57955785,  9.43331532,  5.56546849,  5.5177281 ,\n",
       "          8.20120024,  6.94621167,  5.28337607,  6.46995152,  6.29159552,\n",
       "          5.21600551,  7.94197193,  6.2676904 ,  8.6417636 ,  6.71945226,\n",
       "          6.51974361,  8.07944623,  9.65361282,  9.81432137,  6.21234538,\n",
       "          5.80998775,  7.36263056,  7.99323466,  9.3745825 ,  7.52188862,\n",
       "          5.54748248,  9.13488081,  5.05255004,  7.91402845,  8.23618734,\n",
       "          7.12925262,  7.59804848,  6.67976517,  8.3552193 ,  5.17559381,\n",
       "          5.49104163,  6.36212918,  5.35380828,  8.16348714,  7.15869165,\n",
       "          6.16115553,  7.86114021,  7.26700915,  8.04154581,  6.87954228,\n",
       "          5.56595916, 31.11395952,  6.38644614,  5.05630794,  8.22162389,\n",
       "          6.54917501,  8.0704302 ,  9.91480056,  9.19705235,  7.00847155,\n",
       "          9.6651222 ,  8.98989071,  9.20245874,  8.53203341,  5.17848158,\n",
       "          5.1201912 ,  8.824899  ,  9.23028015,  9.23103109,  5.14700083,\n",
       "          7.52744065,  5.72773309,  9.32526795,  8.76866085,  9.6546079 ,\n",
       "         18.80114502,  5.69302737,  7.21119952,  7.55707552,  7.0117699 ],\n",
       "        [ 7.36803431,  6.47475728,  7.82230619,  9.17234339,  8.67888163,\n",
       "          7.95783021,  5.9226843 ,  8.37661049,  7.15238461,  7.46193815,\n",
       "          5.1501186 ,  5.45880426,  8.71782257,  8.24513872,  6.96419263,\n",
       "          9.10972218, 30.70260911,  7.39965402,  9.7263153 ,  8.36233258,\n",
       "          9.14826895,  9.1885948 ,  7.22262685,  9.16716835,  6.30434515,\n",
       "          7.8269377 ,  6.57955785,  9.43331532,  5.56546849,  5.5177281 ,\n",
       "          8.20120024,  6.94621167,  5.28337607,  6.46995152,  6.29159552,\n",
       "          5.21600551,  7.94197193,  6.2676904 ,  8.6417636 ,  6.71945226,\n",
       "          6.51974361,  8.07944623,  9.65361282,  9.81432137,  6.21234538,\n",
       "          5.80998775,  7.36263056,  7.99323466,  9.3745825 ,  7.52188862,\n",
       "          5.54748248,  9.13488081,  5.05255004,  7.91402845,  8.23618734,\n",
       "          7.12925262,  7.59804848,  6.67976517,  8.3552193 ,  5.17559381,\n",
       "          5.49104163,  6.36212918,  5.35380828,  8.16348714,  7.15869165,\n",
       "          6.16115553,  7.86114021,  7.26700915,  8.04154581,  6.87954228,\n",
       "          5.56595916, 41.35390602,  6.38644614,  5.05630794,  8.22162389,\n",
       "          6.54917501,  8.0704302 ,  9.91480056,  9.19705235,  7.00847155,\n",
       "          9.6651222 ,  8.98989071,  9.20245874,  8.53203341,  5.17848158,\n",
       "          5.1201912 ,  8.824899  ,  9.23028015,  9.23103109,  5.14700083,\n",
       "          7.52744065,  5.72773309,  9.32526795,  8.76866085,  9.6546079 ,\n",
       "         14.45552641,  5.69302737,  7.21119952,  7.55707552,  7.0117699 ],\n",
       "        [ 7.36803431,  6.47475728,  7.82230619,  9.17234339,  8.67888163,\n",
       "          7.95783021,  5.9226843 ,  8.37661049,  7.15238461,  7.46193815,\n",
       "          5.1501186 ,  5.45880426,  8.71782257,  8.24513872,  6.96419263,\n",
       "          9.10972218, 40.31315559,  7.39965402,  9.7263153 ,  8.36233258,\n",
       "          9.14826895,  9.1885948 ,  7.22262685,  9.16716835,  6.30434515,\n",
       "          7.8269377 ,  6.57955785,  9.43331532,  5.56546849,  5.5177281 ,\n",
       "          8.20120024,  6.94621167,  5.28337607,  6.46995152,  6.29159552,\n",
       "          5.21600551,  7.94197193,  6.2676904 ,  8.6417636 ,  6.71945226,\n",
       "          6.51974361,  8.07944623,  9.65361282,  9.81432137,  6.21234538,\n",
       "          5.80998775,  7.36263056,  7.99323466,  9.3745825 ,  7.52188862,\n",
       "          5.54748248,  9.13488081,  5.05255004,  7.91402845,  8.23618734,\n",
       "          7.12925262,  7.59804848,  6.67976517,  8.3552193 ,  5.17559381,\n",
       "          5.49104163,  6.36212918,  5.35380828,  8.16348714,  7.15869165,\n",
       "          6.16115553,  7.86114021,  7.26700915,  8.04154581,  6.87954228,\n",
       "          5.56595916, 54.9639316 ,  6.38644614,  5.05630794,  8.22162389,\n",
       "          6.54917501,  8.0704302 ,  9.91480056,  9.19705235,  7.00847155,\n",
       "          9.6651222 ,  8.98989071,  9.20245874,  8.53203341,  5.17848158,\n",
       "          5.1201912 ,  8.824899  ,  9.23028015,  9.23103109,  5.14700083,\n",
       "          7.52744065,  5.72773309,  9.32526795,  8.76866085,  9.6546079 ,\n",
       "         11.11433605,  5.69302737,  7.21119952,  7.55707552,  7.0117699 ],\n",
       "        [ 7.36803431,  6.47475728,  7.82230619,  9.17234339,  8.67888163,\n",
       "          7.95783021,  5.9226843 ,  8.37661049,  7.15238461,  7.46193815,\n",
       "          5.1501186 ,  5.45880426,  8.71782257,  8.24513872,  6.96419263,\n",
       "          9.10972218, 52.93200026,  7.39965402,  9.7263153 ,  8.36233258,\n",
       "          9.14826895,  9.1885948 ,  7.22262685,  9.16716835,  6.30434515,\n",
       "          7.8269377 ,  6.57955785,  9.43331532,  5.56546849,  5.5177281 ,\n",
       "          8.20120024,  6.94621167,  5.28337607,  6.46995152,  6.29159552,\n",
       "          5.21600551,  7.94197193,  6.2676904 ,  8.6417636 ,  6.71945226,\n",
       "          6.51974361,  8.07944623,  9.65361282,  9.81432137,  6.21234538,\n",
       "          5.80998775,  7.36263056,  7.99323466,  9.3745825 ,  7.52188862,\n",
       "          5.54748248,  9.13488081,  5.05255004,  7.91402845,  8.23618734,\n",
       "          7.12925262,  7.59804848,  6.67976517,  8.3552193 ,  5.17559381,\n",
       "          5.49104163,  6.36212918,  5.35380828,  8.16348714,  7.15869165,\n",
       "          6.16115553,  7.86114021,  7.26700915,  8.04154581,  6.87954228,\n",
       "          5.56595916, 73.05316638,  6.38644614,  5.05630794,  8.22162389,\n",
       "          6.54917501,  8.0704302 ,  9.91480056,  9.19705235,  7.00847155,\n",
       "          9.6651222 ,  8.98989071,  9.20245874,  8.53203341,  5.17848158,\n",
       "          5.1201912 ,  8.824899  ,  9.23028015,  9.23103109,  5.14700083,\n",
       "          7.52744065,  5.72773309,  9.32526795,  8.76866085,  9.6546079 ,\n",
       "          8.54541456,  5.69302737,  7.21119952,  7.55707552,  7.0117699 ]]),\n",
       " 'time_varying_param': array([[246.25472509, 230.80224422, 212.15212174, 249.30416495,\n",
       "         212.1580746 , 274.01498282, 275.27898917, 279.27032539,\n",
       "         210.88222115, 224.08430251, 265.66395984, 247.45183224,\n",
       "         226.99806138, 279.61632146, 253.10240355, 285.98784732,\n",
       "         213.85872581, 284.11886499, 286.03698366, 211.87822606,\n",
       "         275.05069873, 263.83988273, 287.13601104, 282.02176404,\n",
       "         243.51037234, 278.00024345, 242.15298994, 234.93074188,\n",
       "         283.92252754, 287.50331673, 269.09886143, 269.41665739,\n",
       "         279.40014813, 238.31476315, 232.9570262 , 283.25005367,\n",
       "         214.65027439, 256.21504833, 243.57145698, 220.40237303,\n",
       "         243.65881215, 222.26010936, 227.19173623, 245.58658902,\n",
       "         259.2129983 , 224.95249684, 222.20629302, 219.80423226,\n",
       "         226.77869555, 223.19734655, 226.95376305, 223.22739073,\n",
       "         225.13128614, 291.69520743, 228.88392288, 257.71969751,\n",
       "         235.76956775, 230.82942049, 227.20032754, 211.78531518,\n",
       "         239.3232892 , 231.76948655, 212.23555692, 247.68048228,\n",
       "         275.68288864, 224.93517478, 258.39846813, 222.86439732,\n",
       "         233.15328987, 225.71540302, 274.98379847, 272.36264864,\n",
       "         223.37051257, 274.87238141, 248.18576282, 235.89361351,\n",
       "         282.98590846, 283.47605295, 288.46686785, 258.03881445,\n",
       "         278.95029719, 215.34668794, 227.98521702, 245.7316781 ,\n",
       "         249.61843464, 266.91358573, 256.30889529, 275.76954557,\n",
       "         266.63858587, 224.23288105, 232.48512217, 229.8114247 ,\n",
       "         213.66076018, 213.75441652, 225.45296218, 227.86335841,\n",
       "         279.67054869, 256.83801669, 255.85272824, 236.40665404],\n",
       "        [246.25472509, 229.41604455, 213.49911934, 249.30416495,\n",
       "         213.50511   , 272.66182242, 273.91958676, 277.89121267,\n",
       "         212.22115589, 222.73845085, 267.0369002 , 247.45183224,\n",
       "         228.43931891, 278.23550012, 253.10240355, 284.57556166,\n",
       "         215.21655899, 282.71580887, 284.62445534, 213.22348464,\n",
       "         276.47214936, 265.20339634, 285.71805543, 280.62906397,\n",
       "         243.51037234, 276.62740274, 242.15298994, 233.51974644,\n",
       "         282.52044099, 286.08354726, 270.48955322, 270.80899154,\n",
       "         278.02039432, 236.88344326, 231.5578849 , 281.85128797,\n",
       "         216.01313328, 256.21504833, 243.57145698, 221.80175318,\n",
       "         243.65881215, 220.92521381, 225.8272213 , 245.58658902,\n",
       "         260.55260035, 223.60143079, 220.87172069, 221.19981469,\n",
       "         228.21856029, 221.85682194, 225.59067739, 221.88668568,\n",
       "         223.77914629, 290.25473727, 227.50924466, 257.71969751,\n",
       "         234.35353431, 229.44305761, 225.83576101, 213.12998385,\n",
       "         237.88591208, 230.37747762, 213.58308427, 247.68048228,\n",
       "         274.32149166, 226.36333462, 259.73386073, 221.52587241,\n",
       "         231.75296981, 224.35975496, 276.40490337, 273.77020754,\n",
       "         224.78873805, 276.29291052, 248.18576282, 234.47683505,\n",
       "         281.58844718, 282.07617121, 287.04234011, 259.37234837,\n",
       "         277.57276485, 216.7139685 , 226.61593644, 245.7316781 ,\n",
       "         249.61843464, 268.29298411, 256.30889529, 277.19471118,\n",
       "         268.01656306, 225.65658188, 231.08881513, 228.43117591,\n",
       "         215.01733644, 215.11158742, 226.88440956, 226.49480971,\n",
       "         278.28945957, 256.83801669, 255.85272824, 234.98679426],\n",
       "        [246.25472509, 228.02984489, 214.84611693, 249.30416495,\n",
       "         214.85214539, 271.30866201, 272.56018434, 276.51209995,\n",
       "         213.56009063, 221.39259918, 268.40984056, 247.45183224,\n",
       "         229.88057644, 276.85467878, 253.10240355, 283.16327599,\n",
       "         216.57439217, 281.31275275, 283.21192703, 214.56874321,\n",
       "         277.8936    , 266.56690994, 284.30009982, 279.2363639 ,\n",
       "         243.51037234, 275.25456203, 242.15298994, 232.10875099,\n",
       "         281.11835443, 284.66377779, 271.88024501, 272.20132568,\n",
       "         276.6406405 , 235.45212336, 230.1587436 , 280.45252228,\n",
       "         217.37599216, 256.21504833, 243.57145698, 223.20113332,\n",
       "         243.65881215, 219.59031826, 224.46270637, 245.58658902,\n",
       "         261.89220241, 222.25036474, 219.53714836, 222.59539712,\n",
       "         229.65842502, 220.51629734, 224.22759173, 220.54598063,\n",
       "         222.42700643, 288.81426711, 226.13456645, 257.71969751,\n",
       "         232.93750087, 228.05669472, 224.47119447, 214.47465252,\n",
       "         236.44853497, 228.98546869, 214.93061161, 247.68048228,\n",
       "         272.96009468, 227.79149445, 261.06925333, 220.18734751,\n",
       "         230.35264976, 223.00410689, 277.82600827, 275.17776645,\n",
       "         226.20696352, 277.71343962, 248.18576282, 233.06005659,\n",
       "         280.19098591, 280.67628947, 285.61781236, 260.7058823 ,\n",
       "         276.19523252, 218.08124905, 225.24665585, 245.7316781 ,\n",
       "         249.61843464, 269.67238248, 256.30889529, 278.61987679,\n",
       "         269.39454025, 227.08028271, 229.69250809, 227.05092711,\n",
       "         216.37391269, 216.46875832, 228.31585694, 225.12626101,\n",
       "         276.90837044, 256.83801669, 255.85272824, 233.56693448],\n",
       "        [246.25472509, 226.64364522, 216.19311453, 249.30416495,\n",
       "         216.19918078, 269.9555016 , 271.20078192, 275.13298724,\n",
       "         214.89902537, 220.04674751, 269.78278092, 247.45183224,\n",
       "         231.32183398, 275.47385744, 253.10240355, 281.75099033,\n",
       "         217.93222535, 279.90969662, 281.79939871, 215.91400179,\n",
       "         279.31505064, 267.93042355, 282.88214421, 277.84366383,\n",
       "         243.51037234, 273.88172132, 242.15298994, 230.69775554,\n",
       "         279.71626787, 283.24400833, 273.2709368 , 273.59365983,\n",
       "         275.26088668, 234.02080346, 228.7596023 , 279.05375658,\n",
       "         218.73885105, 256.21504833, 243.57145698, 224.60051347,\n",
       "         243.65881215, 218.25542271, 223.09819143, 245.58658902,\n",
       "         263.23180447, 220.8992987 , 218.20257603, 223.99097954,\n",
       "         231.09828975, 219.17577273, 222.86450606, 219.20527558,\n",
       "         221.07486657, 287.37379695, 224.75988823, 257.71969751,\n",
       "         231.52146743, 226.67033183, 223.10662794, 215.81932118,\n",
       "         235.01115786, 227.59345976, 216.27813896, 247.68048228,\n",
       "         271.5986977 , 229.21965429, 262.40464593, 218.8488226 ,\n",
       "         228.9523297 , 221.64845882, 279.24711318, 276.58532536,\n",
       "         227.625189  , 279.13396872, 248.18576282, 231.64327813,\n",
       "         278.79352463, 279.27640773, 284.19328462, 262.03941622,\n",
       "         274.81770019, 219.44852961, 223.87737527, 245.7316781 ,\n",
       "         249.61843464, 271.05178086, 256.30889529, 280.0450424 ,\n",
       "         270.77251743, 228.50398355, 228.29620105, 225.67067831,\n",
       "         217.73048895, 217.82592921, 229.74730432, 223.75771231,\n",
       "         275.52728131, 256.83801669, 255.85272824, 232.14707469],\n",
       "        [246.25472509, 225.25744556, 217.54011213, 249.30416495,\n",
       "         217.54621618, 268.60234119, 269.84137951, 273.75387452,\n",
       "         216.2379601 , 218.70089585, 271.15572128, 247.45183224,\n",
       "         232.76309151, 274.0930361 , 253.10240355, 280.33870466,\n",
       "         219.29005853, 278.5066405 , 280.3868704 , 217.25926037,\n",
       "         280.73650128, 269.29393715, 281.4641886 , 276.45096376,\n",
       "         243.51037234, 272.50888062, 242.15298994, 229.2867601 ,\n",
       "         278.31418132, 281.82423886, 274.66162859, 274.98599398,\n",
       "         273.88113286, 232.58948356, 227.360461  , 277.65499088,\n",
       "         220.10170993, 256.21504833, 243.57145698, 225.99989361,\n",
       "         243.65881215, 216.92052716, 221.7336765 , 245.58658902,\n",
       "         264.57140653, 219.54823265, 216.8680037 , 225.38656197,\n",
       "         232.53815449, 217.83524813, 221.5014204 , 217.86457054,\n",
       "         219.72272672, 285.93332679, 223.38521001, 257.71969751,\n",
       "         230.10543399, 225.28396895, 221.74206141, 217.16398985,\n",
       "         233.57378075, 226.20145083, 217.6256663 , 247.68048228,\n",
       "         270.23730072, 230.64781413, 263.74003853, 217.51029769,\n",
       "         227.55200964, 220.29281076, 280.66821808, 277.99288427,\n",
       "         229.04341448, 280.55449782, 248.18576282, 230.22649967,\n",
       "         277.39606335, 277.87652598, 282.76875688, 263.37295015,\n",
       "         273.44016786, 220.81581017, 222.50809469, 245.7316781 ,\n",
       "         249.61843464, 272.43117924, 256.30889529, 281.47020801,\n",
       "         272.15049462, 229.92768438, 226.89989401, 224.29042952,\n",
       "         219.0870652 , 219.18310011, 231.1787517 , 222.38916361,\n",
       "         274.14619218, 256.83801669, 255.85272824, 230.72721491],\n",
       "        [246.25472509, 223.87124589, 218.88710973, 249.30416495,\n",
       "         218.89325157, 267.24918078, 268.48197709, 272.3747618 ,\n",
       "         217.57689484, 217.35504418, 272.52866164, 247.45183224,\n",
       "         234.20434904, 272.71221476, 253.10240355, 278.92641899,\n",
       "         220.64789171, 277.10358438, 278.97434209, 218.60451895,\n",
       "         282.15795192, 270.65745076, 280.04623299, 275.05826369,\n",
       "         243.51037234, 271.13603991, 242.15298994, 227.87576465,\n",
       "         276.91209476, 280.4044694 , 276.05232039, 276.37832812,\n",
       "         272.50137904, 231.15816366, 225.96131971, 276.25622519,\n",
       "         221.46456882, 256.21504833, 243.57145698, 227.39927376,\n",
       "         243.65881215, 215.58563161, 220.36916157, 245.58658902,\n",
       "         265.91100859, 218.1971666 , 215.53343137, 226.7821444 ,\n",
       "         233.97801922, 216.49472353, 220.13833473, 216.52386549,\n",
       "         218.37058686, 284.49285662, 222.0105318 , 257.71969751,\n",
       "         228.68940055, 223.89760606, 220.37749488, 218.50865852,\n",
       "         232.13640363, 224.8094419 , 218.97319365, 247.68048228,\n",
       "         268.87590374, 232.07597397, 265.07543113, 216.17177278,\n",
       "         226.15168958, 218.93716269, 282.08932298, 279.40044318,\n",
       "         230.46163995, 281.97502693, 248.18576282, 228.80972121,\n",
       "         275.99860208, 276.47664424, 281.34422914, 264.70648407,\n",
       "         272.06263553, 222.18309073, 221.13881411, 245.7316781 ,\n",
       "         249.61843464, 273.81057761, 256.30889529, 282.89537362,\n",
       "         273.52847181, 231.35138521, 225.50358697, 222.91018072,\n",
       "         220.44364146, 220.54027101, 232.61019908, 221.02061491,\n",
       "         272.76510305, 256.83801669, 255.85272824, 229.30735512],\n",
       "        [246.25472509, 222.48504623, 220.23410733, 249.30416495,\n",
       "         220.24028697, 265.89602037, 267.12257468, 270.99564908,\n",
       "         218.91582958, 216.00919251, 273.90160201, 247.45183224,\n",
       "         235.64560657, 271.33139342, 253.10240355, 277.51413333,\n",
       "         222.00572489, 275.70052825, 277.56181377, 219.94977753,\n",
       "         283.57940256, 272.02096436, 278.62827738, 273.66556363,\n",
       "         243.51037234, 269.7631992 , 242.15298994, 226.4647692 ,\n",
       "         275.51000821, 278.98469993, 277.44301218, 277.77066227,\n",
       "         271.12162523, 229.72684376, 224.56217841, 274.85745949,\n",
       "         222.8274277 , 256.21504833, 243.57145698, 228.79865391,\n",
       "         243.65881215, 214.25073605, 219.00464664, 245.58658902,\n",
       "         267.25061065, 216.84610056, 214.19885904, 228.17772683,\n",
       "         235.41788395, 215.15419892, 218.77524907, 215.18316044,\n",
       "         217.018447  , 283.05238646, 220.63585358, 257.71969751,\n",
       "         227.27336711, 222.51124318, 219.01292835, 219.85332719,\n",
       "         230.69902652, 223.41743298, 220.32072099, 247.68048228,\n",
       "         267.51450676, 233.50413381, 266.41082373, 214.83324787,\n",
       "         224.75136952, 217.58151463, 283.51042788, 280.80800208,\n",
       "         231.87986543, 283.39555603, 248.18576282, 227.39294275,\n",
       "         274.6011408 , 275.0767625 , 279.91970139, 266.040018  ,\n",
       "         270.68510319, 223.55037129, 219.76953352, 245.7316781 ,\n",
       "         249.61843464, 275.18997599, 256.30889529, 284.32053923,\n",
       "         274.906449  , 232.77508604, 224.10727993, 221.52993192,\n",
       "         221.80021771, 221.89744191, 234.04164646, 219.65206621,\n",
       "         271.38401392, 256.83801669, 255.85272824, 227.88749534],\n",
       "        [246.25472509, 221.09884656, 221.58110493, 249.30416495,\n",
       "         221.58732236, 264.54285996, 265.76317226, 269.61653636,\n",
       "         220.25476432, 214.66334085, 275.27454237, 247.45183224,\n",
       "         237.08686411, 269.95057207, 253.10240355, 276.10184766,\n",
       "         223.36355807, 274.29747213, 276.14928546, 221.29503611,\n",
       "         285.0008532 , 273.38447797, 277.21032177, 272.27286356,\n",
       "         243.51037234, 268.39035849, 242.15298994, 225.05377376,\n",
       "         274.10792165, 277.56493047, 278.83370397, 279.16299642,\n",
       "         269.74187141, 228.29552386, 223.16303711, 273.45869379,\n",
       "         224.19028659, 256.21504833, 243.57145698, 230.19803405,\n",
       "         243.65881215, 212.9158405 , 217.64013171, 245.58658902,\n",
       "         268.5902127 , 215.49503451, 212.86428671, 229.57330925,\n",
       "         236.85774869, 213.81367432, 217.41216341, 213.84245539,\n",
       "         215.66630715, 281.6119163 , 219.26117537, 257.71969751,\n",
       "         225.85733367, 221.12488029, 217.64836181, 221.19799585,\n",
       "         229.26164941, 222.02542405, 221.66824834, 247.68048228,\n",
       "         266.15310978, 234.93229365, 267.74621633, 213.49472296,\n",
       "         223.35104946, 216.22586656, 284.93153278, 282.21556099,\n",
       "         233.29809091, 284.81608513, 248.18576282, 225.97616429,\n",
       "         273.20367952, 273.67688075, 278.49517365, 267.37355192,\n",
       "         269.30757086, 224.91765185, 218.40025294, 245.7316781 ,\n",
       "         249.61843464, 276.56937436, 256.30889529, 285.74570484,\n",
       "         276.28442619, 234.19878687, 222.71097289, 220.14968313,\n",
       "         223.15679397, 223.25461281, 235.47309384, 218.28351751,\n",
       "         270.00292479, 256.83801669, 255.85272824, 226.46763556],\n",
       "        [246.25472509, 219.7126469 , 222.92810252, 249.30416495,\n",
       "         222.93435776, 263.18969955, 264.40376985, 268.23742365,\n",
       "         221.59369905, 213.31748918, 276.64748273, 247.45183224,\n",
       "         238.52812164, 268.56975073, 253.10240355, 274.689562  ,\n",
       "         224.72139125, 272.89441601, 274.73675714, 222.64029468,\n",
       "         286.42230384, 274.74799158, 275.79236616, 270.88016349,\n",
       "         243.51037234, 267.01751778, 242.15298994, 223.64277831,\n",
       "         272.7058351 , 276.145161  , 280.22439576, 280.55533056,\n",
       "         268.36211759, 226.86420396, 221.76389581, 272.05992809,\n",
       "         225.55314547, 256.21504833, 243.57145698, 231.5974142 ,\n",
       "         243.65881215, 211.58094495, 216.27561677, 245.58658902,\n",
       "         269.92981476, 214.14396846, 211.52971438, 230.96889168,\n",
       "         238.29761342, 212.47314972, 216.04907774, 212.50175034,\n",
       "         214.31416729, 280.17144614, 217.88649715, 257.71969751,\n",
       "         224.44130023, 219.73851741, 216.28379528, 222.54266452,\n",
       "         227.8242723 , 220.63341512, 223.01577568, 247.68048228,\n",
       "         264.79171279, 236.36045349, 269.08160893, 212.15619805,\n",
       "         221.9507294 , 214.87021849, 286.35263768, 283.6231199 ,\n",
       "         234.71631638, 286.23661424, 248.18576282, 224.55938583,\n",
       "         271.80621825, 272.27699901, 277.07064591, 268.70708585,\n",
       "         267.93003853, 226.2849324 , 217.03097236, 245.7316781 ,\n",
       "         249.61843464, 277.94877274, 256.30889529, 287.17087045,\n",
       "         277.66240337, 235.62248771, 221.31466585, 218.76943433,\n",
       "         224.51337022, 224.61178371, 236.90454121, 216.91496881,\n",
       "         268.62183566, 256.83801669, 255.85272824, 225.04777577]]),\n",
       " 'code_collapsed': tensor([0., 0., 1., 0., 0., 1., 0., 0., 0., 1., 0., 0., 0., 1., 0., 0., 0., 0.,\n",
       "         0., 0., 1., 0., 1., 0., 0., 0., 0., 0., 1., 0., 0., 0., 0., 0., 1., 0.,\n",
       "         1., 0., 0., 0., 0., 0., 0., 1., 0., 1., 0., 0., 0., 0., 0., 1., 0., 0.,\n",
       "         0., 0., 1., 0., 0., 0., 0., 1., 2., 2., 0., 1., 0., 0., 2., 0., 0., 1.,\n",
       "         1., 0., 0., 0., 0., 1., 0., 0., 0., 0., 1., 0., 0., 0., 1., 2., 0., 0.,\n",
       "         2., 0., 1., 1., 1., 1., 0., 0., 0., 0.]),\n",
       " 'code_ind': [tensor([90, 94, 97]),\n",
       "  tensor([ 6, 55, 60, 75, 81, 98]),\n",
       "  tensor([67]),\n",
       "  tensor([ 9, 24, 38, 49, 72, 96]),\n",
       "  tensor([26, 32, 67, 91, 99]),\n",
       "  tensor([65, 66, 76]),\n",
       "  tensor([13, 69, 86]),\n",
       "  tensor([66, 91]),\n",
       "  tensor([17, 40, 47, 72, 94])],\n",
       " 'code_collapsed_ind': tensor([87, 91, 94,  3, 52, 57, 72, 78, 95, 64,  6, 21, 35, 46, 69, 93, 23, 29,\n",
       "         64, 88, 96, 62, 63, 73, 10, 66, 83, 63, 88, 14, 37, 44, 69, 91]),\n",
       " 'code_collapsed_binary': tensor([0., 0., 1., 0., 0., 1., 0., 0., 0., 1., 0., 0., 0., 1., 0., 0., 0., 0.,\n",
       "         0., 0., 1., 0., 1., 0., 0., 0., 0., 0., 1., 0., 0., 0., 0., 0., 1., 0.,\n",
       "         1., 0., 0., 0., 0., 0., 0., 1., 0., 1., 0., 0., 0., 0., 0., 1., 0., 0.,\n",
       "         0., 0., 1., 0., 0., 0., 0., 1., 1., 1., 0., 1., 0., 0., 1., 0., 0., 1.,\n",
       "         1., 0., 0., 0., 0., 1., 0., 0., 0., 0., 1., 0., 0., 0., 1., 1., 0., 0.,\n",
       "         1., 0., 1., 1., 1., 1., 0., 0., 0., 0.]),\n",
       " 'occurrence_count': 0,\n",
       " 'treatment_prob': 0.1053905114531517,\n",
       " 'treatment_assignment': 0,\n",
       " 'outcome': 10.037103478531288,\n",
       " 'code_collapsed_LR': tensor([-0.5454, -0.5398,  1.2811, -0.5327, -0.5502,  1.2754, -0.5511, -0.5413,\n",
       "         -0.5346,  1.2592, -0.5381, -0.5260, -0.5403,  1.3057, -0.5400, -0.5448,\n",
       "         -0.9404, -0.5401, -0.5365, -0.5491,  1.2816, -0.5482,  1.3149, -0.5460,\n",
       "         -0.5489, -0.5314, -0.5402, -0.5415,  1.2955, -0.5473, -0.5392, -0.5493,\n",
       "         -0.5447, -0.5286,  1.2702, -0.5354,  1.2968, -0.5473, -0.5306, -0.5383,\n",
       "         -0.5435, -0.5380, -0.5414,  1.2810, -0.5441,  1.3083, -0.5326, -0.5401,\n",
       "         -0.5622, -0.5478, -0.5429,  1.3134, -0.5462, -0.5389, -0.5415, -0.5426,\n",
       "          1.3014, -0.5503, -0.5468, -0.5458, -0.5481,  1.2866,  3.1802,  3.1584,\n",
       "         -0.5341,  1.2682, -0.5293, -0.5431,  3.1048, -0.5358, -0.5358, -0.3722,\n",
       "          1.2980, -0.5386, -0.5401, -0.5384, -0.5301,  1.2886, -0.5326, -0.5415,\n",
       "         -0.5505, -0.5493,  1.2982, -0.5422, -0.5348, -0.5357,  1.2972,  3.1340,\n",
       "         -0.5396, -0.5387,  3.1008, -0.5456,  1.2544,  1.2888,  1.3103, -0.3655,\n",
       "         -0.5361, -0.5330, -0.5459, -0.5418])}"
      ]
     },
     "execution_count": 24,
     "metadata": {},
     "output_type": "execute_result"
    }
   ],
   "source": [
    "EHR_OW.patient_record[\"p0\"]"
   ]
  },
  {
   "cell_type": "code",
   "execution_count": null,
   "id": "d5d0b691",
   "metadata": {},
   "outputs": [],
   "source": []
  },
  {
   "cell_type": "code",
   "execution_count": 39,
   "id": "08efc94d",
   "metadata": {
    "scrolled": true
   },
   "outputs": [
    {
     "name": "stdout",
     "output_type": "stream",
     "text": [
      "splitting 1-fold\n",
      "fold size: 1200\n",
      "splitting 2-fold\n",
      "fold size: 1200\n",
      "splitting 3-fold\n",
      "fold size: 1200\n",
      "splitting 4-fold\n",
      "fold size: 1200\n",
      "splitting 5-fold\n",
      "fold size: 1200\n",
      "splitting 6-fold\n",
      "fold size: 1200\n",
      "splitting 7-fold\n",
      "fold size: 1200\n",
      "splitting 8-fold\n",
      "fold size: 1200\n",
      "splitting 9-fold\n",
      "fold size: 1200\n",
      "splitting 10-fold\n",
      "fold size: 1200\n"
     ]
    }
   ],
   "source": [
    "EHR_OW.split_record_nfold(10)"
   ]
  },
  {
   "cell_type": "code",
   "execution_count": 43,
   "id": "116ddccb",
   "metadata": {
    "scrolled": true
   },
   "outputs": [],
   "source": [
    "EHR_OW.save_record_nfold(\"C:/Users/jayao/Desktop/python_projects/transformer_propensity/data/OW_10/\")"
   ]
  },
  {
   "cell_type": "code",
   "execution_count": 44,
   "id": "42220dfd",
   "metadata": {
    "scrolled": true
   },
   "outputs": [],
   "source": [
    "EHR_OW.save_record(\"C:/Users/jayao/Desktop/python_projects/transformer_propensity/data/OW_10/\")"
   ]
  },
  {
   "cell_type": "code",
   "execution_count": 45,
   "id": "aab2eed3",
   "metadata": {
    "scrolled": true
   },
   "outputs": [],
   "source": [
    "EHR_OW.save_params(\"C:/Users/jayao/Desktop/python_projects/transformer_propensity/data/OW_10/\")"
   ]
  },
  {
   "cell_type": "code",
   "execution_count": null,
   "id": "9f8e2a91",
   "metadata": {},
   "outputs": [],
   "source": []
  },
  {
   "cell_type": "code",
   "execution_count": 16,
   "id": "60bc489a",
   "metadata": {
    "scrolled": true
   },
   "outputs": [],
   "source": [
    "def count_oc(data_dict):\n",
    "    \n",
    "    oc_list = []\n",
    "    \n",
    "    for pid, item in data_dict.items():\n",
    "        \n",
    "        occurrence_count = item[\"occurrence_count\"]\n",
    "        oc_list.append(occurrence_count)\n",
    "\n",
    "    return oc_list"
   ]
  },
  {
   "cell_type": "code",
   "execution_count": 17,
   "id": "a78c6f7e",
   "metadata": {
    "scrolled": true
   },
   "outputs": [],
   "source": [
    "oc_list = count_oc(EHR_OC.occurrence_count_record)"
   ]
  },
  {
   "cell_type": "code",
   "execution_count": 18,
   "id": "79ddc3c6",
   "metadata": {
    "scrolled": true
   },
   "outputs": [
    {
     "data": {
      "text/plain": [
       "(array([0, 1, 2, 3]), array([3000, 3000, 3000, 3000], dtype=int64))"
      ]
     },
     "execution_count": 18,
     "metadata": {},
     "output_type": "execute_result"
    }
   ],
   "source": [
    "np.unique(oc_list, return_counts=True)"
   ]
  },
  {
   "cell_type": "code",
   "execution_count": null,
   "id": "819d1364",
   "metadata": {
    "scrolled": true
   },
   "outputs": [],
   "source": []
  },
  {
   "cell_type": "code",
   "execution_count": 40,
   "id": "c7324d01",
   "metadata": {
    "scrolled": true
   },
   "outputs": [],
   "source": [
    "def get_ps_distribution(patient_record):\n",
    "    \n",
    "    treated_ps = []\n",
    "    control_ps = []\n",
    "    \n",
    "    for pid, item in tqdm(patient_record.items()):\n",
    "                \n",
    "        if item[\"treatment_assignment\"] == 1:\n",
    "            treated_ps.append(item[\"treatment_prob\"])\n",
    "        else:\n",
    "            control_ps.append(item[\"treatment_prob\"])\n",
    "            \n",
    "    return treated_ps, control_ps"
   ]
  },
  {
   "cell_type": "code",
   "execution_count": 41,
   "id": "50530fd7",
   "metadata": {
    "scrolled": true
   },
   "outputs": [
    {
     "name": "stderr",
     "output_type": "stream",
     "text": [
      "100%|███████████████████████████████████████████████████████████████████████| 12000/12000 [00:00<00:00, 1221819.88it/s]\n"
     ]
    }
   ],
   "source": [
    "treated_ps, control_ps = get_ps_distribution(EHR_OW.patient_record)"
   ]
  },
  {
   "cell_type": "code",
   "execution_count": 42,
   "id": "9185660c",
   "metadata": {
    "scrolled": true
   },
   "outputs": [
    {
     "data": {
      "text/plain": [
       "(array([2.890e+02, 2.855e+03, 1.913e+03, 1.040e+02, 0.000e+00, 0.000e+00,\n",
       "        0.000e+00, 0.000e+00, 0.000e+00, 0.000e+00, 0.000e+00, 0.000e+00,\n",
       "        0.000e+00, 0.000e+00, 0.000e+00, 0.000e+00, 0.000e+00, 0.000e+00,\n",
       "        0.000e+00, 0.000e+00, 0.000e+00, 0.000e+00, 0.000e+00, 0.000e+00,\n",
       "        0.000e+00, 0.000e+00, 0.000e+00, 0.000e+00, 0.000e+00, 0.000e+00,\n",
       "        0.000e+00, 0.000e+00, 0.000e+00, 0.000e+00, 3.000e+00, 8.300e+01,\n",
       "        4.820e+02, 1.640e+02, 5.000e+00, 0.000e+00, 0.000e+00, 0.000e+00,\n",
       "        0.000e+00, 8.000e+00, 1.410e+02, 7.900e+01, 1.000e+00, 9.000e+00,\n",
       "        5.400e+01, 1.400e+01]),\n",
       " array([0.06606785, 0.08422136, 0.10237487, 0.12052837, 0.13868188,\n",
       "        0.15683539, 0.17498889, 0.1931424 , 0.21129591, 0.22944941,\n",
       "        0.24760292, 0.26575643, 0.28390994, 0.30206344, 0.32021695,\n",
       "        0.33837046, 0.35652396, 0.37467747, 0.39283098, 0.41098448,\n",
       "        0.42913799, 0.4472915 , 0.46544501, 0.48359851, 0.50175202,\n",
       "        0.51990553, 0.53805903, 0.55621254, 0.57436605, 0.59251955,\n",
       "        0.61067306, 0.62882657, 0.64698007, 0.66513358, 0.68328709,\n",
       "        0.7014406 , 0.7195941 , 0.73774761, 0.75590112, 0.77405462,\n",
       "        0.79220813, 0.81036164, 0.82851514, 0.84666865, 0.86482216,\n",
       "        0.88297567, 0.90112917, 0.91928268, 0.93743619, 0.95558969,\n",
       "        0.9737432 ]),\n",
       " <BarContainer object of 50 artists>)"
      ]
     },
     "execution_count": 42,
     "metadata": {},
     "output_type": "execute_result"
    },
    {
     "data": {
      "image/png": "[encoded data removed]",
      "text/plain": [
       "<Figure size 640x480 with 1 Axes>"
      ]
     },
     "metadata": {},
     "output_type": "display_data"
    }
   ],
   "source": [
    "plt.hist(treated_ps, density=False, bins=50, alpha=0.3)\n",
    "plt.hist(control_ps, density=False, bins=50, alpha=0.3)"
   ]
  },
  {
   "cell_type": "code",
   "execution_count": null,
   "id": "ccf76637",
   "metadata": {
    "scrolled": true
   },
   "outputs": [],
   "source": []
  },
  {
   "cell_type": "code",
   "execution_count": null,
   "id": "9c012618",
   "metadata": {
    "scrolled": true
   },
   "outputs": [],
   "source": []
  }
 ],
 "metadata": {
  "kernelspec": {
   "display_name": "transformer_propensity",
   "language": "python",
   "name": "transformer_propensity"
  },
  "language_info": {
   "codemirror_mode": {
    "name": "ipython",
    "version": 3
   },
   "file_extension": ".py",
   "mimetype": "text/x-python",
   "name": "python",
   "nbconvert_exporter": "python",
   "pygments_lexer": "ipython3",
   "version": "3.9.13"
  }
 },
 "nbformat": 4,
 "nbformat_minor": 5
}
