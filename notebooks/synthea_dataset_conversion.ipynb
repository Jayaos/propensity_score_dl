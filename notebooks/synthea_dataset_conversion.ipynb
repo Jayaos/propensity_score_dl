{
 "cells": [
  {
   "cell_type": "code",
   "execution_count": 1,
   "id": "92b6d2f1",
   "metadata": {},
   "outputs": [],
   "source": [
    "import numpy as np\n",
    "import pandas as pd\n",
    "import copy\n",
    "from tqdm import tqdm\n",
    "import torch\n",
    "from src.SyntheaConversion import *\n",
    "from src.SyntheticDataGeneration import *\n",
    "from datetime import datetime\n",
    "import matplotlib.pyplot as plt"
   ]
  },
  {
   "cell_type": "code",
   "execution_count": null,
   "id": "23cde3b7",
   "metadata": {},
   "outputs": [],
   "source": []
  },
  {
   "cell_type": "code",
   "execution_count": null,
   "id": "30d25957",
   "metadata": {},
   "outputs": [],
   "source": []
  },
  {
   "cell_type": "code",
   "execution_count": 2,
   "id": "3d301162",
   "metadata": {},
   "outputs": [],
   "source": [
    "def build_code2id(data_dir, num_reserve):\n",
    "    \n",
    "    patient_df = pd.read_csv(data_dir)\n",
    "    \n",
    "    code_list = patient_df[\"CODE\"]\n",
    "    code_desc_list = patient_df[\"DESCRIPTION\"]\n",
    "    \n",
    "    code_set = set()\n",
    "    code2id = dict()\n",
    "    code2desc = dict()\n",
    "    id2code = dict()\n",
    "    code2desc = dict()\n",
    "    \n",
    "    for code, code_desc in zip(code_list, code_desc_list):\n",
    "        code_set.add((code, code_desc))\n",
    "\n",
    "    for i in range(num_reserve):\n",
    "        token_name = \"reserved_token_{}\".format(i)\n",
    "        code2id[token_name] = i\n",
    "        id2code[i] =  token_name\n",
    "        \n",
    "    for i, (code, code_desc) in enumerate(code_set):\n",
    "        code2desc[str(code)] = code_desc\n",
    "        code2id[str(code)] = i+num_reserve # num_reserve is reserved for CLS, padding, etc...\n",
    "        id2code[i+num_reserve] = str(code)\n",
    "        \n",
    "    return code2id, id2code, code2desc"
   ]
  },
  {
   "cell_type": "code",
   "execution_count": 3,
   "id": "55a03e39",
   "metadata": {},
   "outputs": [],
   "source": [
    "def load_data(data_dir):\n",
    "    file = open(data_dir,'rb')\n",
    "    \n",
    "    return pickle.load(file)\n",
    "\n",
    "def save_data(save_dir, data_dict):\n",
    "    with open(save_dir, 'wb') as f:\n",
    "        pickle.dump(data_dict, f)"
   ]
  },
  {
   "cell_type": "code",
   "execution_count": 4,
   "id": "7276ff21",
   "metadata": {},
   "outputs": [],
   "source": [
    "code2id, id2code, code2desc = build_code2id(\"C:/Users/jayao/Desktop/python_projects/transformer_propensity/data/synthea/output_1/csv/conditions.csv\", 0)"
   ]
  },
  {
   "cell_type": "code",
   "execution_count": 5,
   "id": "263eb879",
   "metadata": {},
   "outputs": [],
   "source": [
    "save_data(\"C:/Users/jayao/Desktop/python_projects/transformer_propensity/data/synthea/code2id.pkl\", code2id)\n",
    "save_data(\"C:/Users/jayao/Desktop/python_projects/transformer_propensity/data/synthea/id2code.pkl\", id2code)\n",
    "save_data(\"C:/Users/jayao/Desktop/python_projects/transformer_propensity/data/synthea/code2desc.pkl\", code2desc)"
   ]
  },
  {
   "cell_type": "code",
   "execution_count": 5,
   "id": "e9106caa",
   "metadata": {},
   "outputs": [],
   "source": [
    "general_patients_df = pd.read_csv(\"C:/Users/jayao/Desktop/python_projects/transformer_propensity/data/synthea/output_1/csv/conditions.csv\")"
   ]
  },
  {
   "cell_type": "code",
   "execution_count": 6,
   "id": "ef14e4bc",
   "metadata": {},
   "outputs": [],
   "source": [
    "def covert_code_list_to_id_list(code_list, code2id):\n",
    "    \n",
    "    id_list = []\n",
    "    \n",
    "    for code in code_list:\n",
    "        id_list.append(code2id[code])\n",
    "        \n",
    "    return id_list\n",
    "\n",
    "def build_binary_patient_dict(data_dir, code2id):\n",
    "    \n",
    "    # build patient dictionary that each item has binary matrix of record_length * record_dim\n",
    "    \n",
    "    code_dim = len(code2id)\n",
    "    patient_dict = dict()\n",
    "    \n",
    "    patient_df = pd.read_csv(data_dir)\n",
    "    patient_df[\"START\"] = pd.to_datetime(patient_df[\"START\"])\n",
    "    patient_df[\"CODE\"] = patient_df[\"CODE\"].astype(str)\n",
    "    patient_df_gb_pid = patient_df.groupby([\"PATIENT\"])\n",
    "    \n",
    "    pid_list = list(patient_df_gb_pid.groups)\n",
    "    \n",
    "    for pid in tqdm(pid_list):\n",
    "        patient_record = []\n",
    "        pid_df = copy.deepcopy(patient_df.loc[patient_df_gb_pid.groups[pid]])\n",
    "        pid_df = pid_df.reset_index()\n",
    "        \n",
    "        datetime_order = np.sort(pid_df[\"START\"].unique())\n",
    "        pid_df_gb_datetime = pid_df.groupby([\"START\"])\n",
    "        \n",
    "        for dt in datetime_order:\n",
    "            visit_record = np.zeros(code_dim)\n",
    "            code_list = list(pid_df.loc[pid_df_gb_datetime.groups[pd.Timestamp(dt)]][\"CODE\"]) # dt is np.datetime64\n",
    "            id_list = covert_code_list_to_id_list(code_list, code2id)\n",
    "            visit_record[np.array(id_list)] = 1\n",
    "            patient_record.append(visit_record)\n",
    "            \n",
    "        patient_record = np.reshape(patient_record, (len(patient_record), code_dim))\n",
    "        patient_dict[pid] = patient_record\n",
    "\n",
    "    return patient_dict"
   ]
  },
  {
   "cell_type": "code",
   "execution_count": 7,
   "id": "9a64fdd7",
   "metadata": {},
   "outputs": [],
   "source": [
    "def select_patient_dict(patient_dict, criteria):\n",
    "    \n",
    "    selected_patient_dict = dict()\n",
    "    \n",
    "    for pid, item in patient_dict.items():\n",
    "        \n",
    "        criteria_occurrence = np.sum(np.clip(np.sum(item[:, criteria], 0), 0, 1))\n",
    "        \n",
    "        if criteria_occurrence >= len(criteria):\n",
    "            # all of criteria occurs\n",
    "            selected_patient_dict[pid] = item\n",
    "        else:\n",
    "            continue\n",
    "            \n",
    "    return selected_patient_dict\n",
    "\n",
    "def select_patient_dict_max_count_criteria(patient_dict, criteria, max_count):\n",
    "    \n",
    "    selected_patient_dict = dict()\n",
    "    \n",
    "    for pid, item in patient_dict.items():\n",
    "        \n",
    "        criteria_occurrence = np.sum(item[:, criteria], 0)\n",
    "        \n",
    "        if criteria_occurrence <= max_count:\n",
    "            selected_patient_dict[pid] = item\n",
    "        else:\n",
    "            continue\n",
    "            \n",
    "    return selected_patient_dict\n",
    "\n",
    "def select_patient_dict_inclusion_exclusion(patient_dict, inclusion_criteria, exclusion_criteria):\n",
    "    \n",
    "    selected_patient_dict = dict()\n",
    "    \n",
    "    for pid, item in patient_dict.items():\n",
    "        \n",
    "        inclusion_criteria_occurrence = np.sum(np.clip(np.sum(item[:, inclusion_criteria], 0), 0, 1))\n",
    "        exclusion_criteria_occurrence = np.sum(np.clip(np.sum(item[:, exclusion_criteria], 0), 0, 1))\n",
    "        \n",
    "        if inclusion_criteria_occurrence >= len(inclusion_criteria):\n",
    "            if exclusion_criteria_occurrence == 0:\n",
    "                selected_patient_dict[pid] = item\n",
    "        else:\n",
    "            continue\n",
    "            \n",
    "    return selected_patient_dict\n",
    "\n",
    "def filter_patient_by_record_len(patient_dict, threshold):\n",
    "    \n",
    "    filtered_dict = dict()\n",
    "    \n",
    "    for k, v in patient_dict.items():\n",
    "        if v.shape[0] >= threshold:\n",
    "            filtered_dict[k] = v\n",
    "    \n",
    "    print(\"{} remains out of {}\".format(len(filtered_dict), len(patient_dict)))\n",
    "    \n",
    "    return filtered_dict"
   ]
  },
  {
   "cell_type": "code",
   "execution_count": 8,
   "id": "a35eaf1a",
   "metadata": {},
   "outputs": [],
   "source": [
    "def count_patient_criteria(patient_dict, criteria):\n",
    "    \n",
    "    count = 0\n",
    "    \n",
    "    for pid, item in patient_dict.items():\n",
    "        \n",
    "        criteria_occurrence = np.sum(np.clip(np.sum(item[:, criteria], 0), 0, 1))\n",
    "        \n",
    "        if criteria_occurrence >= len(criteria):\n",
    "            count += 1\n",
    "        else:\n",
    "            continue\n",
    "            \n",
    "    print(count)"
   ]
  },
  {
   "cell_type": "code",
   "execution_count": 9,
   "id": "e4997864",
   "metadata": {},
   "outputs": [],
   "source": [
    "def calculate_patient_dict_statistics(patient_dict, criteria):\n",
    "    \n",
    "    record_len_sum = 0.\n",
    "    code_occurrence_sum = 0.\n",
    "    criteria_occurrence = np.zeros(len(criteria))\n",
    "    \n",
    "    for pid, record in patient_dict.items():\n",
    "        record_len_sum += record.shape[0]\n",
    "        code_occurrence_sum += np.sum(record)\n",
    "        criteria_occurrence += np.sum(record[:,criteria],0)\n",
    "    \n",
    "    print(\"total # patients: {}\".format(len(patient_dict)))\n",
    "    print(\"avg record len: {}\".format(record_len_sum/len(patient_dict)))\n",
    "    print(\"avg # of codes per record: {}\".format(code_occurrence_sum/record_len_sum))\n",
    "    print(\"avg # of occurrence per criteria: {}\".format(criteria_occurrence/len(patient_dict)))"
   ]
  },
  {
   "cell_type": "code",
   "execution_count": 10,
   "id": "7ca1c81d",
   "metadata": {},
   "outputs": [
    {
     "data": {
      "text/plain": [
       "127"
      ]
     },
     "execution_count": 10,
     "metadata": {},
     "output_type": "execute_result"
    }
   ],
   "source": [
    "len(code2id)"
   ]
  },
  {
   "cell_type": "code",
   "execution_count": 11,
   "id": "863c0ef7",
   "metadata": {},
   "outputs": [
    {
     "name": "stderr",
     "output_type": "stream",
     "text": [
      "100%|█████████████████████████████████████████████████████████████████████████| 114311/114311 [13:17<00:00, 143.39it/s]\n"
     ]
    }
   ],
   "source": [
    "general_patient_dict = build_binary_patient_dict(\"C:/Users/jayao/Desktop/python_projects/transformer_propensity/data/synthea/output_1/csv/conditions.csv\", code2id)"
   ]
  },
  {
   "cell_type": "code",
   "execution_count": 12,
   "id": "193fdb32",
   "metadata": {},
   "outputs": [],
   "source": [
    "save_data(\"C:/Users/jayao/Desktop/python_projects/transformer_propensity/data/synthea/general_patient_dict.pkl\", general_patient_dict)"
   ]
  },
  {
   "cell_type": "code",
   "execution_count": 13,
   "id": "aef7cd78",
   "metadata": {},
   "outputs": [
    {
     "data": {
      "text/plain": [
       "30"
      ]
     },
     "execution_count": 13,
     "metadata": {},
     "output_type": "execute_result"
    }
   ],
   "source": [
    "# Viral sinusitis (disorder)\n",
    "code2id[\"444814009\"]"
   ]
  },
  {
   "cell_type": "code",
   "execution_count": 14,
   "id": "fada17ec",
   "metadata": {},
   "outputs": [
    {
     "data": {
      "text/plain": [
       "116"
      ]
     },
     "execution_count": 14,
     "metadata": {},
     "output_type": "execute_result"
    }
   ],
   "source": [
    "# Chronic sinusitis (disorder)\n",
    "code2id[\"40055000\"]"
   ]
  },
  {
   "cell_type": "code",
   "execution_count": 15,
   "id": "f5c1d15d",
   "metadata": {},
   "outputs": [],
   "source": [
    "# patient having only viral sinusitis\n",
    "viral_sinusitis_patient_dict = select_patient_dict_inclusion_exclusion(general_patient_dict, [30], [116])"
   ]
  },
  {
   "cell_type": "code",
   "execution_count": 16,
   "id": "8e4f1877",
   "metadata": {},
   "outputs": [],
   "source": [
    "# patient having one viral sinusitis and one chronic sinusitis\n",
    "viral_chronic_sinusitis_patient_dict = select_patient_dict(general_patient_dict, [30,116])\n",
    "viral_chronic_sinusitis_patient_dict = select_patient_dict_max_count_criteria(viral_chronic_sinusitis_patient_dict,30,1)\n",
    "viral_chronic_sinusitis_patient_dict = select_patient_dict_max_count_criteria(viral_chronic_sinusitis_patient_dict,116,1)"
   ]
  },
  {
   "cell_type": "code",
   "execution_count": 17,
   "id": "1b9657e0",
   "metadata": {},
   "outputs": [
    {
     "name": "stdout",
     "output_type": "stream",
     "text": [
      "34967 remains out of 42645\n"
     ]
    }
   ],
   "source": [
    "viral_sinusitis_patient_dict = filter_patient_by_record_len(viral_sinusitis_patient_dict, 3)"
   ]
  },
  {
   "cell_type": "code",
   "execution_count": 18,
   "id": "0df7f01c",
   "metadata": {},
   "outputs": [
    {
     "name": "stdout",
     "output_type": "stream",
     "text": [
      "6864 remains out of 7139\n"
     ]
    }
   ],
   "source": [
    "viral_chronic_sinusitis_patient_dict = filter_patient_by_record_len(viral_chronic_sinusitis_patient_dict, 3)"
   ]
  },
  {
   "cell_type": "code",
   "execution_count": 25,
   "id": "82a8437c",
   "metadata": {},
   "outputs": [
    {
     "name": "stdout",
     "output_type": "stream",
     "text": [
      "total # patients: 34967\n",
      "avg record len: 4.969142334200818\n",
      "avg # of codes per record: 1.0378864614747116\n",
      "avg # of occurrence per criteria: [1.53659164 0.        ]\n"
     ]
    }
   ],
   "source": [
    "calculate_patient_dict_statistics(viral_sinusitis_patient_dict, [30,116])"
   ]
  },
  {
   "cell_type": "code",
   "execution_count": 19,
   "id": "416e539d",
   "metadata": {},
   "outputs": [
    {
     "name": "stdout",
     "output_type": "stream",
     "text": [
      "total # patients: 6864\n",
      "avg record len: 5.553613053613054\n",
      "avg # of codes per record: 1.038850996852046\n",
      "avg # of occurrence per criteria: [1. 1.]\n"
     ]
    }
   ],
   "source": [
    "calculate_patient_dict_statistics(viral_chronic_sinusitis_patient_dict, [30,116])"
   ]
  },
  {
   "cell_type": "code",
   "execution_count": null,
   "id": "861d1395",
   "metadata": {},
   "outputs": [],
   "source": []
  },
  {
   "cell_type": "code",
   "execution_count": 27,
   "id": "89126bf3",
   "metadata": {},
   "outputs": [],
   "source": [
    "def combine_two_patient_data(data1, data2, combine_num):\n",
    "    \n",
    "    combined_data = dict()\n",
    "    \n",
    "    # duplication test\n",
    "    data1_pid = list(data1.keys())\n",
    "    data2_pid = list(data2.keys())\n",
    "    \n",
    "    duplicated_keys = set.intersection(set(data1_pid), set(data2_pid))\n",
    "    print(\"duplicated pid : {}\".format(len(duplicated_keys)))\n",
    "    \n",
    "    np.random.shuffle(data1_pid)\n",
    "    np.random.shuffle(data2_pid)\n",
    "    \n",
    "    for pid in data1_pid[:combine_num[0]]:\n",
    "        combined_data[pid] = data1[pid]\n",
    "        \n",
    "    for pid in data2_pid[:combine_num[1]]:\n",
    "        combined_data[pid] = data2[pid]\n",
    "        \n",
    "    return combined_data"
   ]
  },
  {
   "cell_type": "code",
   "execution_count": 28,
   "id": "9142fe33",
   "metadata": {},
   "outputs": [
    {
     "name": "stdout",
     "output_type": "stream",
     "text": [
      "duplicated pid : 0\n"
     ]
    }
   ],
   "source": [
    "sinusitis_patient_dict = combine_two_patient_data(viral_sinusitis_patient_dict, viral_chronic_sinusitis_patient_dict, [1136,6865])"
   ]
  },
  {
   "cell_type": "code",
   "execution_count": null,
   "id": "cb5d6285",
   "metadata": {},
   "outputs": [],
   "source": []
  },
  {
   "cell_type": "code",
   "execution_count": 20,
   "id": "ebf0378b",
   "metadata": {},
   "outputs": [],
   "source": [
    "params = {\"treatment_effect\" : -5, \"alpha\" : 5, \"bias\" : 10, \"ps_noise_var\" : 0.01,\n",
    "          \"outcome_noise_var\" : 0.1, \"num_token_reserve\" : 4}"
   ]
  },
  {
   "cell_type": "code",
   "execution_count": 21,
   "id": "d1d54403",
   "metadata": {},
   "outputs": [],
   "source": [
    "SinusitisPatientRecord = PatientRecordSynthea(viral_chronic_sinusitis_patient_dict, code2id, id2code, code2desc, params)"
   ]
  },
  {
   "cell_type": "code",
   "execution_count": 24,
   "id": "6cb0ae75",
   "metadata": {},
   "outputs": [
    {
     "name": "stdout",
     "output_type": "stream",
     "text": [
      "setting temporal confounding variable idx 30,Viral sinusitis (disorder)\n",
      "setting fixed confounding variable idx 116,Chronic sinusitis (disorder)\n"
     ]
    }
   ],
   "source": [
    "SinusitisPatientRecord.set_confounding_vars(30, 116)"
   ]
  },
  {
   "cell_type": "code",
   "execution_count": null,
   "id": "cfcffebd",
   "metadata": {},
   "outputs": [],
   "source": []
  },
  {
   "cell_type": "code",
   "execution_count": 51,
   "id": "378c46c9",
   "metadata": {},
   "outputs": [],
   "source": [
    "code_binary = SinusitisPatientRecord.data_dict[\"00104606-16ef-45e1-84c1-82b5831bf2c6\"]"
   ]
  },
  {
   "cell_type": "code",
   "execution_count": 53,
   "id": "854d9c8d",
   "metadata": {},
   "outputs": [],
   "source": [
    "            code_collapsed = torch.Tensor(np.sum(code_binary, 0))\n",
    "            code_collapsed_binary = torch.Tensor(np.clip(code_collapsed, 0, 1))"
   ]
  },
  {
   "cell_type": "code",
   "execution_count": 57,
   "id": "c1dda462",
   "metadata": {},
   "outputs": [],
   "source": [
    "            code_ind = []\n",
    "            code_collapsed_ind = []\n",
    "            for j in range(code_binary.shape[0]):\n",
    "                codes = list(np.reshape(np.argwhere(code_binary[j,:] == 1), -1))\n",
    "                code_collapsed_ind.extend(codes)\n",
    "                codes = torch.Tensor(codes)\n",
    "                codes += SinusitisPatientRecord.params[\"num_token_reserve\"] # of tokens reserved for padding, SEP, CLS,...\n",
    "                code_ind.append(codes.long())"
   ]
  },
  {
   "cell_type": "code",
   "execution_count": 59,
   "id": "8e7de66e",
   "metadata": {},
   "outputs": [],
   "source": [
    "            # code_collapsed_ind is used for PSMLP\n",
    "            code_collapsed_ind = torch.Tensor(code_collapsed_ind)\n",
    "            code_collapsed_ind += 1 # padding_idx=0 is reserved\n",
    "            code_collapsed_ind = code_collapsed_ind.long()"
   ]
  },
  {
   "cell_type": "code",
   "execution_count": 61,
   "id": "e6ccd5cd",
   "metadata": {},
   "outputs": [],
   "source": [
    "dependency_distance = calculate_dependency_distance(code_binary, SinusitisPatientRecord.temporal_confounding_var_idx, \n",
    "                                                    SinusitisPatientRecord.fixed_confounding_var_idx)"
   ]
  },
  {
   "cell_type": "code",
   "execution_count": 62,
   "id": "4eea18b5",
   "metadata": {},
   "outputs": [
    {
     "data": {
      "text/plain": [
       "5"
      ]
     },
     "execution_count": 62,
     "metadata": {},
     "output_type": "execute_result"
    }
   ],
   "source": [
    "dependency_distance"
   ]
  },
  {
   "cell_type": "code",
   "execution_count": 66,
   "id": "86d2f194",
   "metadata": {},
   "outputs": [],
   "source": [
    "propensity_score = generate_dependency_distance_treatment_prob(dependency_distance, SinusitisPatientRecord.params[\"ps_noise_var\"])\n",
    "treatment_assignment = np.random.binomial(1, propensity_score.item())\n",
    "outcome = generate_dependency_distance_confounding_outcome(SinusitisPatientRecord.params[\"treatment_effect\"], treatment_assignment, \n",
    "                                                     SinusitisPatientRecord.params[\"alpha\"], SinusitisPatientRecord.params[\"bias\"], dependency_distance, SinusitisPatientRecord.params[\"outcome_noise_var\"])\n",
    "            "
   ]
  },
  {
   "cell_type": "code",
   "execution_count": 67,
   "id": "cafbfb81",
   "metadata": {},
   "outputs": [
    {
     "data": {
      "text/plain": [
       "tensor(0.4247, dtype=torch.float64)"
      ]
     },
     "execution_count": 67,
     "metadata": {},
     "output_type": "execute_result"
    }
   ],
   "source": [
    "propensity_score"
   ]
  },
  {
   "cell_type": "code",
   "execution_count": 117,
   "id": "a29a0d93",
   "metadata": {},
   "outputs": [],
   "source": [
    "def generate_dependency_distance_treatment_prob_(dependency_distance, noise_var):\n",
    "\n",
    "    noise = np.random.normal(0, noise_var)\n",
    "\n",
    "    distance_effect = 2*np.log10(10/((dependency_distance**2.5)))\n",
    "    treatment_prob = torch.sigmoid(torch.tensor(distance_effect)) + noise\n",
    "    treatment_prob = torch.clip(treatment_prob, 0.01, 0.99)\n",
    "    \n",
    "    return treatment_prob"
   ]
  },
  {
   "cell_type": "code",
   "execution_count": null,
   "id": "963c8881",
   "metadata": {},
   "outputs": [],
   "source": []
  },
  {
   "cell_type": "code",
   "execution_count": 25,
   "id": "11e9e736",
   "metadata": {},
   "outputs": [
    {
     "name": "stderr",
     "output_type": "stream",
     "text": [
      "100%|████████████████████████████████████████████████████████████████████████████| 6864/6864 [00:05<00:00, 1217.79it/s]\n"
     ]
    }
   ],
   "source": [
    "SinusitisPatientRecord.process_record()"
   ]
  },
  {
   "cell_type": "code",
   "execution_count": 33,
   "id": "043caa11",
   "metadata": {},
   "outputs": [
    {
     "name": "stdout",
     "output_type": "stream",
     "text": [
      "splitting 1-fold\n",
      "fold size: 1372\n",
      "splitting 2-fold\n",
      "fold size: 1372\n",
      "splitting 3-fold\n",
      "fold size: 1372\n",
      "splitting 4-fold\n",
      "fold size: 1372\n",
      "splitting 5-fold\n",
      "fold size: 1372\n"
     ]
    }
   ],
   "source": [
    "SinusitisPatientRecord.split_record_nfold(5)"
   ]
  },
  {
   "cell_type": "code",
   "execution_count": 30,
   "id": "ae85418f",
   "metadata": {},
   "outputs": [],
   "source": [
    "def get_ps_distribution(patient_record):\n",
    "    \n",
    "    treated_ps = []\n",
    "    control_ps = []\n",
    "    \n",
    "    for pid, item in tqdm(patient_record.items()):\n",
    "                \n",
    "        if item[\"treatment_assignment\"] == 1:\n",
    "            treated_ps.append(item[\"treatment_prob\"])\n",
    "        else:\n",
    "            control_ps.append(item[\"treatment_prob\"])\n",
    "            \n",
    "    return treated_ps, control_ps"
   ]
  },
  {
   "cell_type": "code",
   "execution_count": 31,
   "id": "f1714273",
   "metadata": {},
   "outputs": [
    {
     "name": "stderr",
     "output_type": "stream",
     "text": [
      "100%|██████████████████████████████████████████████████████████████████████████| 6864/6864 [00:00<00:00, 834580.90it/s]\n"
     ]
    }
   ],
   "source": [
    "treated_ps, control_ps = get_ps_distribution(SinusitisPatientRecord.patient_record)"
   ]
  },
  {
   "cell_type": "code",
   "execution_count": 32,
   "id": "16b08ea0",
   "metadata": {},
   "outputs": [
    {
     "data": {
      "text/plain": [
       "(array([  7.,  16.,  35.,  58.,  58.,  89.,  96.,  25., 138., 188.,  18.,\n",
       "          0.,  52., 356., 223.,   6.,   0.,   0.,   0.,   1., 135., 568.,\n",
       "        223.,   2.,   0.,   0.,   0.,   0.,   0.,   0.,   0.,   0.,  62.,\n",
       "        448., 295.,  14.,   0.,   0.,   0.,   0.,   0.,   0.,   0.,   0.,\n",
       "          0.,   0.,   1.,  34., 102.,  27.]),\n",
       " array([0.02260284, 0.04031549, 0.05802813, 0.07574078, 0.09345343,\n",
       "        0.11116607, 0.12887872, 0.14659137, 0.16430402, 0.18201666,\n",
       "        0.19972931, 0.21744196, 0.2351546 , 0.25286725, 0.2705799 ,\n",
       "        0.28829254, 0.30600519, 0.32371784, 0.34143049, 0.35914313,\n",
       "        0.37685578, 0.39456843, 0.41228107, 0.42999372, 0.44770637,\n",
       "        0.46541902, 0.48313166, 0.50084431, 0.51855696, 0.5362696 ,\n",
       "        0.55398225, 0.5716949 , 0.58940755, 0.60712019, 0.62483284,\n",
       "        0.64254549, 0.66025813, 0.67797078, 0.69568343, 0.71339608,\n",
       "        0.73110872, 0.74882137, 0.76653402, 0.78424666, 0.80195931,\n",
       "        0.81967196, 0.8373846 , 0.85509725, 0.8728099 , 0.89052255,\n",
       "        0.90823519]),\n",
       " <BarContainer object of 50 artists>)"
      ]
     },
     "execution_count": 32,
     "metadata": {},
     "output_type": "execute_result"
    },
    {
     "data": {
      "image/png": "[encoded data removed]",
      "text/plain": [
       "<Figure size 640x480 with 1 Axes>"
      ]
     },
     "metadata": {},
     "output_type": "display_data"
    }
   ],
   "source": [
    "plt.hist(treated_ps, density=False, bins=50, alpha=0.3)\n",
    "plt.hist(control_ps, density=False, bins=50, alpha=0.3)"
   ]
  },
  {
   "cell_type": "code",
   "execution_count": null,
   "id": "1b608d9a",
   "metadata": {},
   "outputs": [],
   "source": []
  },
  {
   "cell_type": "code",
   "execution_count": null,
   "id": "dd1a033e",
   "metadata": {},
   "outputs": [],
   "source": []
  },
  {
   "cell_type": "code",
   "execution_count": 34,
   "id": "7c7b705c",
   "metadata": {},
   "outputs": [],
   "source": [
    "SinusitisPatientRecord.save_record(\"C:/Users/jayao/Desktop/python_projects/transformer_propensity/data/synthea/\")"
   ]
  },
  {
   "cell_type": "code",
   "execution_count": 35,
   "id": "18326c55",
   "metadata": {},
   "outputs": [],
   "source": [
    "SinusitisPatientRecord.save_record_nfold(\"C:/Users/jayao/Desktop/python_projects/transformer_propensity/data/synthea/\")"
   ]
  },
  {
   "cell_type": "code",
   "execution_count": 36,
   "id": "254ae1e7",
   "metadata": {},
   "outputs": [],
   "source": [
    "SinusitisPatientRecord.save_params(\"C:/Users/jayao/Desktop/python_projects/transformer_propensity/data/synthea/\")"
   ]
  },
  {
   "cell_type": "code",
   "execution_count": 37,
   "id": "92456ec1",
   "metadata": {},
   "outputs": [],
   "source": [
    "SinusitisPatientRecord.rebuild_code_dict(\"C:/Users/jayao/Desktop/python_projects/transformer_propensity/data/synthea/\")"
   ]
  }
 ],
 "metadata": {
  "kernelspec": {
   "display_name": "transformer_propensity",
   "language": "python",
   "name": "transformer_propensity"
  },
  "language_info": {
   "codemirror_mode": {
    "name": "ipython",
    "version": 3
   },
   "file_extension": ".py",
   "mimetype": "text/x-python",
   "name": "python",
   "nbconvert_exporter": "python",
   "pygments_lexer": "ipython3",
   "version": "3.9.13"
  }
 },
 "nbformat": 4,
 "nbformat_minor": 5
}
